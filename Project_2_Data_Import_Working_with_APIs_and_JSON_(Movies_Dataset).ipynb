{
  "nbformat": 4,
  "nbformat_minor": 0,
  "metadata": {
    "colab": {
      "name": "Project 2: Data Import - Working with APIs and JSON (Movies Dataset).ipynb",
      "provenance": [],
      "mount_file_id": "1aV4iLVyUSlFYjyP45aDzilqOu15thicC",
      "authorship_tag": "ABX9TyM6JHll4M2KoSBH0c+j1m+Y",
      "include_colab_link": true
    },
    "kernelspec": {
      "name": "python3",
      "display_name": "Python 3"
    },
    "language_info": {
      "name": "python"
    }
  },
  "cells": [
    {
      "cell_type": "markdown",
      "metadata": {
        "id": "view-in-github",
        "colab_type": "text"
      },
      "source": [
        "<a href=\"https://colab.research.google.com/github/Aboubacar2012/Data_Analysis_Project/blob/main/Project_2_Data_Import_Working_with_APIs_and_JSON_(Movies_Dataset).ipynb\" target=\"_parent\"><img src=\"https://colab.research.google.com/assets/colab-badge.svg\" alt=\"Open In Colab\"/></a>"
      ]
    },
    {
      "cell_type": "markdown",
      "metadata": {
        "id": "Hv5-6s3M7FMR"
      },
      "source": [
        "####Pulling Data from Web"
      ]
    },
    {
      "cell_type": "markdown",
      "metadata": {
        "id": "0Qo1g1vl7W8n"
      },
      "source": [
        "#####DATA Import - JSON Files"
      ]
    },
    {
      "cell_type": "markdown",
      "metadata": {
        "id": "m9HgghuP8fvu"
      },
      "source": [
        "######Importing Data from JSON files "
      ]
    },
    {
      "cell_type": "markdown",
      "metadata": {
        "id": "PpbZ4_wb8m43"
      },
      "source": [
        "######1.Import the json files blockbusters.json, blockbusters2.json, blockbusters.json and load datasets into pandas DataFRame"
      ]
    },
    {
      "cell_type": "code",
      "metadata": {
        "id": "Ny9xaduo61MT"
      },
      "source": [
        ""
      ],
      "execution_count": 1,
      "outputs": []
    },
    {
      "cell_type": "markdown",
      "metadata": {
        "id": "-Be_53Gr9BBE"
      },
      "source": [
        "####Working with APIs and JSON (Part 1)"
      ]
    },
    {
      "cell_type": "markdown",
      "metadata": {
        "id": "ta2Sntsn9Hu8"
      },
      "source": [
        "######2.Create an account on https://www.themoviedb.org"
      ]
    },
    {
      "cell_type": "markdown",
      "metadata": {
        "id": "OszR9LUZ9XrV"
      },
      "source": [
        "######3.Get your personal API KEY"
      ]
    },
    {
      "cell_type": "markdown",
      "metadata": {
        "id": "VQNI3eAk9dRQ"
      },
      "source": [
        "######4.API-Request(movie module):Load all available information of the movie with movie id=140607 into a pendas dataframe\n",
        "See https://developers.themoviedb.org/3/movies/get-movie-details for more information"
      ]
    },
    {
      "cell_type": "code",
      "metadata": {
        "id": "R60DrxTz9FU3"
      },
      "source": [
        ""
      ],
      "execution_count": 1,
      "outputs": []
    },
    {
      "cell_type": "markdown",
      "metadata": {
        "id": "tZp-GfYh94Fu"
      },
      "source": [
        "#####Working with APIs and JSON(Part 2)"
      ]
    },
    {
      "cell_type": "markdown",
      "metadata": {
        "id": "miV2lz45_jds"
      },
      "source": [
        "######5.API-Request (discover module):Load all movies with release data between 2020-01-01 and 2020-02-29 into a Pendas DataFrame.\n",
        "See https://wwww.themoviedb.org/documentation/api/discover and https://developers.themoviedb.org/3/discover/movie-discover for information"
      ]
    },
    {
      "cell_type": "code",
      "metadata": {
        "id": "ADAdqKPl98Y1"
      },
      "source": [
        ""
      ],
      "execution_count": 1,
      "outputs": []
    },
    {
      "cell_type": "markdown",
      "metadata": {
        "id": "xaZIbMjmAHQg"
      },
      "source": [
        "######Importing and Saving the Movies DataSet(Best Practice)"
      ]
    },
    {
      "cell_type": "markdown",
      "metadata": {
        "id": "Zc0Iz2zRAXWP"
      },
      "source": [
        "######6.API-Request (movie module) : Load all available information for the movies with movie id=[299534, 199995,140607, 299536, 597, 135397, 420818, 24428, 168259, 99861, 284054, 12445, 181808, 330457, 351286, 109445, 321612, 260513] into a Pandas DataFrame and save the dataset in a local json file "
      ]
    },
    {
      "cell_type": "markdown",
      "metadata": {
        "id": "u9ykJ71QB6k_"
      },
      "source": [
        "##CASE O2 : DATA Import - Working with Web APIs and JSON (Movie Dataset)"
      ]
    },
    {
      "cell_type": "markdown",
      "metadata": {
        "id": "rfmEriqFCD1k"
      },
      "source": [
        "#####Importing Data from JSON files"
      ]
    },
    {
      "cell_type": "code",
      "metadata": {
        "id": "TlbbKPjZAM1i"
      },
      "source": [
        "import pandas as pd\n",
        "import json"
      ],
      "execution_count": 2,
      "outputs": []
    },
    {
      "cell_type": "code",
      "metadata": {
        "id": "I4q3LAL3CKQN"
      },
      "source": [
        "#Methode 1 : Loading Json file \n",
        "with open('/content/drive/MyDrive/ml_data/MOVIES/Project_02/blockbusters.json') as f:\n",
        "  data=json.load(f)"
      ],
      "execution_count": 3,
      "outputs": []
    },
    {
      "cell_type": "code",
      "metadata": {
        "colab": {
          "base_uri": "https://localhost:8080/"
        },
        "id": "xweAXut2Cc6r",
        "outputId": "1ee5903a-ff8e-48ff-f1ad-b24eaa5115cd"
      },
      "source": [
        "data"
      ],
      "execution_count": 4,
      "outputs": [
        {
          "output_type": "execute_result",
          "data": {
            "text/plain": [
              "[{'belongs_to_collection': {'backdrop_path': '/zuW6fOiusv4X9nnW3paHGfXcSll.jpg',\n",
              "   'id': 86311,\n",
              "   'name': 'The Avengers Collection',\n",
              "   'poster_path': '/yFSIUVTCvgYrpalUktulvk3Gi5Y.jpg'},\n",
              "  'genres': [{'id': 12, 'name': 'Adventure'},\n",
              "   {'id': 878, 'name': 'Science Fiction'},\n",
              "   {'id': 28, 'name': 'Action'}],\n",
              "  'id': 299534,\n",
              "  'revenue': 2797800564,\n",
              "  'runtime': 181,\n",
              "  'title': 'Avengers: Endgame'},\n",
              " {'belongs_to_collection': {'backdrop_path': '/8nCr9W7sKus2q9PLbYsnT7iCkuT.jpg',\n",
              "   'id': 87096,\n",
              "   'name': 'Avatar Collection',\n",
              "   'poster_path': '/nslJVsO58Etqkk17oXMuVK4gNOF.jpg'},\n",
              "  'genres': [{'id': 28, 'name': 'Action'},\n",
              "   {'id': 12, 'name': 'Adventure'},\n",
              "   {'id': 14, 'name': 'Fantasy'},\n",
              "   {'id': 878, 'name': 'Science Fiction'}],\n",
              "  'id': 19995,\n",
              "  'revenue': 2787965087,\n",
              "  'runtime': 162,\n",
              "  'title': 'Avatar'},\n",
              " {'belongs_to_collection': {'backdrop_path': '/d8duYyyC9J5T825Hg7grmaabfxQ.jpg',\n",
              "   'id': 10,\n",
              "   'name': 'Star Wars Collection',\n",
              "   'poster_path': '/iTQHKziZy9pAAY4hHEDCGPaOvFC.jpg'},\n",
              "  'genres': [{'id': 28, 'name': 'Action'},\n",
              "   {'id': 12, 'name': 'Adventure'},\n",
              "   {'id': 878, 'name': 'Science Fiction'},\n",
              "   {'id': 14, 'name': 'Fantasy'}],\n",
              "  'id': 140607,\n",
              "  'revenue': 2068223624,\n",
              "  'runtime': 136,\n",
              "  'title': 'Star Wars: The Force Awakens'},\n",
              " {'belongs_to_collection': {'backdrop_path': '/zuW6fOiusv4X9nnW3paHGfXcSll.jpg',\n",
              "   'id': 86311,\n",
              "   'name': 'The Avengers Collection',\n",
              "   'poster_path': '/yFSIUVTCvgYrpalUktulvk3Gi5Y.jpg'},\n",
              "  'genres': [{'id': 12, 'name': 'Adventure'},\n",
              "   {'id': 28, 'name': 'Action'},\n",
              "   {'id': 878, 'name': 'Science Fiction'}],\n",
              "  'id': 299536,\n",
              "  'revenue': 2046239637,\n",
              "  'runtime': 149,\n",
              "  'title': 'Avengers: Infinity War'},\n",
              " {'belongs_to_collection': None,\n",
              "  'genres': [{'id': 18, 'name': 'Drama'},\n",
              "   {'id': 10749, 'name': 'Romance'},\n",
              "   {'id': 53, 'name': 'Thriller'}],\n",
              "  'id': 597,\n",
              "  'revenue': 1845034188,\n",
              "  'runtime': 194,\n",
              "  'title': 'Titanic'},\n",
              " {'belongs_to_collection': {'backdrop_path': '/pJjIH9QN0OkHFV9eue6XfRVnPkr.jpg',\n",
              "   'id': 328,\n",
              "   'name': 'Jurassic Park Collection',\n",
              "   'poster_path': '/qIm2nHXLpBBdMxi8dvfrnDkBUDh.jpg'},\n",
              "  'genres': [{'id': 28, 'name': 'Action'},\n",
              "   {'id': 12, 'name': 'Adventure'},\n",
              "   {'id': 878, 'name': 'Science Fiction'},\n",
              "   {'id': 53, 'name': 'Thriller'}],\n",
              "  'id': 135397,\n",
              "  'revenue': 1671713208,\n",
              "  'runtime': 124,\n",
              "  'title': 'Jurassic World'},\n",
              " {'belongs_to_collection': None,\n",
              "  'genres': [{'id': 12, 'name': 'Adventure'}, {'id': 10751, 'name': 'Family'}],\n",
              "  'id': 420818,\n",
              "  'revenue': 1656943394,\n",
              "  'runtime': 118,\n",
              "  'title': 'The Lion King'},\n",
              " {'belongs_to_collection': {'backdrop_path': '/zuW6fOiusv4X9nnW3paHGfXcSll.jpg',\n",
              "   'id': 86311,\n",
              "   'name': 'The Avengers Collection',\n",
              "   'poster_path': '/yFSIUVTCvgYrpalUktulvk3Gi5Y.jpg'},\n",
              "  'genres': [{'id': 878, 'name': 'Science Fiction'},\n",
              "   {'id': 28, 'name': 'Action'},\n",
              "   {'id': 12, 'name': 'Adventure'}],\n",
              "  'id': 24428,\n",
              "  'revenue': 1519557910,\n",
              "  'runtime': 143,\n",
              "  'title': 'The Avengers'},\n",
              " {'belongs_to_collection': {'backdrop_path': '/z5A5W3WYJc3UVEWljSGwdjDgQ0j.jpg',\n",
              "   'id': 9485,\n",
              "   'name': 'The Fast and the Furious Collection',\n",
              "   'poster_path': '/uv63yAGg1zETAs1XQsOQpava87l.jpg'},\n",
              "  'genres': [{'id': 28, 'name': 'Action'}, {'id': 53, 'name': 'Thriller'}],\n",
              "  'id': 168259,\n",
              "  'revenue': 1506249360,\n",
              "  'runtime': 137,\n",
              "  'title': 'Furious 7'},\n",
              " {'belongs_to_collection': {'backdrop_path': '/zuW6fOiusv4X9nnW3paHGfXcSll.jpg',\n",
              "   'id': 86311,\n",
              "   'name': 'The Avengers Collection',\n",
              "   'poster_path': '/yFSIUVTCvgYrpalUktulvk3Gi5Y.jpg'},\n",
              "  'genres': [{'id': 28, 'name': 'Action'},\n",
              "   {'id': 12, 'name': 'Adventure'},\n",
              "   {'id': 878, 'name': 'Science Fiction'}],\n",
              "  'id': 99861,\n",
              "  'revenue': 1405403694,\n",
              "  'runtime': 141,\n",
              "  'title': 'Avengers: Age of Ultron'},\n",
              " {'belongs_to_collection': {'backdrop_path': '/1Jj7Frjjbewb6Q6dl6YXhL3kuvL.jpg',\n",
              "   'id': 529892,\n",
              "   'name': 'Black Panther Collection',\n",
              "   'poster_path': '/9ZSPIsxI3TZDgfg0Jzk0RZl4INg.jpg'},\n",
              "  'genres': [{'id': 28, 'name': 'Action'},\n",
              "   {'id': 12, 'name': 'Adventure'},\n",
              "   {'id': 14, 'name': 'Fantasy'},\n",
              "   {'id': 878, 'name': 'Science Fiction'}],\n",
              "  'id': 284054,\n",
              "  'revenue': 1346739107,\n",
              "  'runtime': 134,\n",
              "  'title': 'Black Panther'},\n",
              " {'belongs_to_collection': {'backdrop_path': '/wfnMt6LGqYHcNyOfsuusw5lX3bL.jpg',\n",
              "   'id': 1241,\n",
              "   'name': 'Harry Potter Collection',\n",
              "   'poster_path': '/eVPs2Y0LyvTLZn6AP5Z6O2rtiGB.jpg'},\n",
              "  'genres': [{'id': 14, 'name': 'Fantasy'}, {'id': 12, 'name': 'Adventure'}],\n",
              "  'id': 12445,\n",
              "  'revenue': 1341511219,\n",
              "  'runtime': 130,\n",
              "  'title': 'Harry Potter and the Deathly Hallows: Part 2'},\n",
              " {'belongs_to_collection': {'backdrop_path': '/d8duYyyC9J5T825Hg7grmaabfxQ.jpg',\n",
              "   'id': 10,\n",
              "   'name': 'Star Wars Collection',\n",
              "   'poster_path': '/iTQHKziZy9pAAY4hHEDCGPaOvFC.jpg'},\n",
              "  'genres': [{'id': 14, 'name': 'Fantasy'},\n",
              "   {'id': 12, 'name': 'Adventure'},\n",
              "   {'id': 878, 'name': 'Science Fiction'},\n",
              "   {'id': 28, 'name': 'Action'}],\n",
              "  'id': 181808,\n",
              "  'revenue': 1332539889,\n",
              "  'runtime': 152,\n",
              "  'title': 'Star Wars: The Last Jedi'},\n",
              " {'belongs_to_collection': {'backdrop_path': '/vZiqhw6oFoMlHSneIdVip9rRou2.jpg',\n",
              "   'id': 386382,\n",
              "   'name': 'Frozen Collection',\n",
              "   'poster_path': '/rpoXnE9UzCbjmINhxIi8bZF557B.jpg'},\n",
              "  'genres': [{'id': 16, 'name': 'Animation'},\n",
              "   {'id': 10751, 'name': 'Family'},\n",
              "   {'id': 12, 'name': 'Adventure'}],\n",
              "  'id': 330457,\n",
              "  'revenue': 1330764959,\n",
              "  'runtime': 104,\n",
              "  'title': 'Frozen II'},\n",
              " {'belongs_to_collection': {'backdrop_path': '/pJjIH9QN0OkHFV9eue6XfRVnPkr.jpg',\n",
              "   'id': 328,\n",
              "   'name': 'Jurassic Park Collection',\n",
              "   'poster_path': '/qIm2nHXLpBBdMxi8dvfrnDkBUDh.jpg'},\n",
              "  'genres': [{'id': 28, 'name': 'Action'},\n",
              "   {'id': 12, 'name': 'Adventure'},\n",
              "   {'id': 878, 'name': 'Science Fiction'}],\n",
              "  'id': 351286,\n",
              "  'revenue': 1303459585,\n",
              "  'runtime': 129,\n",
              "  'title': 'Jurassic World: Fallen Kingdom'},\n",
              " {'belongs_to_collection': {'backdrop_path': '/vZiqhw6oFoMlHSneIdVip9rRou2.jpg',\n",
              "   'id': 386382,\n",
              "   'name': 'Frozen Collection',\n",
              "   'poster_path': '/rpoXnE9UzCbjmINhxIi8bZF557B.jpg'},\n",
              "  'genres': [{'id': 16, 'name': 'Animation'},\n",
              "   {'id': 12, 'name': 'Adventure'},\n",
              "   {'id': 10751, 'name': 'Family'}],\n",
              "  'id': 109445,\n",
              "  'revenue': 1274219009,\n",
              "  'runtime': 102,\n",
              "  'title': 'Frozen'},\n",
              " {'belongs_to_collection': None,\n",
              "  'genres': [{'id': 10751, 'name': 'Family'},\n",
              "   {'id': 14, 'name': 'Fantasy'},\n",
              "   {'id': 10749, 'name': 'Romance'}],\n",
              "  'id': 321612,\n",
              "  'revenue': 1263521126,\n",
              "  'runtime': 129,\n",
              "  'title': 'Beauty and the Beast'},\n",
              " {'belongs_to_collection': {'backdrop_path': '/9eDW2dVhnzPS2HvaRdK2OlAGaLq.jpg',\n",
              "   'id': 468222,\n",
              "   'name': 'The Incredibles Collection',\n",
              "   'poster_path': '/l7GqbzkJwowYRIXAtUz2iCPi64a.jpg'},\n",
              "  'genres': [{'id': 28, 'name': 'Action'},\n",
              "   {'id': 12, 'name': 'Adventure'},\n",
              "   {'id': 16, 'name': 'Animation'},\n",
              "   {'id': 10751, 'name': 'Family'}],\n",
              "  'id': 260513,\n",
              "  'revenue': 1241891456,\n",
              "  'runtime': 118,\n",
              "  'title': 'Incredibles 2'}]"
            ]
          },
          "metadata": {},
          "execution_count": 4
        }
      ]
    },
    {
      "cell_type": "code",
      "metadata": {
        "colab": {
          "base_uri": "https://localhost:8080/"
        },
        "id": "UbRhC-ssCe_Z",
        "outputId": "75057ef2-bd8d-4c7a-bd0c-2f1a413ff13a"
      },
      "source": [
        "#Type\n",
        "type(data)"
      ],
      "execution_count": 5,
      "outputs": [
        {
          "output_type": "execute_result",
          "data": {
            "text/plain": [
              "list"
            ]
          },
          "metadata": {},
          "execution_count": 5
        }
      ]
    },
    {
      "cell_type": "code",
      "metadata": {
        "colab": {
          "base_uri": "https://localhost:8080/"
        },
        "id": "q4TvfWaaChb1",
        "outputId": "85b5be49-909c-48cc-d3fb-3bfec647c80b"
      },
      "source": [
        "#Number element\n",
        "len(data)"
      ],
      "execution_count": 6,
      "outputs": [
        {
          "output_type": "execute_result",
          "data": {
            "text/plain": [
              "18"
            ]
          },
          "metadata": {},
          "execution_count": 6
        }
      ]
    },
    {
      "cell_type": "code",
      "metadata": {
        "colab": {
          "base_uri": "https://localhost:8080/"
        },
        "id": "Z_BWF8HKCi6x",
        "outputId": "8f20bd7c-ac22-40d4-85b8-1859a1891ffa"
      },
      "source": [
        "# Dictionnary \n",
        "data[0]"
      ],
      "execution_count": 7,
      "outputs": [
        {
          "output_type": "execute_result",
          "data": {
            "text/plain": [
              "{'belongs_to_collection': {'backdrop_path': '/zuW6fOiusv4X9nnW3paHGfXcSll.jpg',\n",
              "  'id': 86311,\n",
              "  'name': 'The Avengers Collection',\n",
              "  'poster_path': '/yFSIUVTCvgYrpalUktulvk3Gi5Y.jpg'},\n",
              " 'genres': [{'id': 12, 'name': 'Adventure'},\n",
              "  {'id': 878, 'name': 'Science Fiction'},\n",
              "  {'id': 28, 'name': 'Action'}],\n",
              " 'id': 299534,\n",
              " 'revenue': 2797800564,\n",
              " 'runtime': 181,\n",
              " 'title': 'Avengers: Endgame'}"
            ]
          },
          "metadata": {},
          "execution_count": 7
        }
      ]
    },
    {
      "cell_type": "code",
      "metadata": {
        "id": "X4YRMUGqCk7n"
      },
      "source": [
        "#Convert dictionnary into dataframe\n",
        "df=pd.DataFrame(data)"
      ],
      "execution_count": 8,
      "outputs": []
    },
    {
      "cell_type": "code",
      "metadata": {
        "colab": {
          "base_uri": "https://localhost:8080/",
          "height": 289
        },
        "id": "4BJaQZkOCohB",
        "outputId": "42b44f6e-0d01-4a9a-e476-9b8d931961ac"
      },
      "source": [
        "df.head()"
      ],
      "execution_count": 9,
      "outputs": [
        {
          "output_type": "execute_result",
          "data": {
            "text/html": [
              "<div>\n",
              "<style scoped>\n",
              "    .dataframe tbody tr th:only-of-type {\n",
              "        vertical-align: middle;\n",
              "    }\n",
              "\n",
              "    .dataframe tbody tr th {\n",
              "        vertical-align: top;\n",
              "    }\n",
              "\n",
              "    .dataframe thead th {\n",
              "        text-align: right;\n",
              "    }\n",
              "</style>\n",
              "<table border=\"1\" class=\"dataframe\">\n",
              "  <thead>\n",
              "    <tr style=\"text-align: right;\">\n",
              "      <th></th>\n",
              "      <th>title</th>\n",
              "      <th>id</th>\n",
              "      <th>revenue</th>\n",
              "      <th>genres</th>\n",
              "      <th>belongs_to_collection</th>\n",
              "      <th>runtime</th>\n",
              "    </tr>\n",
              "  </thead>\n",
              "  <tbody>\n",
              "    <tr>\n",
              "      <th>0</th>\n",
              "      <td>Avengers: Endgame</td>\n",
              "      <td>299534</td>\n",
              "      <td>2797800564</td>\n",
              "      <td>[{'id': 12, 'name': 'Adventure'}, {'id': 878, ...</td>\n",
              "      <td>{'id': 86311, 'name': 'The Avengers Collection...</td>\n",
              "      <td>181</td>\n",
              "    </tr>\n",
              "    <tr>\n",
              "      <th>1</th>\n",
              "      <td>Avatar</td>\n",
              "      <td>19995</td>\n",
              "      <td>2787965087</td>\n",
              "      <td>[{'id': 28, 'name': 'Action'}, {'id': 12, 'nam...</td>\n",
              "      <td>{'id': 87096, 'name': 'Avatar Collection', 'po...</td>\n",
              "      <td>162</td>\n",
              "    </tr>\n",
              "    <tr>\n",
              "      <th>2</th>\n",
              "      <td>Star Wars: The Force Awakens</td>\n",
              "      <td>140607</td>\n",
              "      <td>2068223624</td>\n",
              "      <td>[{'id': 28, 'name': 'Action'}, {'id': 12, 'nam...</td>\n",
              "      <td>{'id': 10, 'name': 'Star Wars Collection', 'po...</td>\n",
              "      <td>136</td>\n",
              "    </tr>\n",
              "    <tr>\n",
              "      <th>3</th>\n",
              "      <td>Avengers: Infinity War</td>\n",
              "      <td>299536</td>\n",
              "      <td>2046239637</td>\n",
              "      <td>[{'id': 12, 'name': 'Adventure'}, {'id': 28, '...</td>\n",
              "      <td>{'id': 86311, 'name': 'The Avengers Collection...</td>\n",
              "      <td>149</td>\n",
              "    </tr>\n",
              "    <tr>\n",
              "      <th>4</th>\n",
              "      <td>Titanic</td>\n",
              "      <td>597</td>\n",
              "      <td>1845034188</td>\n",
              "      <td>[{'id': 18, 'name': 'Drama'}, {'id': 10749, 'n...</td>\n",
              "      <td>None</td>\n",
              "      <td>194</td>\n",
              "    </tr>\n",
              "  </tbody>\n",
              "</table>\n",
              "</div>"
            ],
            "text/plain": [
              "                          title  ...  runtime\n",
              "0             Avengers: Endgame  ...      181\n",
              "1                        Avatar  ...      162\n",
              "2  Star Wars: The Force Awakens  ...      136\n",
              "3        Avengers: Infinity War  ...      149\n",
              "4                       Titanic  ...      194\n",
              "\n",
              "[5 rows x 6 columns]"
            ]
          },
          "metadata": {},
          "execution_count": 9
        }
      ]
    },
    {
      "cell_type": "code",
      "metadata": {
        "id": "jNjvsTwqCsN-"
      },
      "source": [
        "#Methode 2 : Loading Json file \n",
        "df_json=pd.read_json('/content/drive/MyDrive/ml_data/MOVIES/Project_02/blockbusters.json')"
      ],
      "execution_count": 10,
      "outputs": []
    },
    {
      "cell_type": "code",
      "metadata": {
        "colab": {
          "base_uri": "https://localhost:8080/",
          "height": 289
        },
        "id": "nhshx8HqEBkJ",
        "outputId": "d2bfdb18-69a1-4723-9aa5-db38c6584f69"
      },
      "source": [
        "df_json.head()"
      ],
      "execution_count": 11,
      "outputs": [
        {
          "output_type": "execute_result",
          "data": {
            "text/html": [
              "<div>\n",
              "<style scoped>\n",
              "    .dataframe tbody tr th:only-of-type {\n",
              "        vertical-align: middle;\n",
              "    }\n",
              "\n",
              "    .dataframe tbody tr th {\n",
              "        vertical-align: top;\n",
              "    }\n",
              "\n",
              "    .dataframe thead th {\n",
              "        text-align: right;\n",
              "    }\n",
              "</style>\n",
              "<table border=\"1\" class=\"dataframe\">\n",
              "  <thead>\n",
              "    <tr style=\"text-align: right;\">\n",
              "      <th></th>\n",
              "      <th>title</th>\n",
              "      <th>id</th>\n",
              "      <th>revenue</th>\n",
              "      <th>genres</th>\n",
              "      <th>belongs_to_collection</th>\n",
              "      <th>runtime</th>\n",
              "    </tr>\n",
              "  </thead>\n",
              "  <tbody>\n",
              "    <tr>\n",
              "      <th>0</th>\n",
              "      <td>Avengers: Endgame</td>\n",
              "      <td>299534</td>\n",
              "      <td>2797800564</td>\n",
              "      <td>[{'id': 12, 'name': 'Adventure'}, {'id': 878, ...</td>\n",
              "      <td>{'id': 86311, 'name': 'The Avengers Collection...</td>\n",
              "      <td>181</td>\n",
              "    </tr>\n",
              "    <tr>\n",
              "      <th>1</th>\n",
              "      <td>Avatar</td>\n",
              "      <td>19995</td>\n",
              "      <td>2787965087</td>\n",
              "      <td>[{'id': 28, 'name': 'Action'}, {'id': 12, 'nam...</td>\n",
              "      <td>{'id': 87096, 'name': 'Avatar Collection', 'po...</td>\n",
              "      <td>162</td>\n",
              "    </tr>\n",
              "    <tr>\n",
              "      <th>2</th>\n",
              "      <td>Star Wars: The Force Awakens</td>\n",
              "      <td>140607</td>\n",
              "      <td>2068223624</td>\n",
              "      <td>[{'id': 28, 'name': 'Action'}, {'id': 12, 'nam...</td>\n",
              "      <td>{'id': 10, 'name': 'Star Wars Collection', 'po...</td>\n",
              "      <td>136</td>\n",
              "    </tr>\n",
              "    <tr>\n",
              "      <th>3</th>\n",
              "      <td>Avengers: Infinity War</td>\n",
              "      <td>299536</td>\n",
              "      <td>2046239637</td>\n",
              "      <td>[{'id': 12, 'name': 'Adventure'}, {'id': 28, '...</td>\n",
              "      <td>{'id': 86311, 'name': 'The Avengers Collection...</td>\n",
              "      <td>149</td>\n",
              "    </tr>\n",
              "    <tr>\n",
              "      <th>4</th>\n",
              "      <td>Titanic</td>\n",
              "      <td>597</td>\n",
              "      <td>1845034188</td>\n",
              "      <td>[{'id': 18, 'name': 'Drama'}, {'id': 10749, 'n...</td>\n",
              "      <td>None</td>\n",
              "      <td>194</td>\n",
              "    </tr>\n",
              "  </tbody>\n",
              "</table>\n",
              "</div>"
            ],
            "text/plain": [
              "                          title  ...  runtime\n",
              "0             Avengers: Endgame  ...      181\n",
              "1                        Avatar  ...      162\n",
              "2  Star Wars: The Force Awakens  ...      136\n",
              "3        Avengers: Infinity War  ...      149\n",
              "4                       Titanic  ...      194\n",
              "\n",
              "[5 rows x 6 columns]"
            ]
          },
          "metadata": {},
          "execution_count": 11
        }
      ]
    },
    {
      "cell_type": "code",
      "metadata": {
        "colab": {
          "base_uri": "https://localhost:8080/"
        },
        "id": "-_GXWl7DEGUl",
        "outputId": "ecdba664-903b-48a0-fa73-8951bf20c6a8"
      },
      "source": [
        "df.info()"
      ],
      "execution_count": 12,
      "outputs": [
        {
          "output_type": "stream",
          "name": "stdout",
          "text": [
            "<class 'pandas.core.frame.DataFrame'>\n",
            "RangeIndex: 18 entries, 0 to 17\n",
            "Data columns (total 6 columns):\n",
            " #   Column                 Non-Null Count  Dtype \n",
            "---  ------                 --------------  ----- \n",
            " 0   title                  18 non-null     object\n",
            " 1   id                     18 non-null     int64 \n",
            " 2   revenue                18 non-null     int64 \n",
            " 3   genres                 18 non-null     object\n",
            " 4   belongs_to_collection  15 non-null     object\n",
            " 5   runtime                18 non-null     int64 \n",
            "dtypes: int64(3), object(3)\n",
            "memory usage: 992.0+ bytes\n"
          ]
        }
      ]
    },
    {
      "cell_type": "code",
      "metadata": {
        "colab": {
          "base_uri": "https://localhost:8080/"
        },
        "id": "EqOiXXUEEQ1S",
        "outputId": "67e516f0-15bc-4fb4-9ff7-a4df4ca0d3ef"
      },
      "source": [
        "df.genres#[0]"
      ],
      "execution_count": 13,
      "outputs": [
        {
          "output_type": "execute_result",
          "data": {
            "text/plain": [
              "0     [{'id': 12, 'name': 'Adventure'}, {'id': 878, ...\n",
              "1     [{'id': 28, 'name': 'Action'}, {'id': 12, 'nam...\n",
              "2     [{'id': 28, 'name': 'Action'}, {'id': 12, 'nam...\n",
              "3     [{'id': 12, 'name': 'Adventure'}, {'id': 28, '...\n",
              "4     [{'id': 18, 'name': 'Drama'}, {'id': 10749, 'n...\n",
              "5     [{'id': 28, 'name': 'Action'}, {'id': 12, 'nam...\n",
              "6     [{'id': 12, 'name': 'Adventure'}, {'id': 10751...\n",
              "7     [{'id': 878, 'name': 'Science Fiction'}, {'id'...\n",
              "8     [{'id': 28, 'name': 'Action'}, {'id': 53, 'nam...\n",
              "9     [{'id': 28, 'name': 'Action'}, {'id': 12, 'nam...\n",
              "10    [{'id': 28, 'name': 'Action'}, {'id': 12, 'nam...\n",
              "11    [{'id': 14, 'name': 'Fantasy'}, {'id': 12, 'na...\n",
              "12    [{'id': 14, 'name': 'Fantasy'}, {'id': 12, 'na...\n",
              "13    [{'id': 16, 'name': 'Animation'}, {'id': 10751...\n",
              "14    [{'id': 28, 'name': 'Action'}, {'id': 12, 'nam...\n",
              "15    [{'id': 16, 'name': 'Animation'}, {'id': 12, '...\n",
              "16    [{'id': 10751, 'name': 'Family'}, {'id': 14, '...\n",
              "17    [{'id': 28, 'name': 'Action'}, {'id': 12, 'nam...\n",
              "Name: genres, dtype: object"
            ]
          },
          "metadata": {},
          "execution_count": 13
        }
      ]
    },
    {
      "cell_type": "code",
      "metadata": {
        "colab": {
          "base_uri": "https://localhost:8080/"
        },
        "id": "O_baWvevFRzV",
        "outputId": "4b1907e0-21fe-48c5-910d-5036d7a21556"
      },
      "source": [
        "df.genres[0]"
      ],
      "execution_count": 14,
      "outputs": [
        {
          "output_type": "execute_result",
          "data": {
            "text/plain": [
              "[{'id': 12, 'name': 'Adventure'},\n",
              " {'id': 878, 'name': 'Science Fiction'},\n",
              " {'id': 28, 'name': 'Action'}]"
            ]
          },
          "metadata": {},
          "execution_count": 14
        }
      ]
    },
    {
      "cell_type": "code",
      "metadata": {
        "colab": {
          "base_uri": "https://localhost:8080/"
        },
        "id": "lx3v5gzgEjf8",
        "outputId": "a17fc814-fe0a-4dc8-8ff7-0cd77bb1e0af"
      },
      "source": [
        "df.belongs_to_collection[0]"
      ],
      "execution_count": 15,
      "outputs": [
        {
          "output_type": "execute_result",
          "data": {
            "text/plain": [
              "{'backdrop_path': '/zuW6fOiusv4X9nnW3paHGfXcSll.jpg',\n",
              " 'id': 86311,\n",
              " 'name': 'The Avengers Collection',\n",
              " 'poster_path': '/yFSIUVTCvgYrpalUktulvk3Gi5Y.jpg'}"
            ]
          },
          "metadata": {},
          "execution_count": 15
        }
      ]
    },
    {
      "cell_type": "code",
      "metadata": {
        "colab": {
          "base_uri": "https://localhost:8080/",
          "height": 530
        },
        "id": "sdimuTdAEnqO",
        "outputId": "9ae056b4-cb55-41ea-99f1-30a265874070"
      },
      "source": [
        "# Flatting and normalize data \n",
        "pd.json_normalize(data=data, sep='_').head()"
      ],
      "execution_count": 16,
      "outputs": [
        {
          "output_type": "execute_result",
          "data": {
            "text/html": [
              "<div>\n",
              "<style scoped>\n",
              "    .dataframe tbody tr th:only-of-type {\n",
              "        vertical-align: middle;\n",
              "    }\n",
              "\n",
              "    .dataframe tbody tr th {\n",
              "        vertical-align: top;\n",
              "    }\n",
              "\n",
              "    .dataframe thead th {\n",
              "        text-align: right;\n",
              "    }\n",
              "</style>\n",
              "<table border=\"1\" class=\"dataframe\">\n",
              "  <thead>\n",
              "    <tr style=\"text-align: right;\">\n",
              "      <th></th>\n",
              "      <th>title</th>\n",
              "      <th>id</th>\n",
              "      <th>revenue</th>\n",
              "      <th>genres</th>\n",
              "      <th>runtime</th>\n",
              "      <th>belongs_to_collection_id</th>\n",
              "      <th>belongs_to_collection_name</th>\n",
              "      <th>belongs_to_collection_poster_path</th>\n",
              "      <th>belongs_to_collection_backdrop_path</th>\n",
              "      <th>belongs_to_collection</th>\n",
              "    </tr>\n",
              "  </thead>\n",
              "  <tbody>\n",
              "    <tr>\n",
              "      <th>0</th>\n",
              "      <td>Avengers: Endgame</td>\n",
              "      <td>299534</td>\n",
              "      <td>2797800564</td>\n",
              "      <td>[{'id': 12, 'name': 'Adventure'}, {'id': 878, ...</td>\n",
              "      <td>181</td>\n",
              "      <td>86311.0</td>\n",
              "      <td>The Avengers Collection</td>\n",
              "      <td>/yFSIUVTCvgYrpalUktulvk3Gi5Y.jpg</td>\n",
              "      <td>/zuW6fOiusv4X9nnW3paHGfXcSll.jpg</td>\n",
              "      <td>NaN</td>\n",
              "    </tr>\n",
              "    <tr>\n",
              "      <th>1</th>\n",
              "      <td>Avatar</td>\n",
              "      <td>19995</td>\n",
              "      <td>2787965087</td>\n",
              "      <td>[{'id': 28, 'name': 'Action'}, {'id': 12, 'nam...</td>\n",
              "      <td>162</td>\n",
              "      <td>87096.0</td>\n",
              "      <td>Avatar Collection</td>\n",
              "      <td>/nslJVsO58Etqkk17oXMuVK4gNOF.jpg</td>\n",
              "      <td>/8nCr9W7sKus2q9PLbYsnT7iCkuT.jpg</td>\n",
              "      <td>NaN</td>\n",
              "    </tr>\n",
              "    <tr>\n",
              "      <th>2</th>\n",
              "      <td>Star Wars: The Force Awakens</td>\n",
              "      <td>140607</td>\n",
              "      <td>2068223624</td>\n",
              "      <td>[{'id': 28, 'name': 'Action'}, {'id': 12, 'nam...</td>\n",
              "      <td>136</td>\n",
              "      <td>10.0</td>\n",
              "      <td>Star Wars Collection</td>\n",
              "      <td>/iTQHKziZy9pAAY4hHEDCGPaOvFC.jpg</td>\n",
              "      <td>/d8duYyyC9J5T825Hg7grmaabfxQ.jpg</td>\n",
              "      <td>NaN</td>\n",
              "    </tr>\n",
              "    <tr>\n",
              "      <th>3</th>\n",
              "      <td>Avengers: Infinity War</td>\n",
              "      <td>299536</td>\n",
              "      <td>2046239637</td>\n",
              "      <td>[{'id': 12, 'name': 'Adventure'}, {'id': 28, '...</td>\n",
              "      <td>149</td>\n",
              "      <td>86311.0</td>\n",
              "      <td>The Avengers Collection</td>\n",
              "      <td>/yFSIUVTCvgYrpalUktulvk3Gi5Y.jpg</td>\n",
              "      <td>/zuW6fOiusv4X9nnW3paHGfXcSll.jpg</td>\n",
              "      <td>NaN</td>\n",
              "    </tr>\n",
              "    <tr>\n",
              "      <th>4</th>\n",
              "      <td>Titanic</td>\n",
              "      <td>597</td>\n",
              "      <td>1845034188</td>\n",
              "      <td>[{'id': 18, 'name': 'Drama'}, {'id': 10749, 'n...</td>\n",
              "      <td>194</td>\n",
              "      <td>NaN</td>\n",
              "      <td>NaN</td>\n",
              "      <td>NaN</td>\n",
              "      <td>NaN</td>\n",
              "      <td>NaN</td>\n",
              "    </tr>\n",
              "  </tbody>\n",
              "</table>\n",
              "</div>"
            ],
            "text/plain": [
              "                          title  ...  belongs_to_collection\n",
              "0             Avengers: Endgame  ...                    NaN\n",
              "1                        Avatar  ...                    NaN\n",
              "2  Star Wars: The Force Awakens  ...                    NaN\n",
              "3        Avengers: Infinity War  ...                    NaN\n",
              "4                       Titanic  ...                    NaN\n",
              "\n",
              "[5 rows x 10 columns]"
            ]
          },
          "metadata": {},
          "execution_count": 16
        }
      ]
    },
    {
      "cell_type": "code",
      "metadata": {
        "colab": {
          "base_uri": "https://localhost:8080/"
        },
        "id": "dCIBJp1XFdFy",
        "outputId": "804f9604-f3ed-46fd-b68c-da8a43fa32e7"
      },
      "source": [
        "pd.json_normalize(data=data, sep='_').genres[0]"
      ],
      "execution_count": 17,
      "outputs": [
        {
          "output_type": "execute_result",
          "data": {
            "text/plain": [
              "[{'id': 12, 'name': 'Adventure'},\n",
              " {'id': 878, 'name': 'Science Fiction'},\n",
              " {'id': 28, 'name': 'Action'}]"
            ]
          },
          "metadata": {},
          "execution_count": 17
        }
      ]
    },
    {
      "cell_type": "code",
      "metadata": {
        "colab": {
          "base_uri": "https://localhost:8080/",
          "height": 359
        },
        "id": "R-Wa7ciTFuuJ",
        "outputId": "072ea85b-dc51-48c1-a64e-17886ccb6524"
      },
      "source": [
        "pd.json_normalize(data=data, record_path='genres').head(10)"
      ],
      "execution_count": 18,
      "outputs": [
        {
          "output_type": "execute_result",
          "data": {
            "text/html": [
              "<div>\n",
              "<style scoped>\n",
              "    .dataframe tbody tr th:only-of-type {\n",
              "        vertical-align: middle;\n",
              "    }\n",
              "\n",
              "    .dataframe tbody tr th {\n",
              "        vertical-align: top;\n",
              "    }\n",
              "\n",
              "    .dataframe thead th {\n",
              "        text-align: right;\n",
              "    }\n",
              "</style>\n",
              "<table border=\"1\" class=\"dataframe\">\n",
              "  <thead>\n",
              "    <tr style=\"text-align: right;\">\n",
              "      <th></th>\n",
              "      <th>id</th>\n",
              "      <th>name</th>\n",
              "    </tr>\n",
              "  </thead>\n",
              "  <tbody>\n",
              "    <tr>\n",
              "      <th>0</th>\n",
              "      <td>12</td>\n",
              "      <td>Adventure</td>\n",
              "    </tr>\n",
              "    <tr>\n",
              "      <th>1</th>\n",
              "      <td>878</td>\n",
              "      <td>Science Fiction</td>\n",
              "    </tr>\n",
              "    <tr>\n",
              "      <th>2</th>\n",
              "      <td>28</td>\n",
              "      <td>Action</td>\n",
              "    </tr>\n",
              "    <tr>\n",
              "      <th>3</th>\n",
              "      <td>28</td>\n",
              "      <td>Action</td>\n",
              "    </tr>\n",
              "    <tr>\n",
              "      <th>4</th>\n",
              "      <td>12</td>\n",
              "      <td>Adventure</td>\n",
              "    </tr>\n",
              "    <tr>\n",
              "      <th>5</th>\n",
              "      <td>14</td>\n",
              "      <td>Fantasy</td>\n",
              "    </tr>\n",
              "    <tr>\n",
              "      <th>6</th>\n",
              "      <td>878</td>\n",
              "      <td>Science Fiction</td>\n",
              "    </tr>\n",
              "    <tr>\n",
              "      <th>7</th>\n",
              "      <td>28</td>\n",
              "      <td>Action</td>\n",
              "    </tr>\n",
              "    <tr>\n",
              "      <th>8</th>\n",
              "      <td>12</td>\n",
              "      <td>Adventure</td>\n",
              "    </tr>\n",
              "    <tr>\n",
              "      <th>9</th>\n",
              "      <td>878</td>\n",
              "      <td>Science Fiction</td>\n",
              "    </tr>\n",
              "  </tbody>\n",
              "</table>\n",
              "</div>"
            ],
            "text/plain": [
              "    id             name\n",
              "0   12        Adventure\n",
              "1  878  Science Fiction\n",
              "2   28           Action\n",
              "3   28           Action\n",
              "4   12        Adventure\n",
              "5   14          Fantasy\n",
              "6  878  Science Fiction\n",
              "7   28           Action\n",
              "8   12        Adventure\n",
              "9  878  Science Fiction"
            ]
          },
          "metadata": {},
          "execution_count": 18
        }
      ]
    },
    {
      "cell_type": "code",
      "metadata": {
        "colab": {
          "base_uri": "https://localhost:8080/",
          "height": 359
        },
        "id": "Q-3b8E1RF6oA",
        "outputId": "531ea954-e46c-4e47-c8e2-2c39c0f0bf9a"
      },
      "source": [
        "# add meta \n",
        "pd.json_normalize(data=data, record_path='genres', meta=['title']).head(10)"
      ],
      "execution_count": 19,
      "outputs": [
        {
          "output_type": "execute_result",
          "data": {
            "text/html": [
              "<div>\n",
              "<style scoped>\n",
              "    .dataframe tbody tr th:only-of-type {\n",
              "        vertical-align: middle;\n",
              "    }\n",
              "\n",
              "    .dataframe tbody tr th {\n",
              "        vertical-align: top;\n",
              "    }\n",
              "\n",
              "    .dataframe thead th {\n",
              "        text-align: right;\n",
              "    }\n",
              "</style>\n",
              "<table border=\"1\" class=\"dataframe\">\n",
              "  <thead>\n",
              "    <tr style=\"text-align: right;\">\n",
              "      <th></th>\n",
              "      <th>id</th>\n",
              "      <th>name</th>\n",
              "      <th>title</th>\n",
              "    </tr>\n",
              "  </thead>\n",
              "  <tbody>\n",
              "    <tr>\n",
              "      <th>0</th>\n",
              "      <td>12</td>\n",
              "      <td>Adventure</td>\n",
              "      <td>Avengers: Endgame</td>\n",
              "    </tr>\n",
              "    <tr>\n",
              "      <th>1</th>\n",
              "      <td>878</td>\n",
              "      <td>Science Fiction</td>\n",
              "      <td>Avengers: Endgame</td>\n",
              "    </tr>\n",
              "    <tr>\n",
              "      <th>2</th>\n",
              "      <td>28</td>\n",
              "      <td>Action</td>\n",
              "      <td>Avengers: Endgame</td>\n",
              "    </tr>\n",
              "    <tr>\n",
              "      <th>3</th>\n",
              "      <td>28</td>\n",
              "      <td>Action</td>\n",
              "      <td>Avatar</td>\n",
              "    </tr>\n",
              "    <tr>\n",
              "      <th>4</th>\n",
              "      <td>12</td>\n",
              "      <td>Adventure</td>\n",
              "      <td>Avatar</td>\n",
              "    </tr>\n",
              "    <tr>\n",
              "      <th>5</th>\n",
              "      <td>14</td>\n",
              "      <td>Fantasy</td>\n",
              "      <td>Avatar</td>\n",
              "    </tr>\n",
              "    <tr>\n",
              "      <th>6</th>\n",
              "      <td>878</td>\n",
              "      <td>Science Fiction</td>\n",
              "      <td>Avatar</td>\n",
              "    </tr>\n",
              "    <tr>\n",
              "      <th>7</th>\n",
              "      <td>28</td>\n",
              "      <td>Action</td>\n",
              "      <td>Star Wars: The Force Awakens</td>\n",
              "    </tr>\n",
              "    <tr>\n",
              "      <th>8</th>\n",
              "      <td>12</td>\n",
              "      <td>Adventure</td>\n",
              "      <td>Star Wars: The Force Awakens</td>\n",
              "    </tr>\n",
              "    <tr>\n",
              "      <th>9</th>\n",
              "      <td>878</td>\n",
              "      <td>Science Fiction</td>\n",
              "      <td>Star Wars: The Force Awakens</td>\n",
              "    </tr>\n",
              "  </tbody>\n",
              "</table>\n",
              "</div>"
            ],
            "text/plain": [
              "    id             name                         title\n",
              "0   12        Adventure             Avengers: Endgame\n",
              "1  878  Science Fiction             Avengers: Endgame\n",
              "2   28           Action             Avengers: Endgame\n",
              "3   28           Action                        Avatar\n",
              "4   12        Adventure                        Avatar\n",
              "5   14          Fantasy                        Avatar\n",
              "6  878  Science Fiction                        Avatar\n",
              "7   28           Action  Star Wars: The Force Awakens\n",
              "8   12        Adventure  Star Wars: The Force Awakens\n",
              "9  878  Science Fiction  Star Wars: The Force Awakens"
            ]
          },
          "metadata": {},
          "execution_count": 19
        }
      ]
    },
    {
      "cell_type": "code",
      "metadata": {
        "colab": {
          "base_uri": "https://localhost:8080/",
          "height": 359
        },
        "id": "cRfGffM-Gbtf",
        "outputId": "96c9344e-b1cb-4c8b-a953-205ff5469ebf"
      },
      "source": [
        "# add parameter record_prefix\n",
        "pd.json_normalize(data=data, record_path='genres', meta=['title','id'], record_prefix='genre').head(10)"
      ],
      "execution_count": 20,
      "outputs": [
        {
          "output_type": "execute_result",
          "data": {
            "text/html": [
              "<div>\n",
              "<style scoped>\n",
              "    .dataframe tbody tr th:only-of-type {\n",
              "        vertical-align: middle;\n",
              "    }\n",
              "\n",
              "    .dataframe tbody tr th {\n",
              "        vertical-align: top;\n",
              "    }\n",
              "\n",
              "    .dataframe thead th {\n",
              "        text-align: right;\n",
              "    }\n",
              "</style>\n",
              "<table border=\"1\" class=\"dataframe\">\n",
              "  <thead>\n",
              "    <tr style=\"text-align: right;\">\n",
              "      <th></th>\n",
              "      <th>genreid</th>\n",
              "      <th>genrename</th>\n",
              "      <th>title</th>\n",
              "      <th>id</th>\n",
              "    </tr>\n",
              "  </thead>\n",
              "  <tbody>\n",
              "    <tr>\n",
              "      <th>0</th>\n",
              "      <td>12</td>\n",
              "      <td>Adventure</td>\n",
              "      <td>Avengers: Endgame</td>\n",
              "      <td>299534</td>\n",
              "    </tr>\n",
              "    <tr>\n",
              "      <th>1</th>\n",
              "      <td>878</td>\n",
              "      <td>Science Fiction</td>\n",
              "      <td>Avengers: Endgame</td>\n",
              "      <td>299534</td>\n",
              "    </tr>\n",
              "    <tr>\n",
              "      <th>2</th>\n",
              "      <td>28</td>\n",
              "      <td>Action</td>\n",
              "      <td>Avengers: Endgame</td>\n",
              "      <td>299534</td>\n",
              "    </tr>\n",
              "    <tr>\n",
              "      <th>3</th>\n",
              "      <td>28</td>\n",
              "      <td>Action</td>\n",
              "      <td>Avatar</td>\n",
              "      <td>19995</td>\n",
              "    </tr>\n",
              "    <tr>\n",
              "      <th>4</th>\n",
              "      <td>12</td>\n",
              "      <td>Adventure</td>\n",
              "      <td>Avatar</td>\n",
              "      <td>19995</td>\n",
              "    </tr>\n",
              "    <tr>\n",
              "      <th>5</th>\n",
              "      <td>14</td>\n",
              "      <td>Fantasy</td>\n",
              "      <td>Avatar</td>\n",
              "      <td>19995</td>\n",
              "    </tr>\n",
              "    <tr>\n",
              "      <th>6</th>\n",
              "      <td>878</td>\n",
              "      <td>Science Fiction</td>\n",
              "      <td>Avatar</td>\n",
              "      <td>19995</td>\n",
              "    </tr>\n",
              "    <tr>\n",
              "      <th>7</th>\n",
              "      <td>28</td>\n",
              "      <td>Action</td>\n",
              "      <td>Star Wars: The Force Awakens</td>\n",
              "      <td>140607</td>\n",
              "    </tr>\n",
              "    <tr>\n",
              "      <th>8</th>\n",
              "      <td>12</td>\n",
              "      <td>Adventure</td>\n",
              "      <td>Star Wars: The Force Awakens</td>\n",
              "      <td>140607</td>\n",
              "    </tr>\n",
              "    <tr>\n",
              "      <th>9</th>\n",
              "      <td>878</td>\n",
              "      <td>Science Fiction</td>\n",
              "      <td>Star Wars: The Force Awakens</td>\n",
              "      <td>140607</td>\n",
              "    </tr>\n",
              "  </tbody>\n",
              "</table>\n",
              "</div>"
            ],
            "text/plain": [
              "   genreid        genrename                         title      id\n",
              "0       12        Adventure             Avengers: Endgame  299534\n",
              "1      878  Science Fiction             Avengers: Endgame  299534\n",
              "2       28           Action             Avengers: Endgame  299534\n",
              "3       28           Action                        Avatar   19995\n",
              "4       12        Adventure                        Avatar   19995\n",
              "5       14          Fantasy                        Avatar   19995\n",
              "6      878  Science Fiction                        Avatar   19995\n",
              "7       28           Action  Star Wars: The Force Awakens  140607\n",
              "8       12        Adventure  Star Wars: The Force Awakens  140607\n",
              "9      878  Science Fiction  Star Wars: The Force Awakens  140607"
            ]
          },
          "metadata": {},
          "execution_count": 20
        }
      ]
    },
    {
      "cell_type": "markdown",
      "metadata": {
        "id": "P8Gh9zTZbchd"
      },
      "source": [
        "######JSON and Orientation/Formats"
      ]
    },
    {
      "cell_type": "code",
      "metadata": {
        "id": "VpU-HX9CG7M4"
      },
      "source": [
        "with open('/content/drive/MyDrive/ml_data/MOVIES/Project_02/blockbusters2.json') as f:\n",
        "  data2=json.load(f)"
      ],
      "execution_count": 21,
      "outputs": []
    },
    {
      "cell_type": "code",
      "metadata": {
        "colab": {
          "base_uri": "https://localhost:8080/"
        },
        "id": "9GwrnUQxceP2",
        "outputId": "c097cf52-9f10-4f4f-c832-92177d44fcd6"
      },
      "source": [
        "data2"
      ],
      "execution_count": 26,
      "outputs": [
        {
          "output_type": "execute_result",
          "data": {
            "text/plain": [
              "{'belongs_to_collection': {'0': {'backdrop_path': '/zuW6fOiusv4X9nnW3paHGfXcSll.jpg',\n",
              "   'id': 86311,\n",
              "   'name': 'The Avengers Collection',\n",
              "   'poster_path': '/yFSIUVTCvgYrpalUktulvk3Gi5Y.jpg'},\n",
              "  '1': {'backdrop_path': '/8nCr9W7sKus2q9PLbYsnT7iCkuT.jpg',\n",
              "   'id': 87096,\n",
              "   'name': 'Avatar Collection',\n",
              "   'poster_path': '/nslJVsO58Etqkk17oXMuVK4gNOF.jpg'},\n",
              "  '10': {'backdrop_path': '/1Jj7Frjjbewb6Q6dl6YXhL3kuvL.jpg',\n",
              "   'id': 529892,\n",
              "   'name': 'Black Panther Collection',\n",
              "   'poster_path': '/9ZSPIsxI3TZDgfg0Jzk0RZl4INg.jpg'},\n",
              "  '11': {'backdrop_path': '/wfnMt6LGqYHcNyOfsuusw5lX3bL.jpg',\n",
              "   'id': 1241,\n",
              "   'name': 'Harry Potter Collection',\n",
              "   'poster_path': '/eVPs2Y0LyvTLZn6AP5Z6O2rtiGB.jpg'},\n",
              "  '12': {'backdrop_path': '/d8duYyyC9J5T825Hg7grmaabfxQ.jpg',\n",
              "   'id': 10,\n",
              "   'name': 'Star Wars Collection',\n",
              "   'poster_path': '/iTQHKziZy9pAAY4hHEDCGPaOvFC.jpg'},\n",
              "  '13': {'backdrop_path': '/vZiqhw6oFoMlHSneIdVip9rRou2.jpg',\n",
              "   'id': 386382,\n",
              "   'name': 'Frozen Collection',\n",
              "   'poster_path': '/rpoXnE9UzCbjmINhxIi8bZF557B.jpg'},\n",
              "  '14': {'backdrop_path': '/pJjIH9QN0OkHFV9eue6XfRVnPkr.jpg',\n",
              "   'id': 328,\n",
              "   'name': 'Jurassic Park Collection',\n",
              "   'poster_path': '/qIm2nHXLpBBdMxi8dvfrnDkBUDh.jpg'},\n",
              "  '15': {'backdrop_path': '/vZiqhw6oFoMlHSneIdVip9rRou2.jpg',\n",
              "   'id': 386382,\n",
              "   'name': 'Frozen Collection',\n",
              "   'poster_path': '/rpoXnE9UzCbjmINhxIi8bZF557B.jpg'},\n",
              "  '16': None,\n",
              "  '17': {'backdrop_path': '/9eDW2dVhnzPS2HvaRdK2OlAGaLq.jpg',\n",
              "   'id': 468222,\n",
              "   'name': 'The Incredibles Collection',\n",
              "   'poster_path': '/l7GqbzkJwowYRIXAtUz2iCPi64a.jpg'},\n",
              "  '2': {'backdrop_path': '/d8duYyyC9J5T825Hg7grmaabfxQ.jpg',\n",
              "   'id': 10,\n",
              "   'name': 'Star Wars Collection',\n",
              "   'poster_path': '/iTQHKziZy9pAAY4hHEDCGPaOvFC.jpg'},\n",
              "  '3': {'backdrop_path': '/zuW6fOiusv4X9nnW3paHGfXcSll.jpg',\n",
              "   'id': 86311,\n",
              "   'name': 'The Avengers Collection',\n",
              "   'poster_path': '/yFSIUVTCvgYrpalUktulvk3Gi5Y.jpg'},\n",
              "  '4': None,\n",
              "  '5': {'backdrop_path': '/pJjIH9QN0OkHFV9eue6XfRVnPkr.jpg',\n",
              "   'id': 328,\n",
              "   'name': 'Jurassic Park Collection',\n",
              "   'poster_path': '/qIm2nHXLpBBdMxi8dvfrnDkBUDh.jpg'},\n",
              "  '6': None,\n",
              "  '7': {'backdrop_path': '/zuW6fOiusv4X9nnW3paHGfXcSll.jpg',\n",
              "   'id': 86311,\n",
              "   'name': 'The Avengers Collection',\n",
              "   'poster_path': '/yFSIUVTCvgYrpalUktulvk3Gi5Y.jpg'},\n",
              "  '8': {'backdrop_path': '/z5A5W3WYJc3UVEWljSGwdjDgQ0j.jpg',\n",
              "   'id': 9485,\n",
              "   'name': 'The Fast and the Furious Collection',\n",
              "   'poster_path': '/uv63yAGg1zETAs1XQsOQpava87l.jpg'},\n",
              "  '9': {'backdrop_path': '/zuW6fOiusv4X9nnW3paHGfXcSll.jpg',\n",
              "   'id': 86311,\n",
              "   'name': 'The Avengers Collection',\n",
              "   'poster_path': '/yFSIUVTCvgYrpalUktulvk3Gi5Y.jpg'}},\n",
              " 'genres': {'0': [{'id': 12, 'name': 'Adventure'},\n",
              "   {'id': 878, 'name': 'Science Fiction'},\n",
              "   {'id': 28, 'name': 'Action'}],\n",
              "  '1': [{'id': 28, 'name': 'Action'},\n",
              "   {'id': 12, 'name': 'Adventure'},\n",
              "   {'id': 14, 'name': 'Fantasy'},\n",
              "   {'id': 878, 'name': 'Science Fiction'}],\n",
              "  '10': [{'id': 28, 'name': 'Action'},\n",
              "   {'id': 12, 'name': 'Adventure'},\n",
              "   {'id': 14, 'name': 'Fantasy'},\n",
              "   {'id': 878, 'name': 'Science Fiction'}],\n",
              "  '11': [{'id': 14, 'name': 'Fantasy'}, {'id': 12, 'name': 'Adventure'}],\n",
              "  '12': [{'id': 14, 'name': 'Fantasy'},\n",
              "   {'id': 12, 'name': 'Adventure'},\n",
              "   {'id': 878, 'name': 'Science Fiction'},\n",
              "   {'id': 28, 'name': 'Action'}],\n",
              "  '13': [{'id': 16, 'name': 'Animation'},\n",
              "   {'id': 10751, 'name': 'Family'},\n",
              "   {'id': 12, 'name': 'Adventure'}],\n",
              "  '14': [{'id': 28, 'name': 'Action'},\n",
              "   {'id': 12, 'name': 'Adventure'},\n",
              "   {'id': 878, 'name': 'Science Fiction'}],\n",
              "  '15': [{'id': 16, 'name': 'Animation'},\n",
              "   {'id': 12, 'name': 'Adventure'},\n",
              "   {'id': 10751, 'name': 'Family'}],\n",
              "  '16': [{'id': 10751, 'name': 'Family'},\n",
              "   {'id': 14, 'name': 'Fantasy'},\n",
              "   {'id': 10749, 'name': 'Romance'}],\n",
              "  '17': [{'id': 28, 'name': 'Action'},\n",
              "   {'id': 12, 'name': 'Adventure'},\n",
              "   {'id': 16, 'name': 'Animation'},\n",
              "   {'id': 10751, 'name': 'Family'}],\n",
              "  '2': [{'id': 28, 'name': 'Action'},\n",
              "   {'id': 12, 'name': 'Adventure'},\n",
              "   {'id': 878, 'name': 'Science Fiction'},\n",
              "   {'id': 14, 'name': 'Fantasy'}],\n",
              "  '3': [{'id': 12, 'name': 'Adventure'},\n",
              "   {'id': 28, 'name': 'Action'},\n",
              "   {'id': 878, 'name': 'Science Fiction'}],\n",
              "  '4': [{'id': 18, 'name': 'Drama'},\n",
              "   {'id': 10749, 'name': 'Romance'},\n",
              "   {'id': 53, 'name': 'Thriller'}],\n",
              "  '5': [{'id': 28, 'name': 'Action'},\n",
              "   {'id': 12, 'name': 'Adventure'},\n",
              "   {'id': 878, 'name': 'Science Fiction'},\n",
              "   {'id': 53, 'name': 'Thriller'}],\n",
              "  '6': [{'id': 12, 'name': 'Adventure'}, {'id': 10751, 'name': 'Family'}],\n",
              "  '7': [{'id': 878, 'name': 'Science Fiction'},\n",
              "   {'id': 28, 'name': 'Action'},\n",
              "   {'id': 12, 'name': 'Adventure'}],\n",
              "  '8': [{'id': 28, 'name': 'Action'}, {'id': 53, 'name': 'Thriller'}],\n",
              "  '9': [{'id': 28, 'name': 'Action'},\n",
              "   {'id': 12, 'name': 'Adventure'},\n",
              "   {'id': 878, 'name': 'Science Fiction'}]},\n",
              " 'id': {'0': 299534,\n",
              "  '1': 19995,\n",
              "  '10': 284054,\n",
              "  '11': 12445,\n",
              "  '12': 181808,\n",
              "  '13': 330457,\n",
              "  '14': 351286,\n",
              "  '15': 109445,\n",
              "  '16': 321612,\n",
              "  '17': 260513,\n",
              "  '2': 140607,\n",
              "  '3': 299536,\n",
              "  '4': 597,\n",
              "  '5': 135397,\n",
              "  '6': 420818,\n",
              "  '7': 24428,\n",
              "  '8': 168259,\n",
              "  '9': 99861},\n",
              " 'revenue': {'0': 2797800564,\n",
              "  '1': 2787965087,\n",
              "  '10': 1346739107,\n",
              "  '11': 1341511219,\n",
              "  '12': 1332539889,\n",
              "  '13': 1330764959,\n",
              "  '14': 1303459585,\n",
              "  '15': 1274219009,\n",
              "  '16': 1263521126,\n",
              "  '17': 1241891456,\n",
              "  '2': 2068223624,\n",
              "  '3': 2046239637,\n",
              "  '4': 1845034188,\n",
              "  '5': 1671713208,\n",
              "  '6': 1656943394,\n",
              "  '7': 1519557910,\n",
              "  '8': 1506249360,\n",
              "  '9': 1405403694},\n",
              " 'runtime': {'0': 181,\n",
              "  '1': 162,\n",
              "  '10': 134,\n",
              "  '11': 130,\n",
              "  '12': 152,\n",
              "  '13': 104,\n",
              "  '14': 129,\n",
              "  '15': 102,\n",
              "  '16': 129,\n",
              "  '17': 118,\n",
              "  '2': 136,\n",
              "  '3': 149,\n",
              "  '4': 194,\n",
              "  '5': 124,\n",
              "  '6': 118,\n",
              "  '7': 143,\n",
              "  '8': 137,\n",
              "  '9': 141},\n",
              " 'title': {'0': 'Avengers: Endgame',\n",
              "  '1': 'Avatar',\n",
              "  '10': 'Black Panther',\n",
              "  '11': 'Harry Potter and the Deathly Hallows: Part 2',\n",
              "  '12': 'Star Wars: The Last Jedi',\n",
              "  '13': 'Frozen II',\n",
              "  '14': 'Jurassic World: Fallen Kingdom',\n",
              "  '15': 'Frozen',\n",
              "  '16': 'Beauty and the Beast',\n",
              "  '17': 'Incredibles 2',\n",
              "  '2': 'Star Wars: The Force Awakens',\n",
              "  '3': 'Avengers: Infinity War',\n",
              "  '4': 'Titanic',\n",
              "  '5': 'Jurassic World',\n",
              "  '6': 'The Lion King',\n",
              "  '7': 'The Avengers',\n",
              "  '8': 'Furious 7',\n",
              "  '9': 'Avengers: Age of Ultron'}}"
            ]
          },
          "metadata": {},
          "execution_count": 26
        }
      ]
    },
    {
      "cell_type": "code",
      "metadata": {
        "colab": {
          "base_uri": "https://localhost:8080/"
        },
        "id": "dGTQ2wMVcj3o",
        "outputId": "40fd825f-d6d6-4fa5-aded-0a01c9cc445a"
      },
      "source": [
        "# type of data2\n",
        "type(data2)"
      ],
      "execution_count": 27,
      "outputs": [
        {
          "output_type": "execute_result",
          "data": {
            "text/plain": [
              "dict"
            ]
          },
          "metadata": {},
          "execution_count": 27
        }
      ]
    },
    {
      "cell_type": "code",
      "metadata": {
        "colab": {
          "base_uri": "https://localhost:8080/"
        },
        "id": "F53m-_-8czrs",
        "outputId": "48093cef-2a59-404a-ddf8-d3f4eeab99ee"
      },
      "source": [
        "len(data2)"
      ],
      "execution_count": 28,
      "outputs": [
        {
          "output_type": "execute_result",
          "data": {
            "text/plain": [
              "6"
            ]
          },
          "metadata": {},
          "execution_count": 28
        }
      ]
    },
    {
      "cell_type": "markdown",
      "metadata": {
        "id": "pbVG_UA8i4f0"
      },
      "source": [
        "####Working with APIs and JSON (PART 1)"
      ]
    },
    {
      "cell_type": "code",
      "metadata": {
        "id": "L8JT3Jhjc1E9"
      },
      "source": [
        "import pandas as pd \n",
        "import requests \n",
        "pd.options.display.max_columns=30"
      ],
      "execution_count": 59,
      "outputs": []
    },
    {
      "cell_type": "code",
      "metadata": {
        "id": "_-HFpdiLkGnp"
      },
      "source": [
        "api_key='api_key=841f019476e1274c79bf8e91823af39f'"
      ],
      "execution_count": 60,
      "outputs": []
    },
    {
      "cell_type": "code",
      "metadata": {
        "id": "ZUl9Y_Lmc3gj"
      },
      "source": [
        "movied_id=140"
      ],
      "execution_count": 61,
      "outputs": []
    },
    {
      "cell_type": "code",
      "metadata": {
        "colab": {
          "base_uri": "https://localhost:8080/",
          "height": 35
        },
        "id": "7LabgCvLjuEy",
        "outputId": "b3d674ac-6850-4c7f-9911-c7f894d1a5c2"
      },
      "source": [
        "movie_api='https://api.themoviedb.org/3/movie/{}'\n",
        "movie_api"
      ],
      "execution_count": 62,
      "outputs": [
        {
          "output_type": "execute_result",
          "data": {
            "application/vnd.google.colaboratory.intrinsic+json": {
              "type": "string"
            },
            "text/plain": [
              "'https://api.themoviedb.org/3/movie/{}'"
            ]
          },
          "metadata": {},
          "execution_count": 62
        }
      ]
    },
    {
      "cell_type": "code",
      "metadata": {
        "colab": {
          "base_uri": "https://localhost:8080/",
          "height": 35
        },
        "id": "zWdNqw8mj5US",
        "outputId": "751d25f5-358e-494f-e52a-50148ad2bd28"
      },
      "source": [
        "url=movie_api.format(movied_id)+api_key \n",
        "url"
      ],
      "execution_count": 63,
      "outputs": [
        {
          "output_type": "execute_result",
          "data": {
            "application/vnd.google.colaboratory.intrinsic+json": {
              "type": "string"
            },
            "text/plain": [
              "'https://api.themoviedb.org/3/movie/140api_key=841f019476e1274c79bf8e91823af39f'"
            ]
          },
          "metadata": {},
          "execution_count": 63
        }
      ]
    },
    {
      "cell_type": "code",
      "metadata": {
        "colab": {
          "base_uri": "https://localhost:8080/"
        },
        "id": "mLZsKZVSkCGZ",
        "outputId": "9560e831-1751-4868-c234-1c2c0ed1af22"
      },
      "source": [
        "r=requests.get(url)\n",
        "r"
      ],
      "execution_count": 64,
      "outputs": [
        {
          "output_type": "execute_result",
          "data": {
            "text/plain": [
              "<Response [401]>"
            ]
          },
          "metadata": {},
          "execution_count": 64
        }
      ]
    },
    {
      "cell_type": "code",
      "metadata": {
        "id": "bkORsaOfkdp1"
      },
      "source": [
        "data=r.json()"
      ],
      "execution_count": 65,
      "outputs": []
    },
    {
      "cell_type": "code",
      "metadata": {
        "colab": {
          "base_uri": "https://localhost:8080/"
        },
        "id": "1wPCoSkQkgQ_",
        "outputId": "549f3635-9baa-408b-cdc1-53ac3ea74dbe"
      },
      "source": [
        "data"
      ],
      "execution_count": 66,
      "outputs": [
        {
          "output_type": "execute_result",
          "data": {
            "text/plain": [
              "{'status_code': 7,\n",
              " 'status_message': 'Invalid API key: You must be granted a valid key.',\n",
              " 'success': False}"
            ]
          },
          "metadata": {},
          "execution_count": 66
        }
      ]
    },
    {
      "cell_type": "markdown",
      "metadata": {
        "id": "fmAniFGkuzBR"
      },
      "source": [
        "######Importing and Saving the Movie DataSet (Real World Scenario)"
      ]
    },
    {
      "cell_type": "code",
      "metadata": {
        "id": "bSLLplHmkhdo"
      },
      "source": [
        ""
      ],
      "execution_count": null,
      "outputs": []
    }
  ]
}