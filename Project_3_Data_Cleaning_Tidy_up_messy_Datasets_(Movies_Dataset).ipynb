{
  "nbformat": 4,
  "nbformat_minor": 0,
  "metadata": {
    "colab": {
      "name": "Project 3: Data Cleaning - Tidy up messy Datasets (Movies Dataset).ipynb",
      "provenance": [],
      "mount_file_id": "1VHbm08N_-QGEXZHWAqZEHwD6_-LFzcsV",
      "authorship_tag": "ABX9TyPMjOlTpgOBZ6JdAZwrRSBU",
      "include_colab_link": true
    },
    "kernelspec": {
      "name": "python3",
      "display_name": "Python 3"
    },
    "language_info": {
      "name": "python"
    }
  },
  "cells": [
    {
      "cell_type": "markdown",
      "metadata": {
        "id": "view-in-github",
        "colab_type": "text"
      },
      "source": [
        "<a href=\"https://colab.research.google.com/github/Aboubacar2012/Data_Analysis_Project/blob/main/Project_3_Data_Cleaning_Tidy_up_messy_Datasets_(Movies_Dataset).ipynb\" target=\"_parent\"><img src=\"https://colab.research.google.com/assets/colab-badge.svg\" alt=\"Open In Colab\"/></a>"
      ]
    },
    {
      "cell_type": "code",
      "metadata": {
        "id": "0HtJqCOE5EDD"
      },
      "source": [
        "import pandas as pd \n",
        "import numpy as np\n",
        "import seaborn as sns \n",
        "import matplotlib.pyplot as plt\n",
        "pd.options.display.max_columns=30\n",
        "import warnings\n",
        "warnings.filterwarnings('ignore')"
      ],
      "execution_count": 271,
      "outputs": []
    },
    {
      "cell_type": "code",
      "metadata": {
        "id": "FXsFakkA9Pkd"
      },
      "source": [
        "df=pd.read_csv('/content/drive/MyDrive/ml_data/MOVIES/Project_03/movies_metadata.csv')"
      ],
      "execution_count": 272,
      "outputs": []
    },
    {
      "cell_type": "code",
      "metadata": {
        "colab": {
          "base_uri": "https://localhost:8080/",
          "height": 666
        },
        "id": "B1gW0v-0-hAF",
        "outputId": "50ea60b9-8a6a-497a-acf0-154455c52fdc"
      },
      "source": [
        "df.head()"
      ],
      "execution_count": 273,
      "outputs": [
        {
          "output_type": "execute_result",
          "data": {
            "text/html": [
              "<div>\n",
              "<style scoped>\n",
              "    .dataframe tbody tr th:only-of-type {\n",
              "        vertical-align: middle;\n",
              "    }\n",
              "\n",
              "    .dataframe tbody tr th {\n",
              "        vertical-align: top;\n",
              "    }\n",
              "\n",
              "    .dataframe thead th {\n",
              "        text-align: right;\n",
              "    }\n",
              "</style>\n",
              "<table border=\"1\" class=\"dataframe\">\n",
              "  <thead>\n",
              "    <tr style=\"text-align: right;\">\n",
              "      <th></th>\n",
              "      <th>adult</th>\n",
              "      <th>belongs_to_collection</th>\n",
              "      <th>budget</th>\n",
              "      <th>genres</th>\n",
              "      <th>homepage</th>\n",
              "      <th>id</th>\n",
              "      <th>imdb_id</th>\n",
              "      <th>original_language</th>\n",
              "      <th>original_title</th>\n",
              "      <th>overview</th>\n",
              "      <th>popularity</th>\n",
              "      <th>poster_path</th>\n",
              "      <th>production_companies</th>\n",
              "      <th>production_countries</th>\n",
              "      <th>release_date</th>\n",
              "      <th>revenue</th>\n",
              "      <th>runtime</th>\n",
              "      <th>spoken_languages</th>\n",
              "      <th>status</th>\n",
              "      <th>tagline</th>\n",
              "      <th>title</th>\n",
              "      <th>video</th>\n",
              "      <th>vote_average</th>\n",
              "      <th>vote_count</th>\n",
              "    </tr>\n",
              "  </thead>\n",
              "  <tbody>\n",
              "    <tr>\n",
              "      <th>0</th>\n",
              "      <td>False</td>\n",
              "      <td>{'id': 10194, 'name': 'Toy Story Collection', ...</td>\n",
              "      <td>30000000</td>\n",
              "      <td>[{'id': 16, 'name': 'Animation'}, {'id': 35, '...</td>\n",
              "      <td>http://toystory.disney.com/toy-story</td>\n",
              "      <td>862</td>\n",
              "      <td>tt0114709</td>\n",
              "      <td>en</td>\n",
              "      <td>Toy Story</td>\n",
              "      <td>Led by Woody, Andy's toys live happily in his ...</td>\n",
              "      <td>21.9469</td>\n",
              "      <td>/rhIRbceoE9lR4veEXuwCC2wARtG.jpg</td>\n",
              "      <td>[{'name': 'Pixar Animation Studios', 'id': 3}]</td>\n",
              "      <td>[{'iso_3166_1': 'US', 'name': 'United States o...</td>\n",
              "      <td>1995-10-30</td>\n",
              "      <td>373554033.0</td>\n",
              "      <td>81.0</td>\n",
              "      <td>[{'iso_639_1': 'en', 'name': 'English'}]</td>\n",
              "      <td>Released</td>\n",
              "      <td>NaN</td>\n",
              "      <td>Toy Story</td>\n",
              "      <td>False</td>\n",
              "      <td>7.7</td>\n",
              "      <td>5415.0</td>\n",
              "    </tr>\n",
              "    <tr>\n",
              "      <th>1</th>\n",
              "      <td>False</td>\n",
              "      <td>NaN</td>\n",
              "      <td>65000000</td>\n",
              "      <td>[{'id': 12, 'name': 'Adventure'}, {'id': 14, '...</td>\n",
              "      <td>NaN</td>\n",
              "      <td>8844</td>\n",
              "      <td>tt0113497</td>\n",
              "      <td>en</td>\n",
              "      <td>Jumanji</td>\n",
              "      <td>When siblings Judy and Peter discover an encha...</td>\n",
              "      <td>17.0155</td>\n",
              "      <td>/vzmL6fP7aPKNKPRTFnZmiUfciyV.jpg</td>\n",
              "      <td>[{'name': 'TriStar Pictures', 'id': 559}, {'na...</td>\n",
              "      <td>[{'iso_3166_1': 'US', 'name': 'United States o...</td>\n",
              "      <td>1995-12-15</td>\n",
              "      <td>262797249.0</td>\n",
              "      <td>104.0</td>\n",
              "      <td>[{'iso_639_1': 'en', 'name': 'English'}, {'iso...</td>\n",
              "      <td>Released</td>\n",
              "      <td>Roll the dice and unleash the excitement!</td>\n",
              "      <td>Jumanji</td>\n",
              "      <td>False</td>\n",
              "      <td>6.9</td>\n",
              "      <td>2413.0</td>\n",
              "    </tr>\n",
              "    <tr>\n",
              "      <th>2</th>\n",
              "      <td>False</td>\n",
              "      <td>{'id': 119050, 'name': 'Grumpy Old Men Collect...</td>\n",
              "      <td>0</td>\n",
              "      <td>[{'id': 10749, 'name': 'Romance'}, {'id': 35, ...</td>\n",
              "      <td>NaN</td>\n",
              "      <td>15602</td>\n",
              "      <td>tt0113228</td>\n",
              "      <td>en</td>\n",
              "      <td>Grumpier Old Men</td>\n",
              "      <td>A family wedding reignites the ancient feud be...</td>\n",
              "      <td>11.7129</td>\n",
              "      <td>/6ksm1sjKMFLbO7UY2i6G1ju9SML.jpg</td>\n",
              "      <td>[{'name': 'Warner Bros.', 'id': 6194}, {'name'...</td>\n",
              "      <td>[{'iso_3166_1': 'US', 'name': 'United States o...</td>\n",
              "      <td>1995-12-22</td>\n",
              "      <td>0.0</td>\n",
              "      <td>101.0</td>\n",
              "      <td>[{'iso_639_1': 'en', 'name': 'English'}]</td>\n",
              "      <td>Released</td>\n",
              "      <td>Still Yelling. Still Fighting. Still Ready for...</td>\n",
              "      <td>Grumpier Old Men</td>\n",
              "      <td>False</td>\n",
              "      <td>6.5</td>\n",
              "      <td>92.0</td>\n",
              "    </tr>\n",
              "    <tr>\n",
              "      <th>3</th>\n",
              "      <td>False</td>\n",
              "      <td>NaN</td>\n",
              "      <td>16000000</td>\n",
              "      <td>[{'id': 35, 'name': 'Comedy'}, {'id': 18, 'nam...</td>\n",
              "      <td>NaN</td>\n",
              "      <td>31357</td>\n",
              "      <td>tt0114885</td>\n",
              "      <td>en</td>\n",
              "      <td>Waiting to Exhale</td>\n",
              "      <td>Cheated on, mistreated and stepped on, the wom...</td>\n",
              "      <td>3.85949</td>\n",
              "      <td>/16XOMpEaLWkrcPqSQqhTmeJuqQl.jpg</td>\n",
              "      <td>[{'name': 'Twentieth Century Fox Film Corporat...</td>\n",
              "      <td>[{'iso_3166_1': 'US', 'name': 'United States o...</td>\n",
              "      <td>1995-12-22</td>\n",
              "      <td>81452156.0</td>\n",
              "      <td>127.0</td>\n",
              "      <td>[{'iso_639_1': 'en', 'name': 'English'}]</td>\n",
              "      <td>Released</td>\n",
              "      <td>Friends are the people who let you be yourself...</td>\n",
              "      <td>Waiting to Exhale</td>\n",
              "      <td>False</td>\n",
              "      <td>6.1</td>\n",
              "      <td>34.0</td>\n",
              "    </tr>\n",
              "    <tr>\n",
              "      <th>4</th>\n",
              "      <td>False</td>\n",
              "      <td>{'id': 96871, 'name': 'Father of the Bride Col...</td>\n",
              "      <td>0</td>\n",
              "      <td>[{'id': 35, 'name': 'Comedy'}]</td>\n",
              "      <td>NaN</td>\n",
              "      <td>11862</td>\n",
              "      <td>tt0113041</td>\n",
              "      <td>en</td>\n",
              "      <td>Father of the Bride Part II</td>\n",
              "      <td>Just when George Banks has recovered from his ...</td>\n",
              "      <td>8.38752</td>\n",
              "      <td>/e64sOI48hQXyru7naBFyssKFxVd.jpg</td>\n",
              "      <td>[{'name': 'Sandollar Productions', 'id': 5842}...</td>\n",
              "      <td>[{'iso_3166_1': 'US', 'name': 'United States o...</td>\n",
              "      <td>1995-02-10</td>\n",
              "      <td>76578911.0</td>\n",
              "      <td>106.0</td>\n",
              "      <td>[{'iso_639_1': 'en', 'name': 'English'}]</td>\n",
              "      <td>Released</td>\n",
              "      <td>Just When His World Is Back To Normal... He's ...</td>\n",
              "      <td>Father of the Bride Part II</td>\n",
              "      <td>False</td>\n",
              "      <td>5.7</td>\n",
              "      <td>173.0</td>\n",
              "    </tr>\n",
              "  </tbody>\n",
              "</table>\n",
              "</div>"
            ],
            "text/plain": [
              "   adult                              belongs_to_collection    budget  \\\n",
              "0  False  {'id': 10194, 'name': 'Toy Story Collection', ...  30000000   \n",
              "1  False                                                NaN  65000000   \n",
              "2  False  {'id': 119050, 'name': 'Grumpy Old Men Collect...         0   \n",
              "3  False                                                NaN  16000000   \n",
              "4  False  {'id': 96871, 'name': 'Father of the Bride Col...         0   \n",
              "\n",
              "                                              genres  \\\n",
              "0  [{'id': 16, 'name': 'Animation'}, {'id': 35, '...   \n",
              "1  [{'id': 12, 'name': 'Adventure'}, {'id': 14, '...   \n",
              "2  [{'id': 10749, 'name': 'Romance'}, {'id': 35, ...   \n",
              "3  [{'id': 35, 'name': 'Comedy'}, {'id': 18, 'nam...   \n",
              "4                     [{'id': 35, 'name': 'Comedy'}]   \n",
              "\n",
              "                               homepage     id    imdb_id original_language  \\\n",
              "0  http://toystory.disney.com/toy-story    862  tt0114709                en   \n",
              "1                                   NaN   8844  tt0113497                en   \n",
              "2                                   NaN  15602  tt0113228                en   \n",
              "3                                   NaN  31357  tt0114885                en   \n",
              "4                                   NaN  11862  tt0113041                en   \n",
              "\n",
              "                original_title  \\\n",
              "0                    Toy Story   \n",
              "1                      Jumanji   \n",
              "2             Grumpier Old Men   \n",
              "3            Waiting to Exhale   \n",
              "4  Father of the Bride Part II   \n",
              "\n",
              "                                            overview popularity  \\\n",
              "0  Led by Woody, Andy's toys live happily in his ...    21.9469   \n",
              "1  When siblings Judy and Peter discover an encha...    17.0155   \n",
              "2  A family wedding reignites the ancient feud be...    11.7129   \n",
              "3  Cheated on, mistreated and stepped on, the wom...    3.85949   \n",
              "4  Just when George Banks has recovered from his ...    8.38752   \n",
              "\n",
              "                        poster_path  \\\n",
              "0  /rhIRbceoE9lR4veEXuwCC2wARtG.jpg   \n",
              "1  /vzmL6fP7aPKNKPRTFnZmiUfciyV.jpg   \n",
              "2  /6ksm1sjKMFLbO7UY2i6G1ju9SML.jpg   \n",
              "3  /16XOMpEaLWkrcPqSQqhTmeJuqQl.jpg   \n",
              "4  /e64sOI48hQXyru7naBFyssKFxVd.jpg   \n",
              "\n",
              "                                production_companies  \\\n",
              "0     [{'name': 'Pixar Animation Studios', 'id': 3}]   \n",
              "1  [{'name': 'TriStar Pictures', 'id': 559}, {'na...   \n",
              "2  [{'name': 'Warner Bros.', 'id': 6194}, {'name'...   \n",
              "3  [{'name': 'Twentieth Century Fox Film Corporat...   \n",
              "4  [{'name': 'Sandollar Productions', 'id': 5842}...   \n",
              "\n",
              "                                production_countries release_date  \\\n",
              "0  [{'iso_3166_1': 'US', 'name': 'United States o...   1995-10-30   \n",
              "1  [{'iso_3166_1': 'US', 'name': 'United States o...   1995-12-15   \n",
              "2  [{'iso_3166_1': 'US', 'name': 'United States o...   1995-12-22   \n",
              "3  [{'iso_3166_1': 'US', 'name': 'United States o...   1995-12-22   \n",
              "4  [{'iso_3166_1': 'US', 'name': 'United States o...   1995-02-10   \n",
              "\n",
              "       revenue  runtime                                   spoken_languages  \\\n",
              "0  373554033.0     81.0           [{'iso_639_1': 'en', 'name': 'English'}]   \n",
              "1  262797249.0    104.0  [{'iso_639_1': 'en', 'name': 'English'}, {'iso...   \n",
              "2          0.0    101.0           [{'iso_639_1': 'en', 'name': 'English'}]   \n",
              "3   81452156.0    127.0           [{'iso_639_1': 'en', 'name': 'English'}]   \n",
              "4   76578911.0    106.0           [{'iso_639_1': 'en', 'name': 'English'}]   \n",
              "\n",
              "     status                                            tagline  \\\n",
              "0  Released                                                NaN   \n",
              "1  Released          Roll the dice and unleash the excitement!   \n",
              "2  Released  Still Yelling. Still Fighting. Still Ready for...   \n",
              "3  Released  Friends are the people who let you be yourself...   \n",
              "4  Released  Just When His World Is Back To Normal... He's ...   \n",
              "\n",
              "                         title  video  vote_average  vote_count  \n",
              "0                    Toy Story  False           7.7      5415.0  \n",
              "1                      Jumanji  False           6.9      2413.0  \n",
              "2             Grumpier Old Men  False           6.5        92.0  \n",
              "3            Waiting to Exhale  False           6.1        34.0  \n",
              "4  Father of the Bride Part II  False           5.7       173.0  "
            ]
          },
          "metadata": {},
          "execution_count": 273
        }
      ]
    },
    {
      "cell_type": "code",
      "metadata": {
        "colab": {
          "base_uri": "https://localhost:8080/"
        },
        "id": "9KSKQg9A-kYo",
        "outputId": "b5962b28-f904-46e8-8e73-b3704ea4d293"
      },
      "source": [
        "df.info()"
      ],
      "execution_count": 274,
      "outputs": [
        {
          "output_type": "stream",
          "name": "stdout",
          "text": [
            "<class 'pandas.core.frame.DataFrame'>\n",
            "RangeIndex: 45466 entries, 0 to 45465\n",
            "Data columns (total 24 columns):\n",
            " #   Column                 Non-Null Count  Dtype  \n",
            "---  ------                 --------------  -----  \n",
            " 0   adult                  45466 non-null  object \n",
            " 1   belongs_to_collection  4494 non-null   object \n",
            " 2   budget                 45466 non-null  object \n",
            " 3   genres                 45466 non-null  object \n",
            " 4   homepage               7782 non-null   object \n",
            " 5   id                     45466 non-null  object \n",
            " 6   imdb_id                45449 non-null  object \n",
            " 7   original_language      45455 non-null  object \n",
            " 8   original_title         45466 non-null  object \n",
            " 9   overview               44512 non-null  object \n",
            " 10  popularity             45461 non-null  object \n",
            " 11  poster_path            45080 non-null  object \n",
            " 12  production_companies   45463 non-null  object \n",
            " 13  production_countries   45463 non-null  object \n",
            " 14  release_date           45379 non-null  object \n",
            " 15  revenue                45460 non-null  float64\n",
            " 16  runtime                45203 non-null  float64\n",
            " 17  spoken_languages       45460 non-null  object \n",
            " 18  status                 45379 non-null  object \n",
            " 19  tagline                20412 non-null  object \n",
            " 20  title                  45460 non-null  object \n",
            " 21  video                  45460 non-null  object \n",
            " 22  vote_average           45460 non-null  float64\n",
            " 23  vote_count             45460 non-null  float64\n",
            "dtypes: float64(4), object(20)\n",
            "memory usage: 8.3+ MB\n"
          ]
        }
      ]
    },
    {
      "cell_type": "code",
      "metadata": {
        "colab": {
          "base_uri": "https://localhost:8080/"
        },
        "id": "R9LolPmo_D2e",
        "outputId": "759a0da9-a21b-4943-acb1-b3e4bb45269a"
      },
      "source": [
        "df.columns"
      ],
      "execution_count": 275,
      "outputs": [
        {
          "output_type": "execute_result",
          "data": {
            "text/plain": [
              "Index(['adult', 'belongs_to_collection', 'budget', 'genres', 'homepage', 'id',\n",
              "       'imdb_id', 'original_language', 'original_title', 'overview',\n",
              "       'popularity', 'poster_path', 'production_companies',\n",
              "       'production_countries', 'release_date', 'revenue', 'runtime',\n",
              "       'spoken_languages', 'status', 'tagline', 'title', 'video',\n",
              "       'vote_average', 'vote_count'],\n",
              "      dtype='object')"
            ]
          },
          "metadata": {},
          "execution_count": 275
        }
      ]
    },
    {
      "cell_type": "code",
      "metadata": {
        "colab": {
          "base_uri": "https://localhost:8080/",
          "height": 35
        },
        "id": "LT1f2ZuN_GRL",
        "outputId": "f15eaf3d-6a19-4661-f74c-52fe784b1e94"
      },
      "source": [
        "df.genres[0]"
      ],
      "execution_count": 276,
      "outputs": [
        {
          "output_type": "execute_result",
          "data": {
            "application/vnd.google.colaboratory.intrinsic+json": {
              "type": "string"
            },
            "text/plain": [
              "\"[{'id': 16, 'name': 'Animation'}, {'id': 35, 'name': 'Comedy'}, {'id': 10751, 'name': 'Family'}]\""
            ]
          },
          "metadata": {},
          "execution_count": 276
        }
      ]
    },
    {
      "cell_type": "code",
      "metadata": {
        "colab": {
          "base_uri": "https://localhost:8080/",
          "height": 52
        },
        "id": "3LHRMCaq_Ivt",
        "outputId": "ad48028f-2c01-4f6b-f3ea-9803573bf826"
      },
      "source": [
        "df.belongs_to_collection[0]"
      ],
      "execution_count": 277,
      "outputs": [
        {
          "output_type": "execute_result",
          "data": {
            "application/vnd.google.colaboratory.intrinsic+json": {
              "type": "string"
            },
            "text/plain": [
              "\"{'id': 10194, 'name': 'Toy Story Collection', 'poster_path': '/7G9915LfUQ2lVfwMEEhDsn3kT4B.jpg', 'backdrop_path': '/9FBwqcd9IRruEDUrTdcaafOMKUq.jpg'}\""
            ]
          },
          "metadata": {},
          "execution_count": 277
        }
      ]
    },
    {
      "cell_type": "markdown",
      "metadata": {
        "id": "1wyTJlOQ_-wS"
      },
      "source": [
        "######Dropping irrelevant columns"
      ]
    },
    {
      "cell_type": "code",
      "metadata": {
        "id": "UTj59JCo_Lqm"
      },
      "source": [
        "df.drop(columns=['adult'], inplace=True)"
      ],
      "execution_count": 278,
      "outputs": []
    },
    {
      "cell_type": "code",
      "metadata": {
        "id": "wj_cvtecANXD"
      },
      "source": [
        "df.drop(columns=['imdb_id'], inplace=True)"
      ],
      "execution_count": 279,
      "outputs": []
    },
    {
      "cell_type": "code",
      "metadata": {
        "id": "Xi6JQUb8ASxi"
      },
      "source": [
        "### More on columns\n",
        "df.drop(columns=['original_title','video','homepage'], inplace=True)"
      ],
      "execution_count": 280,
      "outputs": []
    },
    {
      "cell_type": "markdown",
      "metadata": {
        "id": "n-KNeovRBO72"
      },
      "source": [
        "######How to handle stringified JSON columns(Part1)"
      ]
    },
    {
      "cell_type": "code",
      "metadata": {
        "id": "i_ATcwm4Ad19"
      },
      "source": [
        "import json\n",
        "import ast "
      ],
      "execution_count": 281,
      "outputs": []
    },
    {
      "cell_type": "code",
      "metadata": {
        "colab": {
          "base_uri": "https://localhost:8080/",
          "height": 318
        },
        "id": "r8ZgxJKGBXY9",
        "outputId": "1f322beb-50e1-4606-d7ad-a26250e5c74d"
      },
      "source": [
        "df.head(2)"
      ],
      "execution_count": 282,
      "outputs": [
        {
          "output_type": "execute_result",
          "data": {
            "text/html": [
              "<div>\n",
              "<style scoped>\n",
              "    .dataframe tbody tr th:only-of-type {\n",
              "        vertical-align: middle;\n",
              "    }\n",
              "\n",
              "    .dataframe tbody tr th {\n",
              "        vertical-align: top;\n",
              "    }\n",
              "\n",
              "    .dataframe thead th {\n",
              "        text-align: right;\n",
              "    }\n",
              "</style>\n",
              "<table border=\"1\" class=\"dataframe\">\n",
              "  <thead>\n",
              "    <tr style=\"text-align: right;\">\n",
              "      <th></th>\n",
              "      <th>belongs_to_collection</th>\n",
              "      <th>budget</th>\n",
              "      <th>genres</th>\n",
              "      <th>id</th>\n",
              "      <th>original_language</th>\n",
              "      <th>overview</th>\n",
              "      <th>popularity</th>\n",
              "      <th>poster_path</th>\n",
              "      <th>production_companies</th>\n",
              "      <th>production_countries</th>\n",
              "      <th>release_date</th>\n",
              "      <th>revenue</th>\n",
              "      <th>runtime</th>\n",
              "      <th>spoken_languages</th>\n",
              "      <th>status</th>\n",
              "      <th>tagline</th>\n",
              "      <th>title</th>\n",
              "      <th>vote_average</th>\n",
              "      <th>vote_count</th>\n",
              "    </tr>\n",
              "  </thead>\n",
              "  <tbody>\n",
              "    <tr>\n",
              "      <th>0</th>\n",
              "      <td>{'id': 10194, 'name': 'Toy Story Collection', ...</td>\n",
              "      <td>30000000</td>\n",
              "      <td>[{'id': 16, 'name': 'Animation'}, {'id': 35, '...</td>\n",
              "      <td>862</td>\n",
              "      <td>en</td>\n",
              "      <td>Led by Woody, Andy's toys live happily in his ...</td>\n",
              "      <td>21.9469</td>\n",
              "      <td>/rhIRbceoE9lR4veEXuwCC2wARtG.jpg</td>\n",
              "      <td>[{'name': 'Pixar Animation Studios', 'id': 3}]</td>\n",
              "      <td>[{'iso_3166_1': 'US', 'name': 'United States o...</td>\n",
              "      <td>1995-10-30</td>\n",
              "      <td>373554033.0</td>\n",
              "      <td>81.0</td>\n",
              "      <td>[{'iso_639_1': 'en', 'name': 'English'}]</td>\n",
              "      <td>Released</td>\n",
              "      <td>NaN</td>\n",
              "      <td>Toy Story</td>\n",
              "      <td>7.7</td>\n",
              "      <td>5415.0</td>\n",
              "    </tr>\n",
              "    <tr>\n",
              "      <th>1</th>\n",
              "      <td>NaN</td>\n",
              "      <td>65000000</td>\n",
              "      <td>[{'id': 12, 'name': 'Adventure'}, {'id': 14, '...</td>\n",
              "      <td>8844</td>\n",
              "      <td>en</td>\n",
              "      <td>When siblings Judy and Peter discover an encha...</td>\n",
              "      <td>17.0155</td>\n",
              "      <td>/vzmL6fP7aPKNKPRTFnZmiUfciyV.jpg</td>\n",
              "      <td>[{'name': 'TriStar Pictures', 'id': 559}, {'na...</td>\n",
              "      <td>[{'iso_3166_1': 'US', 'name': 'United States o...</td>\n",
              "      <td>1995-12-15</td>\n",
              "      <td>262797249.0</td>\n",
              "      <td>104.0</td>\n",
              "      <td>[{'iso_639_1': 'en', 'name': 'English'}, {'iso...</td>\n",
              "      <td>Released</td>\n",
              "      <td>Roll the dice and unleash the excitement!</td>\n",
              "      <td>Jumanji</td>\n",
              "      <td>6.9</td>\n",
              "      <td>2413.0</td>\n",
              "    </tr>\n",
              "  </tbody>\n",
              "</table>\n",
              "</div>"
            ],
            "text/plain": [
              "                               belongs_to_collection    budget  \\\n",
              "0  {'id': 10194, 'name': 'Toy Story Collection', ...  30000000   \n",
              "1                                                NaN  65000000   \n",
              "\n",
              "                                              genres    id original_language  \\\n",
              "0  [{'id': 16, 'name': 'Animation'}, {'id': 35, '...   862                en   \n",
              "1  [{'id': 12, 'name': 'Adventure'}, {'id': 14, '...  8844                en   \n",
              "\n",
              "                                            overview popularity  \\\n",
              "0  Led by Woody, Andy's toys live happily in his ...    21.9469   \n",
              "1  When siblings Judy and Peter discover an encha...    17.0155   \n",
              "\n",
              "                        poster_path  \\\n",
              "0  /rhIRbceoE9lR4veEXuwCC2wARtG.jpg   \n",
              "1  /vzmL6fP7aPKNKPRTFnZmiUfciyV.jpg   \n",
              "\n",
              "                                production_companies  \\\n",
              "0     [{'name': 'Pixar Animation Studios', 'id': 3}]   \n",
              "1  [{'name': 'TriStar Pictures', 'id': 559}, {'na...   \n",
              "\n",
              "                                production_countries release_date  \\\n",
              "0  [{'iso_3166_1': 'US', 'name': 'United States o...   1995-10-30   \n",
              "1  [{'iso_3166_1': 'US', 'name': 'United States o...   1995-12-15   \n",
              "\n",
              "       revenue  runtime                                   spoken_languages  \\\n",
              "0  373554033.0     81.0           [{'iso_639_1': 'en', 'name': 'English'}]   \n",
              "1  262797249.0    104.0  [{'iso_639_1': 'en', 'name': 'English'}, {'iso...   \n",
              "\n",
              "     status                                    tagline      title  \\\n",
              "0  Released                                        NaN  Toy Story   \n",
              "1  Released  Roll the dice and unleash the excitement!    Jumanji   \n",
              "\n",
              "   vote_average  vote_count  \n",
              "0           7.7      5415.0  \n",
              "1           6.9      2413.0  "
            ]
          },
          "metadata": {},
          "execution_count": 282
        }
      ]
    },
    {
      "cell_type": "code",
      "metadata": {
        "id": "-x_xOIzPBZNM"
      },
      "source": [
        "json_col=['\tbelongs_to_collection','genres','production_companies','production_countries',\n",
        "          'spoken_languages']"
      ],
      "execution_count": 283,
      "outputs": []
    },
    {
      "cell_type": "code",
      "metadata": {
        "colab": {
          "base_uri": "https://localhost:8080/",
          "height": 52
        },
        "id": "q0ce-k8hB0oc",
        "outputId": "e66244ff-46b5-4c68-d0a6-2af68d9d36c5"
      },
      "source": [
        "df.belongs_to_collection[0]"
      ],
      "execution_count": 284,
      "outputs": [
        {
          "output_type": "execute_result",
          "data": {
            "application/vnd.google.colaboratory.intrinsic+json": {
              "type": "string"
            },
            "text/plain": [
              "\"{'id': 10194, 'name': 'Toy Story Collection', 'poster_path': '/7G9915LfUQ2lVfwMEEhDsn3kT4B.jpg', 'backdrop_path': '/9FBwqcd9IRruEDUrTdcaafOMKUq.jpg'}\""
            ]
          },
          "metadata": {},
          "execution_count": 284
        }
      ]
    },
    {
      "cell_type": "code",
      "metadata": {
        "id": "06WaeaE8B3IM"
      },
      "source": [
        "# Example \n",
        "json1=\"{'dog':3,'cat':5}\""
      ],
      "execution_count": 285,
      "outputs": []
    },
    {
      "cell_type": "code",
      "metadata": {
        "colab": {
          "base_uri": "https://localhost:8080/",
          "height": 324
        },
        "id": "MpOZc3ocC_ca",
        "outputId": "fe0f19e0-96d3-4aaa-e605-d6aaa0b97933"
      },
      "source": [
        "#load json file \n",
        "json.loads(json1)"
      ],
      "execution_count": 287,
      "outputs": [
        {
          "output_type": "error",
          "ename": "JSONDecodeError",
          "evalue": "ignored",
          "traceback": [
            "\u001b[0;31m---------------------------------------------------------------------------\u001b[0m",
            "\u001b[0;31mJSONDecodeError\u001b[0m                           Traceback (most recent call last)",
            "\u001b[0;32m<ipython-input-287-0eb98e71fa55>\u001b[0m in \u001b[0;36m<module>\u001b[0;34m()\u001b[0m\n\u001b[1;32m      1\u001b[0m \u001b[0;31m#load json file\u001b[0m\u001b[0;34m\u001b[0m\u001b[0;34m\u001b[0m\u001b[0;34m\u001b[0m\u001b[0m\n\u001b[0;32m----> 2\u001b[0;31m \u001b[0mjson\u001b[0m\u001b[0;34m.\u001b[0m\u001b[0mloads\u001b[0m\u001b[0;34m(\u001b[0m\u001b[0mjson1\u001b[0m\u001b[0;34m)\u001b[0m\u001b[0;34m\u001b[0m\u001b[0;34m\u001b[0m\u001b[0m\n\u001b[0m",
            "\u001b[0;32m/usr/lib/python3.7/json/__init__.py\u001b[0m in \u001b[0;36mloads\u001b[0;34m(s, encoding, cls, object_hook, parse_float, parse_int, parse_constant, object_pairs_hook, **kw)\u001b[0m\n\u001b[1;32m    346\u001b[0m             \u001b[0mparse_int\u001b[0m \u001b[0;32mis\u001b[0m \u001b[0;32mNone\u001b[0m \u001b[0;32mand\u001b[0m \u001b[0mparse_float\u001b[0m \u001b[0;32mis\u001b[0m \u001b[0;32mNone\u001b[0m \u001b[0;32mand\u001b[0m\u001b[0;34m\u001b[0m\u001b[0;34m\u001b[0m\u001b[0m\n\u001b[1;32m    347\u001b[0m             parse_constant is None and object_pairs_hook is None and not kw):\n\u001b[0;32m--> 348\u001b[0;31m         \u001b[0;32mreturn\u001b[0m \u001b[0m_default_decoder\u001b[0m\u001b[0;34m.\u001b[0m\u001b[0mdecode\u001b[0m\u001b[0;34m(\u001b[0m\u001b[0ms\u001b[0m\u001b[0;34m)\u001b[0m\u001b[0;34m\u001b[0m\u001b[0;34m\u001b[0m\u001b[0m\n\u001b[0m\u001b[1;32m    349\u001b[0m     \u001b[0;32mif\u001b[0m \u001b[0mcls\u001b[0m \u001b[0;32mis\u001b[0m \u001b[0;32mNone\u001b[0m\u001b[0;34m:\u001b[0m\u001b[0;34m\u001b[0m\u001b[0;34m\u001b[0m\u001b[0m\n\u001b[1;32m    350\u001b[0m         \u001b[0mcls\u001b[0m \u001b[0;34m=\u001b[0m \u001b[0mJSONDecoder\u001b[0m\u001b[0;34m\u001b[0m\u001b[0;34m\u001b[0m\u001b[0m\n",
            "\u001b[0;32m/usr/lib/python3.7/json/decoder.py\u001b[0m in \u001b[0;36mdecode\u001b[0;34m(self, s, _w)\u001b[0m\n\u001b[1;32m    335\u001b[0m \u001b[0;34m\u001b[0m\u001b[0m\n\u001b[1;32m    336\u001b[0m         \"\"\"\n\u001b[0;32m--> 337\u001b[0;31m         \u001b[0mobj\u001b[0m\u001b[0;34m,\u001b[0m \u001b[0mend\u001b[0m \u001b[0;34m=\u001b[0m \u001b[0mself\u001b[0m\u001b[0;34m.\u001b[0m\u001b[0mraw_decode\u001b[0m\u001b[0;34m(\u001b[0m\u001b[0ms\u001b[0m\u001b[0;34m,\u001b[0m \u001b[0midx\u001b[0m\u001b[0;34m=\u001b[0m\u001b[0m_w\u001b[0m\u001b[0;34m(\u001b[0m\u001b[0ms\u001b[0m\u001b[0;34m,\u001b[0m \u001b[0;36m0\u001b[0m\u001b[0;34m)\u001b[0m\u001b[0;34m.\u001b[0m\u001b[0mend\u001b[0m\u001b[0;34m(\u001b[0m\u001b[0;34m)\u001b[0m\u001b[0;34m)\u001b[0m\u001b[0;34m\u001b[0m\u001b[0;34m\u001b[0m\u001b[0m\n\u001b[0m\u001b[1;32m    338\u001b[0m         \u001b[0mend\u001b[0m \u001b[0;34m=\u001b[0m \u001b[0m_w\u001b[0m\u001b[0;34m(\u001b[0m\u001b[0ms\u001b[0m\u001b[0;34m,\u001b[0m \u001b[0mend\u001b[0m\u001b[0;34m)\u001b[0m\u001b[0;34m.\u001b[0m\u001b[0mend\u001b[0m\u001b[0;34m(\u001b[0m\u001b[0;34m)\u001b[0m\u001b[0;34m\u001b[0m\u001b[0;34m\u001b[0m\u001b[0m\n\u001b[1;32m    339\u001b[0m         \u001b[0;32mif\u001b[0m \u001b[0mend\u001b[0m \u001b[0;34m!=\u001b[0m \u001b[0mlen\u001b[0m\u001b[0;34m(\u001b[0m\u001b[0ms\u001b[0m\u001b[0;34m)\u001b[0m\u001b[0;34m:\u001b[0m\u001b[0;34m\u001b[0m\u001b[0;34m\u001b[0m\u001b[0m\n",
            "\u001b[0;32m/usr/lib/python3.7/json/decoder.py\u001b[0m in \u001b[0;36mraw_decode\u001b[0;34m(self, s, idx)\u001b[0m\n\u001b[1;32m    351\u001b[0m         \"\"\"\n\u001b[1;32m    352\u001b[0m         \u001b[0;32mtry\u001b[0m\u001b[0;34m:\u001b[0m\u001b[0;34m\u001b[0m\u001b[0;34m\u001b[0m\u001b[0m\n\u001b[0;32m--> 353\u001b[0;31m             \u001b[0mobj\u001b[0m\u001b[0;34m,\u001b[0m \u001b[0mend\u001b[0m \u001b[0;34m=\u001b[0m \u001b[0mself\u001b[0m\u001b[0;34m.\u001b[0m\u001b[0mscan_once\u001b[0m\u001b[0;34m(\u001b[0m\u001b[0ms\u001b[0m\u001b[0;34m,\u001b[0m \u001b[0midx\u001b[0m\u001b[0;34m)\u001b[0m\u001b[0;34m\u001b[0m\u001b[0;34m\u001b[0m\u001b[0m\n\u001b[0m\u001b[1;32m    354\u001b[0m         \u001b[0;32mexcept\u001b[0m \u001b[0mStopIteration\u001b[0m \u001b[0;32mas\u001b[0m \u001b[0merr\u001b[0m\u001b[0;34m:\u001b[0m\u001b[0;34m\u001b[0m\u001b[0;34m\u001b[0m\u001b[0m\n\u001b[1;32m    355\u001b[0m             \u001b[0;32mraise\u001b[0m \u001b[0mJSONDecodeError\u001b[0m\u001b[0;34m(\u001b[0m\u001b[0;34m\"Expecting value\"\u001b[0m\u001b[0;34m,\u001b[0m \u001b[0ms\u001b[0m\u001b[0;34m,\u001b[0m \u001b[0merr\u001b[0m\u001b[0;34m.\u001b[0m\u001b[0mvalue\u001b[0m\u001b[0;34m)\u001b[0m \u001b[0;32mfrom\u001b[0m \u001b[0;32mNone\u001b[0m\u001b[0;34m\u001b[0m\u001b[0;34m\u001b[0m\u001b[0m\n",
            "\u001b[0;31mJSONDecodeError\u001b[0m: Expecting property name enclosed in double quotes: line 1 column 2 (char 1)"
          ]
        }
      ]
    },
    {
      "cell_type": "code",
      "metadata": {
        "id": "L9ZP9LtQDE85"
      },
      "source": [
        "json2='{\"dog\":3,\"cat\":5}'"
      ],
      "execution_count": 288,
      "outputs": []
    },
    {
      "cell_type": "code",
      "metadata": {
        "colab": {
          "base_uri": "https://localhost:8080/"
        },
        "id": "q6gSzP5wDTXJ",
        "outputId": "4eba0b42-928b-4045-9fbc-1462968dc8ee"
      },
      "source": [
        "json.loads(json2)"
      ],
      "execution_count": 289,
      "outputs": [
        {
          "output_type": "execute_result",
          "data": {
            "text/plain": [
              "{'cat': 5, 'dog': 3}"
            ]
          },
          "metadata": {},
          "execution_count": 289
        }
      ]
    },
    {
      "cell_type": "code",
      "metadata": {
        "colab": {
          "base_uri": "https://localhost:8080/",
          "height": 35
        },
        "id": "mZLGCC38DYI8",
        "outputId": "aa606757-c0d8-4cb5-a63e-fa603fd1bc47"
      },
      "source": [
        "#Replace '' by \"\" with json1\n",
        "json1.replace(\"'\",'\"')"
      ],
      "execution_count": 290,
      "outputs": [
        {
          "output_type": "execute_result",
          "data": {
            "application/vnd.google.colaboratory.intrinsic+json": {
              "type": "string"
            },
            "text/plain": [
              "'{\"dog\":3,\"cat\":5}'"
            ]
          },
          "metadata": {},
          "execution_count": 290
        }
      ]
    },
    {
      "cell_type": "code",
      "metadata": {
        "colab": {
          "base_uri": "https://localhost:8080/"
        },
        "id": "U8OV24GlDlxM",
        "outputId": "a3d7a21f-e342-429a-bcb2-26962ae2cc2c"
      },
      "source": [
        "json.loads(json1.replace(\"'\",'\"'))"
      ],
      "execution_count": 291,
      "outputs": [
        {
          "output_type": "execute_result",
          "data": {
            "text/plain": [
              "{'cat': 5, 'dog': 3}"
            ]
          },
          "metadata": {},
          "execution_count": 291
        }
      ]
    },
    {
      "cell_type": "code",
      "metadata": {
        "colab": {
          "base_uri": "https://localhost:8080/"
        },
        "id": "-q3vYD9BDr9R",
        "outputId": "1522f821-cb0a-4b64-ffe7-d6a1964e822d"
      },
      "source": [
        "# Let's do the same with dataset df within json type columns\n",
        "df.genres.apply(lambda x:json.loads(x.replace(\"'\",'\"')))[0]"
      ],
      "execution_count": 292,
      "outputs": [
        {
          "output_type": "execute_result",
          "data": {
            "text/plain": [
              "[{'id': 16, 'name': 'Animation'},\n",
              " {'id': 35, 'name': 'Comedy'},\n",
              " {'id': 10751, 'name': 'Family'}]"
            ]
          },
          "metadata": {},
          "execution_count": 292
        }
      ]
    },
    {
      "cell_type": "code",
      "metadata": {
        "colab": {
          "base_uri": "https://localhost:8080/"
        },
        "id": "9YUw_6rAD_Bz",
        "outputId": "2d9ce7ad-5ca5-45b2-a238-e469c8248f05"
      },
      "source": [
        "### Other solution for replace by ast \n",
        "ast.literal_eval(json1)"
      ],
      "execution_count": 293,
      "outputs": [
        {
          "output_type": "execute_result",
          "data": {
            "text/plain": [
              "{'cat': 5, 'dog': 3}"
            ]
          },
          "metadata": {},
          "execution_count": 293
        }
      ]
    },
    {
      "cell_type": "code",
      "metadata": {
        "colab": {
          "base_uri": "https://localhost:8080/"
        },
        "id": "dIjeMOcBEts-",
        "outputId": "6ff86d3b-7037-46c8-f8b2-0d8f330d8690"
      },
      "source": [
        "ast.literal_eval(json2)"
      ],
      "execution_count": 294,
      "outputs": [
        {
          "output_type": "execute_result",
          "data": {
            "text/plain": [
              "{'cat': 5, 'dog': 3}"
            ]
          },
          "metadata": {},
          "execution_count": 294
        }
      ]
    },
    {
      "cell_type": "code",
      "metadata": {
        "colab": {
          "base_uri": "https://localhost:8080/"
        },
        "id": "x8v1EO3pExC3",
        "outputId": "04c2628a-4dda-4d0a-f733-fc100a018369"
      },
      "source": [
        "df.genres.apply(ast.literal_eval)[0]"
      ],
      "execution_count": 295,
      "outputs": [
        {
          "output_type": "execute_result",
          "data": {
            "text/plain": [
              "[{'id': 16, 'name': 'Animation'},\n",
              " {'id': 35, 'name': 'Comedy'},\n",
              " {'id': 10751, 'name': 'Family'}]"
            ]
          },
          "metadata": {},
          "execution_count": 295
        }
      ]
    },
    {
      "cell_type": "code",
      "metadata": {
        "id": "8hP-nvsJE5uX"
      },
      "source": [
        "#Let's apply for all columns with format json \n",
        "#df.loc[:,json_col].apply(ast.literal_eval, axis=0)"
      ],
      "execution_count": 296,
      "outputs": []
    },
    {
      "cell_type": "markdown",
      "metadata": {
        "id": "vZW0VnHq4xGM"
      },
      "source": [
        "######How to handle stringified JSON columns (PART 2)"
      ]
    },
    {
      "cell_type": "code",
      "metadata": {
        "id": "6x9YCQbBFKKd"
      },
      "source": [
        "import numpy as np "
      ],
      "execution_count": 297,
      "outputs": []
    },
    {
      "cell_type": "code",
      "metadata": {
        "colab": {
          "base_uri": "https://localhost:8080/",
          "height": 318
        },
        "id": "9AYXOQjZ5sQn",
        "outputId": "814253f5-fc9a-4b7b-bd9e-82e4b70fc725"
      },
      "source": [
        "df.head(2)"
      ],
      "execution_count": 298,
      "outputs": [
        {
          "output_type": "execute_result",
          "data": {
            "text/html": [
              "<div>\n",
              "<style scoped>\n",
              "    .dataframe tbody tr th:only-of-type {\n",
              "        vertical-align: middle;\n",
              "    }\n",
              "\n",
              "    .dataframe tbody tr th {\n",
              "        vertical-align: top;\n",
              "    }\n",
              "\n",
              "    .dataframe thead th {\n",
              "        text-align: right;\n",
              "    }\n",
              "</style>\n",
              "<table border=\"1\" class=\"dataframe\">\n",
              "  <thead>\n",
              "    <tr style=\"text-align: right;\">\n",
              "      <th></th>\n",
              "      <th>belongs_to_collection</th>\n",
              "      <th>budget</th>\n",
              "      <th>genres</th>\n",
              "      <th>id</th>\n",
              "      <th>original_language</th>\n",
              "      <th>overview</th>\n",
              "      <th>popularity</th>\n",
              "      <th>poster_path</th>\n",
              "      <th>production_companies</th>\n",
              "      <th>production_countries</th>\n",
              "      <th>release_date</th>\n",
              "      <th>revenue</th>\n",
              "      <th>runtime</th>\n",
              "      <th>spoken_languages</th>\n",
              "      <th>status</th>\n",
              "      <th>tagline</th>\n",
              "      <th>title</th>\n",
              "      <th>vote_average</th>\n",
              "      <th>vote_count</th>\n",
              "    </tr>\n",
              "  </thead>\n",
              "  <tbody>\n",
              "    <tr>\n",
              "      <th>0</th>\n",
              "      <td>{'id': 10194, 'name': 'Toy Story Collection', ...</td>\n",
              "      <td>30000000</td>\n",
              "      <td>[{'id': 16, 'name': 'Animation'}, {'id': 35, '...</td>\n",
              "      <td>862</td>\n",
              "      <td>en</td>\n",
              "      <td>Led by Woody, Andy's toys live happily in his ...</td>\n",
              "      <td>21.9469</td>\n",
              "      <td>/rhIRbceoE9lR4veEXuwCC2wARtG.jpg</td>\n",
              "      <td>[{'name': 'Pixar Animation Studios', 'id': 3}]</td>\n",
              "      <td>[{'iso_3166_1': 'US', 'name': 'United States o...</td>\n",
              "      <td>1995-10-30</td>\n",
              "      <td>373554033.0</td>\n",
              "      <td>81.0</td>\n",
              "      <td>[{'iso_639_1': 'en', 'name': 'English'}]</td>\n",
              "      <td>Released</td>\n",
              "      <td>NaN</td>\n",
              "      <td>Toy Story</td>\n",
              "      <td>7.7</td>\n",
              "      <td>5415.0</td>\n",
              "    </tr>\n",
              "    <tr>\n",
              "      <th>1</th>\n",
              "      <td>NaN</td>\n",
              "      <td>65000000</td>\n",
              "      <td>[{'id': 12, 'name': 'Adventure'}, {'id': 14, '...</td>\n",
              "      <td>8844</td>\n",
              "      <td>en</td>\n",
              "      <td>When siblings Judy and Peter discover an encha...</td>\n",
              "      <td>17.0155</td>\n",
              "      <td>/vzmL6fP7aPKNKPRTFnZmiUfciyV.jpg</td>\n",
              "      <td>[{'name': 'TriStar Pictures', 'id': 559}, {'na...</td>\n",
              "      <td>[{'iso_3166_1': 'US', 'name': 'United States o...</td>\n",
              "      <td>1995-12-15</td>\n",
              "      <td>262797249.0</td>\n",
              "      <td>104.0</td>\n",
              "      <td>[{'iso_639_1': 'en', 'name': 'English'}, {'iso...</td>\n",
              "      <td>Released</td>\n",
              "      <td>Roll the dice and unleash the excitement!</td>\n",
              "      <td>Jumanji</td>\n",
              "      <td>6.9</td>\n",
              "      <td>2413.0</td>\n",
              "    </tr>\n",
              "  </tbody>\n",
              "</table>\n",
              "</div>"
            ],
            "text/plain": [
              "                               belongs_to_collection    budget  \\\n",
              "0  {'id': 10194, 'name': 'Toy Story Collection', ...  30000000   \n",
              "1                                                NaN  65000000   \n",
              "\n",
              "                                              genres    id original_language  \\\n",
              "0  [{'id': 16, 'name': 'Animation'}, {'id': 35, '...   862                en   \n",
              "1  [{'id': 12, 'name': 'Adventure'}, {'id': 14, '...  8844                en   \n",
              "\n",
              "                                            overview popularity  \\\n",
              "0  Led by Woody, Andy's toys live happily in his ...    21.9469   \n",
              "1  When siblings Judy and Peter discover an encha...    17.0155   \n",
              "\n",
              "                        poster_path  \\\n",
              "0  /rhIRbceoE9lR4veEXuwCC2wARtG.jpg   \n",
              "1  /vzmL6fP7aPKNKPRTFnZmiUfciyV.jpg   \n",
              "\n",
              "                                production_companies  \\\n",
              "0     [{'name': 'Pixar Animation Studios', 'id': 3}]   \n",
              "1  [{'name': 'TriStar Pictures', 'id': 559}, {'na...   \n",
              "\n",
              "                                production_countries release_date  \\\n",
              "0  [{'iso_3166_1': 'US', 'name': 'United States o...   1995-10-30   \n",
              "1  [{'iso_3166_1': 'US', 'name': 'United States o...   1995-12-15   \n",
              "\n",
              "       revenue  runtime                                   spoken_languages  \\\n",
              "0  373554033.0     81.0           [{'iso_639_1': 'en', 'name': 'English'}]   \n",
              "1  262797249.0    104.0  [{'iso_639_1': 'en', 'name': 'English'}, {'iso...   \n",
              "\n",
              "     status                                    tagline      title  \\\n",
              "0  Released                                        NaN  Toy Story   \n",
              "1  Released  Roll the dice and unleash the excitement!    Jumanji   \n",
              "\n",
              "   vote_average  vote_count  \n",
              "0           7.7      5415.0  \n",
              "1           6.9      2413.0  "
            ]
          },
          "metadata": {},
          "execution_count": 298
        }
      ]
    },
    {
      "cell_type": "code",
      "metadata": {
        "colab": {
          "base_uri": "https://localhost:8080/"
        },
        "id": "mbFUBd_c468_",
        "outputId": "913a4834-2962-4b8c-f562-53a2d102d0f5"
      },
      "source": [
        "df.columns"
      ],
      "execution_count": 299,
      "outputs": [
        {
          "output_type": "execute_result",
          "data": {
            "text/plain": [
              "Index(['belongs_to_collection', 'budget', 'genres', 'id', 'original_language',\n",
              "       'overview', 'popularity', 'poster_path', 'production_companies',\n",
              "       'production_countries', 'release_date', 'revenue', 'runtime',\n",
              "       'spoken_languages', 'status', 'tagline', 'title', 'vote_average',\n",
              "       'vote_count'],\n",
              "      dtype='object')"
            ]
          },
          "metadata": {},
          "execution_count": 299
        }
      ]
    },
    {
      "cell_type": "code",
      "metadata": {
        "colab": {
          "base_uri": "https://localhost:8080/"
        },
        "id": "1Gozq66m49pH",
        "outputId": "05be0da2-da69-45b3-a412-ddf1b32b805f"
      },
      "source": [
        "df.belongs_to_collection"
      ],
      "execution_count": 300,
      "outputs": [
        {
          "output_type": "execute_result",
          "data": {
            "text/plain": [
              "0        {'id': 10194, 'name': 'Toy Story Collection', ...\n",
              "1                                                      NaN\n",
              "2        {'id': 119050, 'name': 'Grumpy Old Men Collect...\n",
              "3                                                      NaN\n",
              "4        {'id': 96871, 'name': 'Father of the Bride Col...\n",
              "                               ...                        \n",
              "45461                                                  NaN\n",
              "45462                                                  NaN\n",
              "45463                                                  NaN\n",
              "45464                                                  NaN\n",
              "45465                                                  NaN\n",
              "Name: belongs_to_collection, Length: 45466, dtype: object"
            ]
          },
          "metadata": {},
          "execution_count": 300
        }
      ]
    },
    {
      "cell_type": "code",
      "metadata": {
        "colab": {
          "base_uri": "https://localhost:8080/"
        },
        "id": "PszSTNjE5NdN",
        "outputId": "d4a8c4c7-5e1c-46eb-ca6c-dfa8ba7f8607"
      },
      "source": [
        "# Check if the element it is string or not\n",
        "df.belongs_to_collection.apply(lambda x: isinstance(x, str))"
      ],
      "execution_count": 301,
      "outputs": [
        {
          "output_type": "execute_result",
          "data": {
            "text/plain": [
              "0         True\n",
              "1        False\n",
              "2         True\n",
              "3        False\n",
              "4         True\n",
              "         ...  \n",
              "45461    False\n",
              "45462    False\n",
              "45463    False\n",
              "45464    False\n",
              "45465    False\n",
              "Name: belongs_to_collection, Length: 45466, dtype: bool"
            ]
          },
          "metadata": {},
          "execution_count": 301
        }
      ]
    },
    {
      "cell_type": "code",
      "metadata": {
        "id": "cyq2i_4B5ic8"
      },
      "source": [
        "#Apply lambda function to belongs_to_collection of each area of the element verify whether \n",
        "df.belongs_to_collection=df.belongs_to_collection.apply(lambda x: ast.literal_eval(x) if isinstance(x, str) else np.nan)"
      ],
      "execution_count": 302,
      "outputs": []
    },
    {
      "cell_type": "code",
      "metadata": {
        "colab": {
          "base_uri": "https://localhost:8080/"
        },
        "id": "iNPtxLLO6k9l",
        "outputId": "8c81f400-72de-4ae0-8258-e1374ac02767"
      },
      "source": [
        "df.belongs_to_collection[0]"
      ],
      "execution_count": 303,
      "outputs": [
        {
          "output_type": "execute_result",
          "data": {
            "text/plain": [
              "{'backdrop_path': '/9FBwqcd9IRruEDUrTdcaafOMKUq.jpg',\n",
              " 'id': 10194,\n",
              " 'name': 'Toy Story Collection',\n",
              " 'poster_path': '/7G9915LfUQ2lVfwMEEhDsn3kT4B.jpg'}"
            ]
          },
          "metadata": {},
          "execution_count": 303
        }
      ]
    },
    {
      "cell_type": "code",
      "metadata": {
        "colab": {
          "base_uri": "https://localhost:8080/"
        },
        "id": "nkQK0gMH_glg",
        "outputId": "26220632-cbf8-4914-f469-366fe6e9de63"
      },
      "source": [
        "df.spoken_languages"
      ],
      "execution_count": 304,
      "outputs": [
        {
          "output_type": "execute_result",
          "data": {
            "text/plain": [
              "0                 [{'iso_639_1': 'en', 'name': 'English'}]\n",
              "1        [{'iso_639_1': 'en', 'name': 'English'}, {'iso...\n",
              "2                 [{'iso_639_1': 'en', 'name': 'English'}]\n",
              "3                 [{'iso_639_1': 'en', 'name': 'English'}]\n",
              "4                 [{'iso_639_1': 'en', 'name': 'English'}]\n",
              "                               ...                        \n",
              "45461               [{'iso_639_1': 'fa', 'name': 'فارسی'}]\n",
              "45462                    [{'iso_639_1': 'tl', 'name': ''}]\n",
              "45463             [{'iso_639_1': 'en', 'name': 'English'}]\n",
              "45464                                                   []\n",
              "45465             [{'iso_639_1': 'en', 'name': 'English'}]\n",
              "Name: spoken_languages, Length: 45466, dtype: object"
            ]
          },
          "metadata": {},
          "execution_count": 304
        }
      ]
    },
    {
      "cell_type": "code",
      "metadata": {
        "id": "tR8qjuoH_wAw"
      },
      "source": [
        "#Apply lambda function to belongs_to_collection of each area of the element verify whether \n",
        "df.spoken_languages=df.spoken_languages.apply(lambda x: ast.literal_eval(x) if isinstance(x, str) else np.nan)"
      ],
      "execution_count": 305,
      "outputs": []
    },
    {
      "cell_type": "code",
      "metadata": {
        "colab": {
          "base_uri": "https://localhost:8080/"
        },
        "id": "1ooq6h4h_34N",
        "outputId": "f1290fc2-c2a6-44a7-997e-54dc0be78e58"
      },
      "source": [
        "df.spoken_languages"
      ],
      "execution_count": 306,
      "outputs": [
        {
          "output_type": "execute_result",
          "data": {
            "text/plain": [
              "0                 [{'iso_639_1': 'en', 'name': 'English'}]\n",
              "1        [{'iso_639_1': 'en', 'name': 'English'}, {'iso...\n",
              "2                 [{'iso_639_1': 'en', 'name': 'English'}]\n",
              "3                 [{'iso_639_1': 'en', 'name': 'English'}]\n",
              "4                 [{'iso_639_1': 'en', 'name': 'English'}]\n",
              "                               ...                        \n",
              "45461               [{'iso_639_1': 'fa', 'name': 'فارسی'}]\n",
              "45462                    [{'iso_639_1': 'tl', 'name': ''}]\n",
              "45463             [{'iso_639_1': 'en', 'name': 'English'}]\n",
              "45464                                                   []\n",
              "45465             [{'iso_639_1': 'en', 'name': 'English'}]\n",
              "Name: spoken_languages, Length: 45466, dtype: object"
            ]
          },
          "metadata": {},
          "execution_count": 306
        }
      ]
    },
    {
      "cell_type": "code",
      "metadata": {
        "colab": {
          "base_uri": "https://localhost:8080/"
        },
        "id": "1HWfaWLP_6Gw",
        "outputId": "01de995f-91bb-45fe-e535-7dd80f25f941"
      },
      "source": [
        "# production_countries'\n",
        "df.production_companies"
      ],
      "execution_count": 307,
      "outputs": [
        {
          "output_type": "execute_result",
          "data": {
            "text/plain": [
              "0           [{'name': 'Pixar Animation Studios', 'id': 3}]\n",
              "1        [{'name': 'TriStar Pictures', 'id': 559}, {'na...\n",
              "2        [{'name': 'Warner Bros.', 'id': 6194}, {'name'...\n",
              "3        [{'name': 'Twentieth Century Fox Film Corporat...\n",
              "4        [{'name': 'Sandollar Productions', 'id': 5842}...\n",
              "                               ...                        \n",
              "45461                                                   []\n",
              "45462               [{'name': 'Sine Olivia', 'id': 19653}]\n",
              "45463    [{'name': 'American World Pictures', 'id': 6165}]\n",
              "45464                 [{'name': 'Yermoliev', 'id': 88753}]\n",
              "45465                                                   []\n",
              "Name: production_companies, Length: 45466, dtype: object"
            ]
          },
          "metadata": {},
          "execution_count": 307
        }
      ]
    },
    {
      "cell_type": "code",
      "metadata": {
        "id": "-5gov0HSALql"
      },
      "source": [
        "df.production_companies=df.production_companies.apply(lambda x: ast.literal_eval(x) if isinstance(x, str) else np.nan)"
      ],
      "execution_count": 308,
      "outputs": []
    },
    {
      "cell_type": "code",
      "metadata": {
        "colab": {
          "base_uri": "https://localhost:8080/"
        },
        "id": "qqFmslgoAbv7",
        "outputId": "87379e59-80d5-46e0-af23-1c88ff89a33d"
      },
      "source": [
        "df.production_companies"
      ],
      "execution_count": 309,
      "outputs": [
        {
          "output_type": "execute_result",
          "data": {
            "text/plain": [
              "0           [{'name': 'Pixar Animation Studios', 'id': 3}]\n",
              "1        [{'name': 'TriStar Pictures', 'id': 559}, {'na...\n",
              "2        [{'name': 'Warner Bros.', 'id': 6194}, {'name'...\n",
              "3        [{'name': 'Twentieth Century Fox Film Corporat...\n",
              "4        [{'name': 'Sandollar Productions', 'id': 5842}...\n",
              "                               ...                        \n",
              "45461                                                   []\n",
              "45462               [{'name': 'Sine Olivia', 'id': 19653}]\n",
              "45463    [{'name': 'American World Pictures', 'id': 6165}]\n",
              "45464                 [{'name': 'Yermoliev', 'id': 88753}]\n",
              "45465                                                   []\n",
              "Name: production_companies, Length: 45466, dtype: object"
            ]
          },
          "metadata": {},
          "execution_count": 309
        }
      ]
    },
    {
      "cell_type": "code",
      "metadata": {
        "colab": {
          "base_uri": "https://localhost:8080/",
          "height": 1000
        },
        "id": "S1K5kxOwAsj7",
        "outputId": "069852ad-b23c-46c4-e109-6980d6019ed3"
      },
      "source": [
        "df"
      ],
      "execution_count": 310,
      "outputs": [
        {
          "output_type": "execute_result",
          "data": {
            "text/html": [
              "<div>\n",
              "<style scoped>\n",
              "    .dataframe tbody tr th:only-of-type {\n",
              "        vertical-align: middle;\n",
              "    }\n",
              "\n",
              "    .dataframe tbody tr th {\n",
              "        vertical-align: top;\n",
              "    }\n",
              "\n",
              "    .dataframe thead th {\n",
              "        text-align: right;\n",
              "    }\n",
              "</style>\n",
              "<table border=\"1\" class=\"dataframe\">\n",
              "  <thead>\n",
              "    <tr style=\"text-align: right;\">\n",
              "      <th></th>\n",
              "      <th>belongs_to_collection</th>\n",
              "      <th>budget</th>\n",
              "      <th>genres</th>\n",
              "      <th>id</th>\n",
              "      <th>original_language</th>\n",
              "      <th>overview</th>\n",
              "      <th>popularity</th>\n",
              "      <th>poster_path</th>\n",
              "      <th>production_companies</th>\n",
              "      <th>production_countries</th>\n",
              "      <th>release_date</th>\n",
              "      <th>revenue</th>\n",
              "      <th>runtime</th>\n",
              "      <th>spoken_languages</th>\n",
              "      <th>status</th>\n",
              "      <th>tagline</th>\n",
              "      <th>title</th>\n",
              "      <th>vote_average</th>\n",
              "      <th>vote_count</th>\n",
              "    </tr>\n",
              "  </thead>\n",
              "  <tbody>\n",
              "    <tr>\n",
              "      <th>0</th>\n",
              "      <td>{'id': 10194, 'name': 'Toy Story Collection', ...</td>\n",
              "      <td>30000000</td>\n",
              "      <td>[{'id': 16, 'name': 'Animation'}, {'id': 35, '...</td>\n",
              "      <td>862</td>\n",
              "      <td>en</td>\n",
              "      <td>Led by Woody, Andy's toys live happily in his ...</td>\n",
              "      <td>21.9469</td>\n",
              "      <td>/rhIRbceoE9lR4veEXuwCC2wARtG.jpg</td>\n",
              "      <td>[{'name': 'Pixar Animation Studios', 'id': 3}]</td>\n",
              "      <td>[{'iso_3166_1': 'US', 'name': 'United States o...</td>\n",
              "      <td>1995-10-30</td>\n",
              "      <td>373554033.0</td>\n",
              "      <td>81.0</td>\n",
              "      <td>[{'iso_639_1': 'en', 'name': 'English'}]</td>\n",
              "      <td>Released</td>\n",
              "      <td>NaN</td>\n",
              "      <td>Toy Story</td>\n",
              "      <td>7.7</td>\n",
              "      <td>5415.0</td>\n",
              "    </tr>\n",
              "    <tr>\n",
              "      <th>1</th>\n",
              "      <td>NaN</td>\n",
              "      <td>65000000</td>\n",
              "      <td>[{'id': 12, 'name': 'Adventure'}, {'id': 14, '...</td>\n",
              "      <td>8844</td>\n",
              "      <td>en</td>\n",
              "      <td>When siblings Judy and Peter discover an encha...</td>\n",
              "      <td>17.0155</td>\n",
              "      <td>/vzmL6fP7aPKNKPRTFnZmiUfciyV.jpg</td>\n",
              "      <td>[{'name': 'TriStar Pictures', 'id': 559}, {'na...</td>\n",
              "      <td>[{'iso_3166_1': 'US', 'name': 'United States o...</td>\n",
              "      <td>1995-12-15</td>\n",
              "      <td>262797249.0</td>\n",
              "      <td>104.0</td>\n",
              "      <td>[{'iso_639_1': 'en', 'name': 'English'}, {'iso...</td>\n",
              "      <td>Released</td>\n",
              "      <td>Roll the dice and unleash the excitement!</td>\n",
              "      <td>Jumanji</td>\n",
              "      <td>6.9</td>\n",
              "      <td>2413.0</td>\n",
              "    </tr>\n",
              "    <tr>\n",
              "      <th>2</th>\n",
              "      <td>{'id': 119050, 'name': 'Grumpy Old Men Collect...</td>\n",
              "      <td>0</td>\n",
              "      <td>[{'id': 10749, 'name': 'Romance'}, {'id': 35, ...</td>\n",
              "      <td>15602</td>\n",
              "      <td>en</td>\n",
              "      <td>A family wedding reignites the ancient feud be...</td>\n",
              "      <td>11.7129</td>\n",
              "      <td>/6ksm1sjKMFLbO7UY2i6G1ju9SML.jpg</td>\n",
              "      <td>[{'name': 'Warner Bros.', 'id': 6194}, {'name'...</td>\n",
              "      <td>[{'iso_3166_1': 'US', 'name': 'United States o...</td>\n",
              "      <td>1995-12-22</td>\n",
              "      <td>0.0</td>\n",
              "      <td>101.0</td>\n",
              "      <td>[{'iso_639_1': 'en', 'name': 'English'}]</td>\n",
              "      <td>Released</td>\n",
              "      <td>Still Yelling. Still Fighting. Still Ready for...</td>\n",
              "      <td>Grumpier Old Men</td>\n",
              "      <td>6.5</td>\n",
              "      <td>92.0</td>\n",
              "    </tr>\n",
              "    <tr>\n",
              "      <th>3</th>\n",
              "      <td>NaN</td>\n",
              "      <td>16000000</td>\n",
              "      <td>[{'id': 35, 'name': 'Comedy'}, {'id': 18, 'nam...</td>\n",
              "      <td>31357</td>\n",
              "      <td>en</td>\n",
              "      <td>Cheated on, mistreated and stepped on, the wom...</td>\n",
              "      <td>3.85949</td>\n",
              "      <td>/16XOMpEaLWkrcPqSQqhTmeJuqQl.jpg</td>\n",
              "      <td>[{'name': 'Twentieth Century Fox Film Corporat...</td>\n",
              "      <td>[{'iso_3166_1': 'US', 'name': 'United States o...</td>\n",
              "      <td>1995-12-22</td>\n",
              "      <td>81452156.0</td>\n",
              "      <td>127.0</td>\n",
              "      <td>[{'iso_639_1': 'en', 'name': 'English'}]</td>\n",
              "      <td>Released</td>\n",
              "      <td>Friends are the people who let you be yourself...</td>\n",
              "      <td>Waiting to Exhale</td>\n",
              "      <td>6.1</td>\n",
              "      <td>34.0</td>\n",
              "    </tr>\n",
              "    <tr>\n",
              "      <th>4</th>\n",
              "      <td>{'id': 96871, 'name': 'Father of the Bride Col...</td>\n",
              "      <td>0</td>\n",
              "      <td>[{'id': 35, 'name': 'Comedy'}]</td>\n",
              "      <td>11862</td>\n",
              "      <td>en</td>\n",
              "      <td>Just when George Banks has recovered from his ...</td>\n",
              "      <td>8.38752</td>\n",
              "      <td>/e64sOI48hQXyru7naBFyssKFxVd.jpg</td>\n",
              "      <td>[{'name': 'Sandollar Productions', 'id': 5842}...</td>\n",
              "      <td>[{'iso_3166_1': 'US', 'name': 'United States o...</td>\n",
              "      <td>1995-02-10</td>\n",
              "      <td>76578911.0</td>\n",
              "      <td>106.0</td>\n",
              "      <td>[{'iso_639_1': 'en', 'name': 'English'}]</td>\n",
              "      <td>Released</td>\n",
              "      <td>Just When His World Is Back To Normal... He's ...</td>\n",
              "      <td>Father of the Bride Part II</td>\n",
              "      <td>5.7</td>\n",
              "      <td>173.0</td>\n",
              "    </tr>\n",
              "    <tr>\n",
              "      <th>...</th>\n",
              "      <td>...</td>\n",
              "      <td>...</td>\n",
              "      <td>...</td>\n",
              "      <td>...</td>\n",
              "      <td>...</td>\n",
              "      <td>...</td>\n",
              "      <td>...</td>\n",
              "      <td>...</td>\n",
              "      <td>...</td>\n",
              "      <td>...</td>\n",
              "      <td>...</td>\n",
              "      <td>...</td>\n",
              "      <td>...</td>\n",
              "      <td>...</td>\n",
              "      <td>...</td>\n",
              "      <td>...</td>\n",
              "      <td>...</td>\n",
              "      <td>...</td>\n",
              "      <td>...</td>\n",
              "    </tr>\n",
              "    <tr>\n",
              "      <th>45461</th>\n",
              "      <td>NaN</td>\n",
              "      <td>0</td>\n",
              "      <td>[{'id': 18, 'name': 'Drama'}, {'id': 10751, 'n...</td>\n",
              "      <td>439050</td>\n",
              "      <td>fa</td>\n",
              "      <td>Rising and falling between a man and woman.</td>\n",
              "      <td>0.072051</td>\n",
              "      <td>/jldsYflnId4tTWPx8es3uzsB1I8.jpg</td>\n",
              "      <td>[]</td>\n",
              "      <td>[{'iso_3166_1': 'IR', 'name': 'Iran'}]</td>\n",
              "      <td>NaN</td>\n",
              "      <td>0.0</td>\n",
              "      <td>90.0</td>\n",
              "      <td>[{'iso_639_1': 'fa', 'name': 'فارسی'}]</td>\n",
              "      <td>Released</td>\n",
              "      <td>Rising and falling between a man and woman</td>\n",
              "      <td>Subdue</td>\n",
              "      <td>4.0</td>\n",
              "      <td>1.0</td>\n",
              "    </tr>\n",
              "    <tr>\n",
              "      <th>45462</th>\n",
              "      <td>NaN</td>\n",
              "      <td>0</td>\n",
              "      <td>[{'id': 18, 'name': 'Drama'}]</td>\n",
              "      <td>111109</td>\n",
              "      <td>tl</td>\n",
              "      <td>An artist struggles to finish his work while a...</td>\n",
              "      <td>0.178241</td>\n",
              "      <td>/xZkmxsNmYXJbKVsTRLLx3pqGHx7.jpg</td>\n",
              "      <td>[{'name': 'Sine Olivia', 'id': 19653}]</td>\n",
              "      <td>[{'iso_3166_1': 'PH', 'name': 'Philippines'}]</td>\n",
              "      <td>2011-11-17</td>\n",
              "      <td>0.0</td>\n",
              "      <td>360.0</td>\n",
              "      <td>[{'iso_639_1': 'tl', 'name': ''}]</td>\n",
              "      <td>Released</td>\n",
              "      <td>NaN</td>\n",
              "      <td>Century of Birthing</td>\n",
              "      <td>9.0</td>\n",
              "      <td>3.0</td>\n",
              "    </tr>\n",
              "    <tr>\n",
              "      <th>45463</th>\n",
              "      <td>NaN</td>\n",
              "      <td>0</td>\n",
              "      <td>[{'id': 28, 'name': 'Action'}, {'id': 18, 'nam...</td>\n",
              "      <td>67758</td>\n",
              "      <td>en</td>\n",
              "      <td>When one of her hits goes wrong, a professiona...</td>\n",
              "      <td>0.903007</td>\n",
              "      <td>/d5bX92nDsISNhu3ZT69uHwmfCGw.jpg</td>\n",
              "      <td>[{'name': 'American World Pictures', 'id': 6165}]</td>\n",
              "      <td>[{'iso_3166_1': 'US', 'name': 'United States o...</td>\n",
              "      <td>2003-08-01</td>\n",
              "      <td>0.0</td>\n",
              "      <td>90.0</td>\n",
              "      <td>[{'iso_639_1': 'en', 'name': 'English'}]</td>\n",
              "      <td>Released</td>\n",
              "      <td>A deadly game of wits.</td>\n",
              "      <td>Betrayal</td>\n",
              "      <td>3.8</td>\n",
              "      <td>6.0</td>\n",
              "    </tr>\n",
              "    <tr>\n",
              "      <th>45464</th>\n",
              "      <td>NaN</td>\n",
              "      <td>0</td>\n",
              "      <td>[]</td>\n",
              "      <td>227506</td>\n",
              "      <td>en</td>\n",
              "      <td>In a small town live two brothers, one a minis...</td>\n",
              "      <td>0.003503</td>\n",
              "      <td>/aorBPO7ak8e8iJKT5OcqYxU3jlK.jpg</td>\n",
              "      <td>[{'name': 'Yermoliev', 'id': 88753}]</td>\n",
              "      <td>[{'iso_3166_1': 'RU', 'name': 'Russia'}]</td>\n",
              "      <td>1917-10-21</td>\n",
              "      <td>0.0</td>\n",
              "      <td>87.0</td>\n",
              "      <td>[]</td>\n",
              "      <td>Released</td>\n",
              "      <td>NaN</td>\n",
              "      <td>Satan Triumphant</td>\n",
              "      <td>0.0</td>\n",
              "      <td>0.0</td>\n",
              "    </tr>\n",
              "    <tr>\n",
              "      <th>45465</th>\n",
              "      <td>NaN</td>\n",
              "      <td>0</td>\n",
              "      <td>[]</td>\n",
              "      <td>461257</td>\n",
              "      <td>en</td>\n",
              "      <td>50 years after decriminalisation of homosexual...</td>\n",
              "      <td>0.163015</td>\n",
              "      <td>/s5UkZt6NTsrS7ZF0Rh8nzupRlIU.jpg</td>\n",
              "      <td>[]</td>\n",
              "      <td>[{'iso_3166_1': 'GB', 'name': 'United Kingdom'}]</td>\n",
              "      <td>2017-06-09</td>\n",
              "      <td>0.0</td>\n",
              "      <td>75.0</td>\n",
              "      <td>[{'iso_639_1': 'en', 'name': 'English'}]</td>\n",
              "      <td>Released</td>\n",
              "      <td>NaN</td>\n",
              "      <td>Queerama</td>\n",
              "      <td>0.0</td>\n",
              "      <td>0.0</td>\n",
              "    </tr>\n",
              "  </tbody>\n",
              "</table>\n",
              "<p>45466 rows × 19 columns</p>\n",
              "</div>"
            ],
            "text/plain": [
              "                                   belongs_to_collection    budget  \\\n",
              "0      {'id': 10194, 'name': 'Toy Story Collection', ...  30000000   \n",
              "1                                                    NaN  65000000   \n",
              "2      {'id': 119050, 'name': 'Grumpy Old Men Collect...         0   \n",
              "3                                                    NaN  16000000   \n",
              "4      {'id': 96871, 'name': 'Father of the Bride Col...         0   \n",
              "...                                                  ...       ...   \n",
              "45461                                                NaN         0   \n",
              "45462                                                NaN         0   \n",
              "45463                                                NaN         0   \n",
              "45464                                                NaN         0   \n",
              "45465                                                NaN         0   \n",
              "\n",
              "                                                  genres      id  \\\n",
              "0      [{'id': 16, 'name': 'Animation'}, {'id': 35, '...     862   \n",
              "1      [{'id': 12, 'name': 'Adventure'}, {'id': 14, '...    8844   \n",
              "2      [{'id': 10749, 'name': 'Romance'}, {'id': 35, ...   15602   \n",
              "3      [{'id': 35, 'name': 'Comedy'}, {'id': 18, 'nam...   31357   \n",
              "4                         [{'id': 35, 'name': 'Comedy'}]   11862   \n",
              "...                                                  ...     ...   \n",
              "45461  [{'id': 18, 'name': 'Drama'}, {'id': 10751, 'n...  439050   \n",
              "45462                      [{'id': 18, 'name': 'Drama'}]  111109   \n",
              "45463  [{'id': 28, 'name': 'Action'}, {'id': 18, 'nam...   67758   \n",
              "45464                                                 []  227506   \n",
              "45465                                                 []  461257   \n",
              "\n",
              "      original_language                                           overview  \\\n",
              "0                    en  Led by Woody, Andy's toys live happily in his ...   \n",
              "1                    en  When siblings Judy and Peter discover an encha...   \n",
              "2                    en  A family wedding reignites the ancient feud be...   \n",
              "3                    en  Cheated on, mistreated and stepped on, the wom...   \n",
              "4                    en  Just when George Banks has recovered from his ...   \n",
              "...                 ...                                                ...   \n",
              "45461                fa        Rising and falling between a man and woman.   \n",
              "45462                tl  An artist struggles to finish his work while a...   \n",
              "45463                en  When one of her hits goes wrong, a professiona...   \n",
              "45464                en  In a small town live two brothers, one a minis...   \n",
              "45465                en  50 years after decriminalisation of homosexual...   \n",
              "\n",
              "      popularity                       poster_path  \\\n",
              "0        21.9469  /rhIRbceoE9lR4veEXuwCC2wARtG.jpg   \n",
              "1        17.0155  /vzmL6fP7aPKNKPRTFnZmiUfciyV.jpg   \n",
              "2        11.7129  /6ksm1sjKMFLbO7UY2i6G1ju9SML.jpg   \n",
              "3        3.85949  /16XOMpEaLWkrcPqSQqhTmeJuqQl.jpg   \n",
              "4        8.38752  /e64sOI48hQXyru7naBFyssKFxVd.jpg   \n",
              "...          ...                               ...   \n",
              "45461   0.072051  /jldsYflnId4tTWPx8es3uzsB1I8.jpg   \n",
              "45462   0.178241  /xZkmxsNmYXJbKVsTRLLx3pqGHx7.jpg   \n",
              "45463   0.903007  /d5bX92nDsISNhu3ZT69uHwmfCGw.jpg   \n",
              "45464   0.003503  /aorBPO7ak8e8iJKT5OcqYxU3jlK.jpg   \n",
              "45465   0.163015  /s5UkZt6NTsrS7ZF0Rh8nzupRlIU.jpg   \n",
              "\n",
              "                                    production_companies  \\\n",
              "0         [{'name': 'Pixar Animation Studios', 'id': 3}]   \n",
              "1      [{'name': 'TriStar Pictures', 'id': 559}, {'na...   \n",
              "2      [{'name': 'Warner Bros.', 'id': 6194}, {'name'...   \n",
              "3      [{'name': 'Twentieth Century Fox Film Corporat...   \n",
              "4      [{'name': 'Sandollar Productions', 'id': 5842}...   \n",
              "...                                                  ...   \n",
              "45461                                                 []   \n",
              "45462             [{'name': 'Sine Olivia', 'id': 19653}]   \n",
              "45463  [{'name': 'American World Pictures', 'id': 6165}]   \n",
              "45464               [{'name': 'Yermoliev', 'id': 88753}]   \n",
              "45465                                                 []   \n",
              "\n",
              "                                    production_countries release_date  \\\n",
              "0      [{'iso_3166_1': 'US', 'name': 'United States o...   1995-10-30   \n",
              "1      [{'iso_3166_1': 'US', 'name': 'United States o...   1995-12-15   \n",
              "2      [{'iso_3166_1': 'US', 'name': 'United States o...   1995-12-22   \n",
              "3      [{'iso_3166_1': 'US', 'name': 'United States o...   1995-12-22   \n",
              "4      [{'iso_3166_1': 'US', 'name': 'United States o...   1995-02-10   \n",
              "...                                                  ...          ...   \n",
              "45461             [{'iso_3166_1': 'IR', 'name': 'Iran'}]          NaN   \n",
              "45462      [{'iso_3166_1': 'PH', 'name': 'Philippines'}]   2011-11-17   \n",
              "45463  [{'iso_3166_1': 'US', 'name': 'United States o...   2003-08-01   \n",
              "45464           [{'iso_3166_1': 'RU', 'name': 'Russia'}]   1917-10-21   \n",
              "45465   [{'iso_3166_1': 'GB', 'name': 'United Kingdom'}]   2017-06-09   \n",
              "\n",
              "           revenue  runtime  \\\n",
              "0      373554033.0     81.0   \n",
              "1      262797249.0    104.0   \n",
              "2              0.0    101.0   \n",
              "3       81452156.0    127.0   \n",
              "4       76578911.0    106.0   \n",
              "...            ...      ...   \n",
              "45461          0.0     90.0   \n",
              "45462          0.0    360.0   \n",
              "45463          0.0     90.0   \n",
              "45464          0.0     87.0   \n",
              "45465          0.0     75.0   \n",
              "\n",
              "                                        spoken_languages    status  \\\n",
              "0               [{'iso_639_1': 'en', 'name': 'English'}]  Released   \n",
              "1      [{'iso_639_1': 'en', 'name': 'English'}, {'iso...  Released   \n",
              "2               [{'iso_639_1': 'en', 'name': 'English'}]  Released   \n",
              "3               [{'iso_639_1': 'en', 'name': 'English'}]  Released   \n",
              "4               [{'iso_639_1': 'en', 'name': 'English'}]  Released   \n",
              "...                                                  ...       ...   \n",
              "45461             [{'iso_639_1': 'fa', 'name': 'فارسی'}]  Released   \n",
              "45462                  [{'iso_639_1': 'tl', 'name': ''}]  Released   \n",
              "45463           [{'iso_639_1': 'en', 'name': 'English'}]  Released   \n",
              "45464                                                 []  Released   \n",
              "45465           [{'iso_639_1': 'en', 'name': 'English'}]  Released   \n",
              "\n",
              "                                                 tagline  \\\n",
              "0                                                    NaN   \n",
              "1              Roll the dice and unleash the excitement!   \n",
              "2      Still Yelling. Still Fighting. Still Ready for...   \n",
              "3      Friends are the people who let you be yourself...   \n",
              "4      Just When His World Is Back To Normal... He's ...   \n",
              "...                                                  ...   \n",
              "45461         Rising and falling between a man and woman   \n",
              "45462                                                NaN   \n",
              "45463                             A deadly game of wits.   \n",
              "45464                                                NaN   \n",
              "45465                                                NaN   \n",
              "\n",
              "                             title  vote_average  vote_count  \n",
              "0                        Toy Story           7.7      5415.0  \n",
              "1                          Jumanji           6.9      2413.0  \n",
              "2                 Grumpier Old Men           6.5        92.0  \n",
              "3                Waiting to Exhale           6.1        34.0  \n",
              "4      Father of the Bride Part II           5.7       173.0  \n",
              "...                            ...           ...         ...  \n",
              "45461                       Subdue           4.0         1.0  \n",
              "45462          Century of Birthing           9.0         3.0  \n",
              "45463                     Betrayal           3.8         6.0  \n",
              "45464             Satan Triumphant           0.0         0.0  \n",
              "45465                     Queerama           0.0         0.0  \n",
              "\n",
              "[45466 rows x 19 columns]"
            ]
          },
          "metadata": {},
          "execution_count": 310
        }
      ]
    },
    {
      "cell_type": "markdown",
      "metadata": {
        "id": "m-9wkntwA93a"
      },
      "source": [
        "######How to flatten nested Columns"
      ]
    },
    {
      "cell_type": "code",
      "metadata": {
        "colab": {
          "base_uri": "https://localhost:8080/"
        },
        "id": "7GxoDN82AzkW",
        "outputId": "cfddfe8f-a8d2-4bda-e04c-a45f8ae52b82"
      },
      "source": [
        "df.belongs_to_collection[0]"
      ],
      "execution_count": 311,
      "outputs": [
        {
          "output_type": "execute_result",
          "data": {
            "text/plain": [
              "{'backdrop_path': '/9FBwqcd9IRruEDUrTdcaafOMKUq.jpg',\n",
              " 'id': 10194,\n",
              " 'name': 'Toy Story Collection',\n",
              " 'poster_path': '/7G9915LfUQ2lVfwMEEhDsn3kT4B.jpg'}"
            ]
          },
          "metadata": {},
          "execution_count": 311
        }
      ]
    },
    {
      "cell_type": "code",
      "metadata": {
        "id": "vNrzwQ8kBEG8"
      },
      "source": [
        "# Check instance dictionnary\n",
        "df.belongs_to_collection=df.belongs_to_collection.apply(lambda x: x['name'] if isinstance(x, dict) else np.nan)"
      ],
      "execution_count": 312,
      "outputs": []
    },
    {
      "cell_type": "code",
      "metadata": {
        "colab": {
          "base_uri": "https://localhost:8080/"
        },
        "id": "i_8gEJqxB8Z4",
        "outputId": "2788e380-5620-4281-8c87-07f190f36ed6"
      },
      "source": [
        "df.belongs_to_collection"
      ],
      "execution_count": 313,
      "outputs": [
        {
          "output_type": "execute_result",
          "data": {
            "text/plain": [
              "0                  Toy Story Collection\n",
              "1                                   NaN\n",
              "2             Grumpy Old Men Collection\n",
              "3                                   NaN\n",
              "4        Father of the Bride Collection\n",
              "                      ...              \n",
              "45461                               NaN\n",
              "45462                               NaN\n",
              "45463                               NaN\n",
              "45464                               NaN\n",
              "45465                               NaN\n",
              "Name: belongs_to_collection, Length: 45466, dtype: object"
            ]
          },
          "metadata": {},
          "execution_count": 313
        }
      ]
    },
    {
      "cell_type": "code",
      "metadata": {
        "colab": {
          "base_uri": "https://localhost:8080/"
        },
        "id": "Ji6a3FemCJgu",
        "outputId": "46342bab-a2ab-48ed-c225-66cc51287417"
      },
      "source": [
        "df.belongs_to_collection.value_counts(dropna=False).head(20)"
      ],
      "execution_count": 314,
      "outputs": [
        {
          "output_type": "execute_result",
          "data": {
            "text/plain": [
              "NaN                                       40975\n",
              "The Bowery Boys                              29\n",
              "Totò Collection                              27\n",
              "Zatôichi: The Blind Swordsman                26\n",
              "James Bond Collection                        26\n",
              "The Carry On Collection                      25\n",
              "Pokémon Collection                           22\n",
              "Charlie Chan (Sidney Toler) Collection       21\n",
              "Godzilla (Showa) Collection                  16\n",
              "Uuno Turhapuro                               15\n",
              "Charlie Chan (Warner Oland) Collection       15\n",
              "Dragon Ball Z (Movie) Collection             15\n",
              "Monster High Collection                      14\n",
              "The Land Before Time Collection              14\n",
              "Sharpe Collection                            13\n",
              "George Carlin Comedy Collection              13\n",
              "Friday the 13th Collection                   12\n",
              "The Amityville Horror Collection             12\n",
              "Sherlock Holmes (1939 series)                12\n",
              "Johan Falk GSI Collection                    12\n",
              "Name: belongs_to_collection, dtype: int64"
            ]
          },
          "metadata": {},
          "execution_count": 314
        }
      ]
    },
    {
      "cell_type": "code",
      "metadata": {
        "colab": {
          "base_uri": "https://localhost:8080/"
        },
        "id": "HOSRlcBUCQyZ",
        "outputId": "b43428ea-0fa9-43dd-d558-ef786935111b"
      },
      "source": [
        "# Genres columns\n",
        "df.genres"
      ],
      "execution_count": 315,
      "outputs": [
        {
          "output_type": "execute_result",
          "data": {
            "text/plain": [
              "0        [{'id': 16, 'name': 'Animation'}, {'id': 35, '...\n",
              "1        [{'id': 12, 'name': 'Adventure'}, {'id': 14, '...\n",
              "2        [{'id': 10749, 'name': 'Romance'}, {'id': 35, ...\n",
              "3        [{'id': 35, 'name': 'Comedy'}, {'id': 18, 'nam...\n",
              "4                           [{'id': 35, 'name': 'Comedy'}]\n",
              "                               ...                        \n",
              "45461    [{'id': 18, 'name': 'Drama'}, {'id': 10751, 'n...\n",
              "45462                        [{'id': 18, 'name': 'Drama'}]\n",
              "45463    [{'id': 28, 'name': 'Action'}, {'id': 18, 'nam...\n",
              "45464                                                   []\n",
              "45465                                                   []\n",
              "Name: genres, Length: 45466, dtype: object"
            ]
          },
          "metadata": {},
          "execution_count": 315
        }
      ]
    },
    {
      "cell_type": "code",
      "metadata": {
        "colab": {
          "base_uri": "https://localhost:8080/",
          "height": 35
        },
        "id": "TP0UnFDiCoQT",
        "outputId": "ebf93577-5ba4-46ea-a51a-ee0a88bf4277"
      },
      "source": [
        "df.genres[0]"
      ],
      "execution_count": 316,
      "outputs": [
        {
          "output_type": "execute_result",
          "data": {
            "application/vnd.google.colaboratory.intrinsic+json": {
              "type": "string"
            },
            "text/plain": [
              "\"[{'id': 16, 'name': 'Animation'}, {'id': 35, 'name': 'Comedy'}, {'id': 10751, 'name': 'Family'}]\""
            ]
          },
          "metadata": {},
          "execution_count": 316
        }
      ]
    },
    {
      "cell_type": "code",
      "metadata": {
        "id": "EgahwhcNCrCY"
      },
      "source": [
        "#df.genres=df.genres.apply(lambda x: \"|\".join(i['name'] for i in x))\n",
        "#\n",
        "#df.genres.apply(lambda x: \"|\".join(i['name'] for i in x) if isinstance(x, list) else np.nan)"
      ],
      "execution_count": 317,
      "outputs": []
    },
    {
      "cell_type": "code",
      "metadata": {
        "id": "3dPwpkAhDPAI"
      },
      "source": [
        "#df.genres.value_counts(dropna=False).head(20)"
      ],
      "execution_count": 318,
      "outputs": []
    },
    {
      "cell_type": "code",
      "metadata": {
        "id": "Rxxee_lPEoFb"
      },
      "source": [
        "#df.genres.replace('',np.nan, inplace=True)"
      ],
      "execution_count": 319,
      "outputs": []
    },
    {
      "cell_type": "code",
      "metadata": {
        "colab": {
          "base_uri": "https://localhost:8080/"
        },
        "id": "Pq5Tq_QJE1cF",
        "outputId": "1e3d3ade-4c3f-4908-c8e1-2c30d1f3f2d7"
      },
      "source": [
        "# spoken_languages\n",
        "df.spoken_languages[0]"
      ],
      "execution_count": 320,
      "outputs": [
        {
          "output_type": "execute_result",
          "data": {
            "text/plain": [
              "[{'iso_639_1': 'en', 'name': 'English'}]"
            ]
          },
          "metadata": {},
          "execution_count": 320
        }
      ]
    },
    {
      "cell_type": "code",
      "metadata": {
        "colab": {
          "base_uri": "https://localhost:8080/"
        },
        "id": "tT-PBOYTE5J8",
        "outputId": "33e3ce98-b89d-408d-c0f0-ecb8cea614a7"
      },
      "source": [
        "df.spoken_languages=df.spoken_languages.apply(lambda x: \"|\".join(i['name'] for i in x) if isinstance(x, list) else np.nan)\n",
        "df.spoken_languages"
      ],
      "execution_count": 321,
      "outputs": [
        {
          "output_type": "execute_result",
          "data": {
            "text/plain": [
              "0                 English\n",
              "1        English|Français\n",
              "2                 English\n",
              "3                 English\n",
              "4                 English\n",
              "               ...       \n",
              "45461               فارسی\n",
              "45462                    \n",
              "45463             English\n",
              "45464                    \n",
              "45465             English\n",
              "Name: spoken_languages, Length: 45466, dtype: object"
            ]
          },
          "metadata": {},
          "execution_count": 321
        }
      ]
    },
    {
      "cell_type": "code",
      "metadata": {
        "colab": {
          "base_uri": "https://localhost:8080/"
        },
        "id": "CQI0zZXgFG1K",
        "outputId": "22c4ad7e-7e35-4b18-fbc9-72a4657dee87"
      },
      "source": [
        "#value_counts\n",
        "df.spoken_languages.value_counts(dropna=False).head(20)"
      ],
      "execution_count": 322,
      "outputs": [
        {
          "output_type": "execute_result",
          "data": {
            "text/plain": [
              "English             22395\n",
              "                     3952\n",
              "Français             1853\n",
              "日本語                  1289\n",
              "Italiano             1218\n",
              "Español               902\n",
              "Pусский               807\n",
              "Deutsch               762\n",
              "English|Français      681\n",
              "English|Español       572\n",
              "हिन्दी                481\n",
              "English|Deutsch       462\n",
              "한국어/조선말               425\n",
              "普通话                   347\n",
              "English|Italiano      326\n",
              "svenska               311\n",
              "No Language           303\n",
              "Português             275\n",
              "suomi                 275\n",
              "Polski                213\n",
              "Name: spoken_languages, dtype: int64"
            ]
          },
          "metadata": {},
          "execution_count": 322
        }
      ]
    },
    {
      "cell_type": "code",
      "metadata": {
        "id": "KIlWBfINGAcq"
      },
      "source": [
        "# replace space by NaN\n",
        "df.spoken_languages.replace(\"\", np.nan, inplace=True)"
      ],
      "execution_count": 323,
      "outputs": []
    },
    {
      "cell_type": "code",
      "metadata": {
        "colab": {
          "base_uri": "https://localhost:8080/"
        },
        "id": "8WAXMeDTGM3F",
        "outputId": "a35623fe-d188-4fa7-cde5-578d533fd1f7"
      },
      "source": [
        "df.spoken_languages"
      ],
      "execution_count": 324,
      "outputs": [
        {
          "output_type": "execute_result",
          "data": {
            "text/plain": [
              "0                 English\n",
              "1        English|Français\n",
              "2                 English\n",
              "3                 English\n",
              "4                 English\n",
              "               ...       \n",
              "45461               فارسی\n",
              "45462                 NaN\n",
              "45463             English\n",
              "45464                 NaN\n",
              "45465             English\n",
              "Name: spoken_languages, Length: 45466, dtype: object"
            ]
          },
          "metadata": {},
          "execution_count": 324
        }
      ]
    },
    {
      "cell_type": "markdown",
      "metadata": {
        "id": "WwQmRz1rGT5w"
      },
      "source": [
        "######Production_countries"
      ]
    },
    {
      "cell_type": "code",
      "metadata": {
        "colab": {
          "base_uri": "https://localhost:8080/"
        },
        "id": "dq4CE3TQGPF0",
        "outputId": "3f978499-d2c3-4b7b-e166-44ef28fade57"
      },
      "source": [
        "df.production_countries"
      ],
      "execution_count": 325,
      "outputs": [
        {
          "output_type": "execute_result",
          "data": {
            "text/plain": [
              "0        [{'iso_3166_1': 'US', 'name': 'United States o...\n",
              "1        [{'iso_3166_1': 'US', 'name': 'United States o...\n",
              "2        [{'iso_3166_1': 'US', 'name': 'United States o...\n",
              "3        [{'iso_3166_1': 'US', 'name': 'United States o...\n",
              "4        [{'iso_3166_1': 'US', 'name': 'United States o...\n",
              "                               ...                        \n",
              "45461               [{'iso_3166_1': 'IR', 'name': 'Iran'}]\n",
              "45462        [{'iso_3166_1': 'PH', 'name': 'Philippines'}]\n",
              "45463    [{'iso_3166_1': 'US', 'name': 'United States o...\n",
              "45464             [{'iso_3166_1': 'RU', 'name': 'Russia'}]\n",
              "45465     [{'iso_3166_1': 'GB', 'name': 'United Kingdom'}]\n",
              "Name: production_countries, Length: 45466, dtype: object"
            ]
          },
          "metadata": {},
          "execution_count": 325
        }
      ]
    },
    {
      "cell_type": "code",
      "metadata": {
        "colab": {
          "base_uri": "https://localhost:8080/",
          "height": 35
        },
        "id": "jBe_X9VIGZ2X",
        "outputId": "6daeb3e4-df37-4a70-efbb-4810ff86ee1d"
      },
      "source": [
        "df.production_countries[0]"
      ],
      "execution_count": 326,
      "outputs": [
        {
          "output_type": "execute_result",
          "data": {
            "application/vnd.google.colaboratory.intrinsic+json": {
              "type": "string"
            },
            "text/plain": [
              "\"[{'iso_3166_1': 'US', 'name': 'United States of America'}]\""
            ]
          },
          "metadata": {},
          "execution_count": 326
        }
      ]
    },
    {
      "cell_type": "code",
      "metadata": {
        "colab": {
          "base_uri": "https://localhost:8080/"
        },
        "id": "U_IUiciqGeBN",
        "outputId": "2b07ae8a-e417-41c1-c5be-1cb4864756c8"
      },
      "source": [
        "df.production_countries=df.production_countries.apply(lambda x: \"|\".join(i['name'] for i in x) if isinstance(x, list) else np.nan)\n",
        "df.production_countries"
      ],
      "execution_count": 327,
      "outputs": [
        {
          "output_type": "execute_result",
          "data": {
            "text/plain": [
              "0       NaN\n",
              "1       NaN\n",
              "2       NaN\n",
              "3       NaN\n",
              "4       NaN\n",
              "         ..\n",
              "45461   NaN\n",
              "45462   NaN\n",
              "45463   NaN\n",
              "45464   NaN\n",
              "45465   NaN\n",
              "Name: production_countries, Length: 45466, dtype: float64"
            ]
          },
          "metadata": {},
          "execution_count": 327
        }
      ]
    },
    {
      "cell_type": "code",
      "metadata": {
        "colab": {
          "base_uri": "https://localhost:8080/"
        },
        "id": "Chegu5bzG7lk",
        "outputId": "f594bcd7-073e-4b59-b642-7ef169e8685e"
      },
      "source": [
        "df.production_countries.value_counts(dropna=False).head(20)"
      ],
      "execution_count": 328,
      "outputs": [
        {
          "output_type": "execute_result",
          "data": {
            "text/plain": [
              "NaN    45466\n",
              "Name: production_countries, dtype: int64"
            ]
          },
          "metadata": {},
          "execution_count": 328
        }
      ]
    },
    {
      "cell_type": "code",
      "metadata": {
        "id": "TJGGQkI2HV9A"
      },
      "source": [
        "# replace space by NaN\n",
        "df.production_countries.replace('', np.nan, inplace=True)"
      ],
      "execution_count": 329,
      "outputs": []
    },
    {
      "cell_type": "code",
      "metadata": {
        "colab": {
          "base_uri": "https://localhost:8080/"
        },
        "id": "UaXrVVMhHlXf",
        "outputId": "1e5cdb09-c3db-4a4d-e453-6f21c5f07819"
      },
      "source": [
        "df.production_countries.value_counts(dropna=False).head(20)"
      ],
      "execution_count": 330,
      "outputs": [
        {
          "output_type": "execute_result",
          "data": {
            "text/plain": [
              "NaN    45466\n",
              "Name: production_countries, dtype: int64"
            ]
          },
          "metadata": {},
          "execution_count": 330
        }
      ]
    },
    {
      "cell_type": "markdown",
      "metadata": {
        "id": "rGy9uB70H1gf"
      },
      "source": [
        "######Production Companies"
      ]
    },
    {
      "cell_type": "code",
      "metadata": {
        "colab": {
          "base_uri": "https://localhost:8080/"
        },
        "id": "aHtyXR7RHnwR",
        "outputId": "d69f2c6d-3a21-42b9-e0d7-f4e1efd78b37"
      },
      "source": [
        "df.production_companies"
      ],
      "execution_count": 331,
      "outputs": [
        {
          "output_type": "execute_result",
          "data": {
            "text/plain": [
              "0           [{'name': 'Pixar Animation Studios', 'id': 3}]\n",
              "1        [{'name': 'TriStar Pictures', 'id': 559}, {'na...\n",
              "2        [{'name': 'Warner Bros.', 'id': 6194}, {'name'...\n",
              "3        [{'name': 'Twentieth Century Fox Film Corporat...\n",
              "4        [{'name': 'Sandollar Productions', 'id': 5842}...\n",
              "                               ...                        \n",
              "45461                                                   []\n",
              "45462               [{'name': 'Sine Olivia', 'id': 19653}]\n",
              "45463    [{'name': 'American World Pictures', 'id': 6165}]\n",
              "45464                 [{'name': 'Yermoliev', 'id': 88753}]\n",
              "45465                                                   []\n",
              "Name: production_companies, Length: 45466, dtype: object"
            ]
          },
          "metadata": {},
          "execution_count": 331
        }
      ]
    },
    {
      "cell_type": "code",
      "metadata": {
        "colab": {
          "base_uri": "https://localhost:8080/"
        },
        "id": "oFhHvTpAH8zQ",
        "outputId": "fbcf0062-7d56-4317-8ada-4f3bb6d12210"
      },
      "source": [
        "df.production_companies[0]"
      ],
      "execution_count": 332,
      "outputs": [
        {
          "output_type": "execute_result",
          "data": {
            "text/plain": [
              "[{'id': 3, 'name': 'Pixar Animation Studios'}]"
            ]
          },
          "metadata": {},
          "execution_count": 332
        }
      ]
    },
    {
      "cell_type": "code",
      "metadata": {
        "colab": {
          "base_uri": "https://localhost:8080/"
        },
        "id": "hMxnJVvHH_Ky",
        "outputId": "d20e9504-4e3e-4124-e2a2-a7c733578e0e"
      },
      "source": [
        "df.production_companies=df.production_companies.apply(lambda x: \"|\".join(i['name'] for i in x) if isinstance(x, list) else np.nan)\n",
        "df.production_companies"
      ],
      "execution_count": 333,
      "outputs": [
        {
          "output_type": "execute_result",
          "data": {
            "text/plain": [
              "0                                  Pixar Animation Studios\n",
              "1        TriStar Pictures|Teitler Film|Interscope Commu...\n",
              "2                              Warner Bros.|Lancaster Gate\n",
              "3                   Twentieth Century Fox Film Corporation\n",
              "4                Sandollar Productions|Touchstone Pictures\n",
              "                               ...                        \n",
              "45461                                                     \n",
              "45462                                          Sine Olivia\n",
              "45463                              American World Pictures\n",
              "45464                                            Yermoliev\n",
              "45465                                                     \n",
              "Name: production_companies, Length: 45466, dtype: object"
            ]
          },
          "metadata": {},
          "execution_count": 333
        }
      ]
    },
    {
      "cell_type": "code",
      "metadata": {
        "colab": {
          "base_uri": "https://localhost:8080/"
        },
        "id": "5wxJ0HPDIITx",
        "outputId": "8708fbc2-29b6-4bcc-f92b-288f0d4d7c4e"
      },
      "source": [
        "df.production_companies.value_counts(dropna=False).head(20)"
      ],
      "execution_count": 334,
      "outputs": [
        {
          "output_type": "execute_result",
          "data": {
            "text/plain": [
              "                                          11875\n",
              "Metro-Goldwyn-Mayer (MGM)                   742\n",
              "Warner Bros.                                540\n",
              "Paramount Pictures                          505\n",
              "Twentieth Century Fox Film Corporation      439\n",
              "Universal Pictures                          320\n",
              "RKO Radio Pictures                          247\n",
              "Columbia Pictures Corporation               207\n",
              "Columbia Pictures                           146\n",
              "Mosfilm                                     145\n",
              "Walt Disney Pictures                         85\n",
              "Universal International Pictures (UI)        82\n",
              "New Line Cinema                              75\n",
              "Walt Disney Productions                      75\n",
              "Shaw Brothers                                71\n",
              "Touchstone Pictures                          70\n",
              "Toho Company                                 65\n",
              "TriStar Pictures                             62\n",
              "Orion Pictures                               61\n",
              "Hammer Film Productions                      60\n",
              "Name: production_companies, dtype: int64"
            ]
          },
          "metadata": {},
          "execution_count": 334
        }
      ]
    },
    {
      "cell_type": "code",
      "metadata": {
        "id": "BREfI8poIZAu"
      },
      "source": [
        "# replace space by NaN\n",
        "df.production_companies.replace('', np.nan, inplace=True)"
      ],
      "execution_count": 335,
      "outputs": []
    },
    {
      "cell_type": "code",
      "metadata": {
        "colab": {
          "base_uri": "https://localhost:8080/"
        },
        "id": "g_8MIBceIjTC",
        "outputId": "3ae5c8f9-082f-4a17-d9b8-904727241f2a"
      },
      "source": [
        "df.production_companies.value_counts(dropna=False).head(20)"
      ],
      "execution_count": 336,
      "outputs": [
        {
          "output_type": "execute_result",
          "data": {
            "text/plain": [
              "NaN                                       11881\n",
              "Metro-Goldwyn-Mayer (MGM)                   742\n",
              "Warner Bros.                                540\n",
              "Paramount Pictures                          505\n",
              "Twentieth Century Fox Film Corporation      439\n",
              "Universal Pictures                          320\n",
              "RKO Radio Pictures                          247\n",
              "Columbia Pictures Corporation               207\n",
              "Columbia Pictures                           146\n",
              "Mosfilm                                     145\n",
              "Walt Disney Pictures                         85\n",
              "Universal International Pictures (UI)        82\n",
              "New Line Cinema                              75\n",
              "Walt Disney Productions                      75\n",
              "Shaw Brothers                                71\n",
              "Touchstone Pictures                          70\n",
              "Toho Company                                 65\n",
              "TriStar Pictures                             62\n",
              "Orion Pictures                               61\n",
              "Hammer Film Productions                      60\n",
              "Name: production_companies, dtype: int64"
            ]
          },
          "metadata": {},
          "execution_count": 336
        }
      ]
    },
    {
      "cell_type": "code",
      "metadata": {
        "colab": {
          "base_uri": "https://localhost:8080/"
        },
        "id": "4rdVA0-TIlCI",
        "outputId": "0f86050c-8a50-45f8-bb6b-efec1ecd175c"
      },
      "source": [
        "#finally let's the number of missing value \n",
        "df.isnull().sum()"
      ],
      "execution_count": 337,
      "outputs": [
        {
          "output_type": "execute_result",
          "data": {
            "text/plain": [
              "belongs_to_collection    40975\n",
              "budget                       0\n",
              "genres                       0\n",
              "id                           0\n",
              "original_language           11\n",
              "overview                   954\n",
              "popularity                   5\n",
              "poster_path                386\n",
              "production_companies     11881\n",
              "production_countries     45466\n",
              "release_date                87\n",
              "revenue                      6\n",
              "runtime                    263\n",
              "spoken_languages          3958\n",
              "status                      87\n",
              "tagline                  25054\n",
              "title                        6\n",
              "vote_average                 6\n",
              "vote_count                   6\n",
              "dtype: int64"
            ]
          },
          "metadata": {},
          "execution_count": 337
        }
      ]
    },
    {
      "cell_type": "code",
      "metadata": {
        "colab": {
          "base_uri": "https://localhost:8080/",
          "height": 318
        },
        "id": "R_qQOj1eI1Z9",
        "outputId": "c18bbd00-bea6-4632-9af8-abbb0ca0f40e"
      },
      "source": [
        "df.head(2)"
      ],
      "execution_count": 338,
      "outputs": [
        {
          "output_type": "execute_result",
          "data": {
            "text/html": [
              "<div>\n",
              "<style scoped>\n",
              "    .dataframe tbody tr th:only-of-type {\n",
              "        vertical-align: middle;\n",
              "    }\n",
              "\n",
              "    .dataframe tbody tr th {\n",
              "        vertical-align: top;\n",
              "    }\n",
              "\n",
              "    .dataframe thead th {\n",
              "        text-align: right;\n",
              "    }\n",
              "</style>\n",
              "<table border=\"1\" class=\"dataframe\">\n",
              "  <thead>\n",
              "    <tr style=\"text-align: right;\">\n",
              "      <th></th>\n",
              "      <th>belongs_to_collection</th>\n",
              "      <th>budget</th>\n",
              "      <th>genres</th>\n",
              "      <th>id</th>\n",
              "      <th>original_language</th>\n",
              "      <th>overview</th>\n",
              "      <th>popularity</th>\n",
              "      <th>poster_path</th>\n",
              "      <th>production_companies</th>\n",
              "      <th>production_countries</th>\n",
              "      <th>release_date</th>\n",
              "      <th>revenue</th>\n",
              "      <th>runtime</th>\n",
              "      <th>spoken_languages</th>\n",
              "      <th>status</th>\n",
              "      <th>tagline</th>\n",
              "      <th>title</th>\n",
              "      <th>vote_average</th>\n",
              "      <th>vote_count</th>\n",
              "    </tr>\n",
              "  </thead>\n",
              "  <tbody>\n",
              "    <tr>\n",
              "      <th>0</th>\n",
              "      <td>Toy Story Collection</td>\n",
              "      <td>30000000</td>\n",
              "      <td>[{'id': 16, 'name': 'Animation'}, {'id': 35, '...</td>\n",
              "      <td>862</td>\n",
              "      <td>en</td>\n",
              "      <td>Led by Woody, Andy's toys live happily in his ...</td>\n",
              "      <td>21.9469</td>\n",
              "      <td>/rhIRbceoE9lR4veEXuwCC2wARtG.jpg</td>\n",
              "      <td>Pixar Animation Studios</td>\n",
              "      <td>NaN</td>\n",
              "      <td>1995-10-30</td>\n",
              "      <td>373554033.0</td>\n",
              "      <td>81.0</td>\n",
              "      <td>English</td>\n",
              "      <td>Released</td>\n",
              "      <td>NaN</td>\n",
              "      <td>Toy Story</td>\n",
              "      <td>7.7</td>\n",
              "      <td>5415.0</td>\n",
              "    </tr>\n",
              "    <tr>\n",
              "      <th>1</th>\n",
              "      <td>NaN</td>\n",
              "      <td>65000000</td>\n",
              "      <td>[{'id': 12, 'name': 'Adventure'}, {'id': 14, '...</td>\n",
              "      <td>8844</td>\n",
              "      <td>en</td>\n",
              "      <td>When siblings Judy and Peter discover an encha...</td>\n",
              "      <td>17.0155</td>\n",
              "      <td>/vzmL6fP7aPKNKPRTFnZmiUfciyV.jpg</td>\n",
              "      <td>TriStar Pictures|Teitler Film|Interscope Commu...</td>\n",
              "      <td>NaN</td>\n",
              "      <td>1995-12-15</td>\n",
              "      <td>262797249.0</td>\n",
              "      <td>104.0</td>\n",
              "      <td>English|Français</td>\n",
              "      <td>Released</td>\n",
              "      <td>Roll the dice and unleash the excitement!</td>\n",
              "      <td>Jumanji</td>\n",
              "      <td>6.9</td>\n",
              "      <td>2413.0</td>\n",
              "    </tr>\n",
              "  </tbody>\n",
              "</table>\n",
              "</div>"
            ],
            "text/plain": [
              "  belongs_to_collection    budget  \\\n",
              "0  Toy Story Collection  30000000   \n",
              "1                   NaN  65000000   \n",
              "\n",
              "                                              genres    id original_language  \\\n",
              "0  [{'id': 16, 'name': 'Animation'}, {'id': 35, '...   862                en   \n",
              "1  [{'id': 12, 'name': 'Adventure'}, {'id': 14, '...  8844                en   \n",
              "\n",
              "                                            overview popularity  \\\n",
              "0  Led by Woody, Andy's toys live happily in his ...    21.9469   \n",
              "1  When siblings Judy and Peter discover an encha...    17.0155   \n",
              "\n",
              "                        poster_path  \\\n",
              "0  /rhIRbceoE9lR4veEXuwCC2wARtG.jpg   \n",
              "1  /vzmL6fP7aPKNKPRTFnZmiUfciyV.jpg   \n",
              "\n",
              "                                production_companies  production_countries  \\\n",
              "0                            Pixar Animation Studios                   NaN   \n",
              "1  TriStar Pictures|Teitler Film|Interscope Commu...                   NaN   \n",
              "\n",
              "  release_date      revenue  runtime  spoken_languages    status  \\\n",
              "0   1995-10-30  373554033.0     81.0           English  Released   \n",
              "1   1995-12-15  262797249.0    104.0  English|Français  Released   \n",
              "\n",
              "                                     tagline      title  vote_average  \\\n",
              "0                                        NaN  Toy Story           7.7   \n",
              "1  Roll the dice and unleash the excitement!    Jumanji           6.9   \n",
              "\n",
              "   vote_count  \n",
              "0      5415.0  \n",
              "1      2413.0  "
            ]
          },
          "metadata": {},
          "execution_count": 338
        }
      ]
    },
    {
      "cell_type": "markdown",
      "metadata": {
        "id": "mgjK1SFnJ53O"
      },
      "source": [
        "#####Cleaning Numerical Columns (PART 1)"
      ]
    },
    {
      "cell_type": "code",
      "metadata": {
        "colab": {
          "base_uri": "https://localhost:8080/",
          "height": 318
        },
        "id": "VF0WHT8rI32y",
        "outputId": "264e31e2-eea3-483a-b627-74392965696d"
      },
      "source": [
        "df.head(2)"
      ],
      "execution_count": 339,
      "outputs": [
        {
          "output_type": "execute_result",
          "data": {
            "text/html": [
              "<div>\n",
              "<style scoped>\n",
              "    .dataframe tbody tr th:only-of-type {\n",
              "        vertical-align: middle;\n",
              "    }\n",
              "\n",
              "    .dataframe tbody tr th {\n",
              "        vertical-align: top;\n",
              "    }\n",
              "\n",
              "    .dataframe thead th {\n",
              "        text-align: right;\n",
              "    }\n",
              "</style>\n",
              "<table border=\"1\" class=\"dataframe\">\n",
              "  <thead>\n",
              "    <tr style=\"text-align: right;\">\n",
              "      <th></th>\n",
              "      <th>belongs_to_collection</th>\n",
              "      <th>budget</th>\n",
              "      <th>genres</th>\n",
              "      <th>id</th>\n",
              "      <th>original_language</th>\n",
              "      <th>overview</th>\n",
              "      <th>popularity</th>\n",
              "      <th>poster_path</th>\n",
              "      <th>production_companies</th>\n",
              "      <th>production_countries</th>\n",
              "      <th>release_date</th>\n",
              "      <th>revenue</th>\n",
              "      <th>runtime</th>\n",
              "      <th>spoken_languages</th>\n",
              "      <th>status</th>\n",
              "      <th>tagline</th>\n",
              "      <th>title</th>\n",
              "      <th>vote_average</th>\n",
              "      <th>vote_count</th>\n",
              "    </tr>\n",
              "  </thead>\n",
              "  <tbody>\n",
              "    <tr>\n",
              "      <th>0</th>\n",
              "      <td>Toy Story Collection</td>\n",
              "      <td>30000000</td>\n",
              "      <td>[{'id': 16, 'name': 'Animation'}, {'id': 35, '...</td>\n",
              "      <td>862</td>\n",
              "      <td>en</td>\n",
              "      <td>Led by Woody, Andy's toys live happily in his ...</td>\n",
              "      <td>21.9469</td>\n",
              "      <td>/rhIRbceoE9lR4veEXuwCC2wARtG.jpg</td>\n",
              "      <td>Pixar Animation Studios</td>\n",
              "      <td>NaN</td>\n",
              "      <td>1995-10-30</td>\n",
              "      <td>373554033.0</td>\n",
              "      <td>81.0</td>\n",
              "      <td>English</td>\n",
              "      <td>Released</td>\n",
              "      <td>NaN</td>\n",
              "      <td>Toy Story</td>\n",
              "      <td>7.7</td>\n",
              "      <td>5415.0</td>\n",
              "    </tr>\n",
              "    <tr>\n",
              "      <th>1</th>\n",
              "      <td>NaN</td>\n",
              "      <td>65000000</td>\n",
              "      <td>[{'id': 12, 'name': 'Adventure'}, {'id': 14, '...</td>\n",
              "      <td>8844</td>\n",
              "      <td>en</td>\n",
              "      <td>When siblings Judy and Peter discover an encha...</td>\n",
              "      <td>17.0155</td>\n",
              "      <td>/vzmL6fP7aPKNKPRTFnZmiUfciyV.jpg</td>\n",
              "      <td>TriStar Pictures|Teitler Film|Interscope Commu...</td>\n",
              "      <td>NaN</td>\n",
              "      <td>1995-12-15</td>\n",
              "      <td>262797249.0</td>\n",
              "      <td>104.0</td>\n",
              "      <td>English|Français</td>\n",
              "      <td>Released</td>\n",
              "      <td>Roll the dice and unleash the excitement!</td>\n",
              "      <td>Jumanji</td>\n",
              "      <td>6.9</td>\n",
              "      <td>2413.0</td>\n",
              "    </tr>\n",
              "  </tbody>\n",
              "</table>\n",
              "</div>"
            ],
            "text/plain": [
              "  belongs_to_collection    budget  \\\n",
              "0  Toy Story Collection  30000000   \n",
              "1                   NaN  65000000   \n",
              "\n",
              "                                              genres    id original_language  \\\n",
              "0  [{'id': 16, 'name': 'Animation'}, {'id': 35, '...   862                en   \n",
              "1  [{'id': 12, 'name': 'Adventure'}, {'id': 14, '...  8844                en   \n",
              "\n",
              "                                            overview popularity  \\\n",
              "0  Led by Woody, Andy's toys live happily in his ...    21.9469   \n",
              "1  When siblings Judy and Peter discover an encha...    17.0155   \n",
              "\n",
              "                        poster_path  \\\n",
              "0  /rhIRbceoE9lR4veEXuwCC2wARtG.jpg   \n",
              "1  /vzmL6fP7aPKNKPRTFnZmiUfciyV.jpg   \n",
              "\n",
              "                                production_companies  production_countries  \\\n",
              "0                            Pixar Animation Studios                   NaN   \n",
              "1  TriStar Pictures|Teitler Film|Interscope Commu...                   NaN   \n",
              "\n",
              "  release_date      revenue  runtime  spoken_languages    status  \\\n",
              "0   1995-10-30  373554033.0     81.0           English  Released   \n",
              "1   1995-12-15  262797249.0    104.0  English|Français  Released   \n",
              "\n",
              "                                     tagline      title  vote_average  \\\n",
              "0                                        NaN  Toy Story           7.7   \n",
              "1  Roll the dice and unleash the excitement!    Jumanji           6.9   \n",
              "\n",
              "   vote_count  \n",
              "0      5415.0  \n",
              "1      2413.0  "
            ]
          },
          "metadata": {},
          "execution_count": 339
        }
      ]
    },
    {
      "cell_type": "code",
      "metadata": {
        "colab": {
          "base_uri": "https://localhost:8080/"
        },
        "id": "XDMxRirsKDmI",
        "outputId": "61d97a0b-9873-4380-8308-6bdf419b5f95"
      },
      "source": [
        "df.dtypes"
      ],
      "execution_count": 340,
      "outputs": [
        {
          "output_type": "execute_result",
          "data": {
            "text/plain": [
              "belongs_to_collection     object\n",
              "budget                    object\n",
              "genres                    object\n",
              "id                        object\n",
              "original_language         object\n",
              "overview                  object\n",
              "popularity                object\n",
              "poster_path               object\n",
              "production_companies      object\n",
              "production_countries     float64\n",
              "release_date              object\n",
              "revenue                  float64\n",
              "runtime                  float64\n",
              "spoken_languages          object\n",
              "status                    object\n",
              "tagline                   object\n",
              "title                     object\n",
              "vote_average             float64\n",
              "vote_count               float64\n",
              "dtype: object"
            ]
          },
          "metadata": {},
          "execution_count": 340
        }
      ]
    },
    {
      "cell_type": "code",
      "metadata": {
        "id": "zG_t7u_8KH8O"
      },
      "source": [
        "#df.budget.astype('float')"
      ],
      "execution_count": 341,
      "outputs": []
    },
    {
      "cell_type": "code",
      "metadata": {
        "id": "VkbrDCdIKOoH"
      },
      "source": [
        "#pd.to_numeric(df.budget)"
      ],
      "execution_count": 342,
      "outputs": []
    },
    {
      "cell_type": "code",
      "metadata": {
        "id": "DalkHcxKKeD1"
      },
      "source": [
        "df.budget=pd.to_numeric(df.budget, errors='coerce')"
      ],
      "execution_count": 343,
      "outputs": []
    },
    {
      "cell_type": "code",
      "metadata": {
        "colab": {
          "base_uri": "https://localhost:8080/"
        },
        "id": "OgcoBY8RK4Su",
        "outputId": "7116bf00-48fa-48d6-9893-f69937668b21"
      },
      "source": [
        "df.budget.value_counts(dropna=False)"
      ],
      "execution_count": 344,
      "outputs": [
        {
          "output_type": "execute_result",
          "data": {
            "text/plain": [
              "0.0           36573\n",
              "5000000.0       286\n",
              "10000000.0      259\n",
              "20000000.0      243\n",
              "2000000.0       242\n",
              "              ...  \n",
              "1119000.0         1\n",
              "640000.0          1\n",
              "17900000.0        1\n",
              "4696772.0         1\n",
              "2620000.0         1\n",
              "Name: budget, Length: 1224, dtype: int64"
            ]
          },
          "metadata": {},
          "execution_count": 344
        }
      ]
    },
    {
      "cell_type": "code",
      "metadata": {
        "id": "SfrY5l2DK8jt"
      },
      "source": [
        "df.budget=df.budget.replace(0, np.nan)"
      ],
      "execution_count": 345,
      "outputs": []
    },
    {
      "cell_type": "code",
      "metadata": {
        "colab": {
          "base_uri": "https://localhost:8080/"
        },
        "id": "Q6Y-7RyCLGG6",
        "outputId": "bc21f122-9707-4079-bd67-528b761cd4c8"
      },
      "source": [
        "df.budget.value_counts(dropna=False)"
      ],
      "execution_count": 346,
      "outputs": [
        {
          "output_type": "execute_result",
          "data": {
            "text/plain": [
              "NaN           36576\n",
              "5000000.0       286\n",
              "10000000.0      259\n",
              "20000000.0      243\n",
              "2000000.0       242\n",
              "              ...  \n",
              "4490331.0         1\n",
              "313411.0          1\n",
              "1020000.0         1\n",
              "37.0              1\n",
              "9500.0            1\n",
              "Name: budget, Length: 1223, dtype: int64"
            ]
          },
          "metadata": {},
          "execution_count": 346
        }
      ]
    },
    {
      "cell_type": "code",
      "metadata": {
        "id": "KF8LBEHaLJ3i"
      },
      "source": [
        "df.budget=df.budget.div(1000000)"
      ],
      "execution_count": 347,
      "outputs": []
    },
    {
      "cell_type": "code",
      "metadata": {
        "colab": {
          "base_uri": "https://localhost:8080/"
        },
        "id": "5Nr92mQ6LSTi",
        "outputId": "acc666ff-2532-47fd-9441-c687e12b6da4"
      },
      "source": [
        "df.info()"
      ],
      "execution_count": 348,
      "outputs": [
        {
          "output_type": "stream",
          "name": "stdout",
          "text": [
            "<class 'pandas.core.frame.DataFrame'>\n",
            "RangeIndex: 45466 entries, 0 to 45465\n",
            "Data columns (total 19 columns):\n",
            " #   Column                 Non-Null Count  Dtype  \n",
            "---  ------                 --------------  -----  \n",
            " 0   belongs_to_collection  4491 non-null   object \n",
            " 1   budget                 8890 non-null   float64\n",
            " 2   genres                 45466 non-null  object \n",
            " 3   id                     45466 non-null  object \n",
            " 4   original_language      45455 non-null  object \n",
            " 5   overview               44512 non-null  object \n",
            " 6   popularity             45461 non-null  object \n",
            " 7   poster_path            45080 non-null  object \n",
            " 8   production_companies   33585 non-null  object \n",
            " 9   production_countries   0 non-null      float64\n",
            " 10  release_date           45379 non-null  object \n",
            " 11  revenue                45460 non-null  float64\n",
            " 12  runtime                45203 non-null  float64\n",
            " 13  spoken_languages       41508 non-null  object \n",
            " 14  status                 45379 non-null  object \n",
            " 15  tagline                20412 non-null  object \n",
            " 16  title                  45460 non-null  object \n",
            " 17  vote_average           45460 non-null  float64\n",
            " 18  vote_count             45460 non-null  float64\n",
            "dtypes: float64(6), object(13)\n",
            "memory usage: 6.6+ MB\n"
          ]
        }
      ]
    },
    {
      "cell_type": "code",
      "metadata": {
        "colab": {
          "base_uri": "https://localhost:8080/"
        },
        "id": "kalcGdPzL-Fd",
        "outputId": "eccd8eea-0c8f-48dc-d910-29a7152fdbeb"
      },
      "source": [
        "df.revenue.value_counts(dropna=False)"
      ],
      "execution_count": 349,
      "outputs": [
        {
          "output_type": "execute_result",
          "data": {
            "text/plain": [
              "0.0            38052\n",
              "12000000.0        20\n",
              "10000000.0        19\n",
              "11000000.0        19\n",
              "2000000.0         18\n",
              "               ...  \n",
              "245724603.0        1\n",
              "12212123.0         1\n",
              "8203235.0          1\n",
              "25900.0            1\n",
              "12032983.0         1\n",
              "Name: revenue, Length: 6864, dtype: int64"
            ]
          },
          "metadata": {},
          "execution_count": 349
        }
      ]
    },
    {
      "cell_type": "code",
      "metadata": {
        "id": "HPqUUroPMJSI"
      },
      "source": [
        "df.revenue=df.revenue.replace(0, np.nan)\n",
        "df.revenue=df.revenue.div(1000000)"
      ],
      "execution_count": 350,
      "outputs": []
    },
    {
      "cell_type": "code",
      "metadata": {
        "colab": {
          "base_uri": "https://localhost:8080/"
        },
        "id": "HxQWcuW_MWA2",
        "outputId": "9a38cabc-7047-41e7-af9e-cdd75a863089"
      },
      "source": [
        "df.revenue.value_counts(dropna=False)"
      ],
      "execution_count": 351,
      "outputs": [
        {
          "output_type": "execute_result",
          "data": {
            "text/plain": [
              "NaN           38058\n",
              "12.000000        20\n",
              "10.000000        19\n",
              "11.000000        19\n",
              "2.000000         18\n",
              "              ...  \n",
              "7.936012          1\n",
              "10.032765         1\n",
              "6.735922          1\n",
              "497.409852        1\n",
              "29.385320         1\n",
              "Name: revenue, Length: 6863, dtype: int64"
            ]
          },
          "metadata": {},
          "execution_count": 351
        }
      ]
    },
    {
      "cell_type": "code",
      "metadata": {
        "id": "bW9vVD2YMYKt"
      },
      "source": [
        "df.rename(columns={\"revenue\":\"revenue_musd\", \"budget\":\"budget_musd\"}, inplace=True)"
      ],
      "execution_count": 352,
      "outputs": []
    },
    {
      "cell_type": "code",
      "metadata": {
        "colab": {
          "base_uri": "https://localhost:8080/"
        },
        "id": "YakshN3iMxrr",
        "outputId": "79227bc3-8fcf-4d53-da46-5f1a3f87270e"
      },
      "source": [
        "df.info()"
      ],
      "execution_count": 353,
      "outputs": [
        {
          "output_type": "stream",
          "name": "stdout",
          "text": [
            "<class 'pandas.core.frame.DataFrame'>\n",
            "RangeIndex: 45466 entries, 0 to 45465\n",
            "Data columns (total 19 columns):\n",
            " #   Column                 Non-Null Count  Dtype  \n",
            "---  ------                 --------------  -----  \n",
            " 0   belongs_to_collection  4491 non-null   object \n",
            " 1   budget_musd            8890 non-null   float64\n",
            " 2   genres                 45466 non-null  object \n",
            " 3   id                     45466 non-null  object \n",
            " 4   original_language      45455 non-null  object \n",
            " 5   overview               44512 non-null  object \n",
            " 6   popularity             45461 non-null  object \n",
            " 7   poster_path            45080 non-null  object \n",
            " 8   production_companies   33585 non-null  object \n",
            " 9   production_countries   0 non-null      float64\n",
            " 10  release_date           45379 non-null  object \n",
            " 11  revenue_musd           7408 non-null   float64\n",
            " 12  runtime                45203 non-null  float64\n",
            " 13  spoken_languages       41508 non-null  object \n",
            " 14  status                 45379 non-null  object \n",
            " 15  tagline                20412 non-null  object \n",
            " 16  title                  45460 non-null  object \n",
            " 17  vote_average           45460 non-null  float64\n",
            " 18  vote_count             45460 non-null  float64\n",
            "dtypes: float64(6), object(13)\n",
            "memory usage: 6.6+ MB\n"
          ]
        }
      ]
    },
    {
      "cell_type": "markdown",
      "metadata": {
        "id": "nqoiCFehM49O"
      },
      "source": [
        "######Cleaning Numerical Values (PART 2)"
      ]
    },
    {
      "cell_type": "markdown",
      "metadata": {
        "id": "pkyczh2BNDRh"
      },
      "source": [
        "######runtime columns"
      ]
    },
    {
      "cell_type": "code",
      "metadata": {
        "colab": {
          "base_uri": "https://localhost:8080/"
        },
        "id": "hlmrunKZMyuI",
        "outputId": "8330e19b-9750-4af6-dc7c-0c64e58042d7"
      },
      "source": [
        "df.runtime.value_counts(dropna=False).head(20)"
      ],
      "execution_count": 354,
      "outputs": [
        {
          "output_type": "execute_result",
          "data": {
            "text/plain": [
              "90.0     2556\n",
              "0.0      1558\n",
              "100.0    1470\n",
              "95.0     1412\n",
              "93.0     1214\n",
              "96.0     1104\n",
              "92.0     1080\n",
              "94.0     1062\n",
              "91.0     1057\n",
              "88.0     1032\n",
              "97.0     1027\n",
              "85.0     1024\n",
              "98.0     1019\n",
              "105.0    1002\n",
              "89.0      958\n",
              "87.0      919\n",
              "110.0     850\n",
              "86.0      846\n",
              "99.0      794\n",
              "102.0     791\n",
              "Name: runtime, dtype: int64"
            ]
          },
          "metadata": {},
          "execution_count": 354
        }
      ]
    },
    {
      "cell_type": "code",
      "metadata": {
        "id": "AOUL6-vVNK-h"
      },
      "source": [
        "#replace 0 by NaN\n",
        "df.runtime=df.runtime.replace(0, np.nan)"
      ],
      "execution_count": 355,
      "outputs": []
    },
    {
      "cell_type": "code",
      "metadata": {
        "colab": {
          "base_uri": "https://localhost:8080/"
        },
        "id": "QFa1ikVhNW0D",
        "outputId": "c767027c-c43a-454a-90c5-5bcbc58301d8"
      },
      "source": [
        "df.runtime.value_counts(dropna=False).head(20)"
      ],
      "execution_count": 356,
      "outputs": [
        {
          "output_type": "execute_result",
          "data": {
            "text/plain": [
              "90.0     2556\n",
              "NaN      1821\n",
              "100.0    1470\n",
              "95.0     1412\n",
              "93.0     1214\n",
              "96.0     1104\n",
              "92.0     1080\n",
              "94.0     1062\n",
              "91.0     1057\n",
              "88.0     1032\n",
              "97.0     1027\n",
              "85.0     1024\n",
              "98.0     1019\n",
              "105.0    1002\n",
              "89.0      958\n",
              "87.0      919\n",
              "110.0     850\n",
              "86.0      846\n",
              "99.0      794\n",
              "102.0     791\n",
              "Name: runtime, dtype: int64"
            ]
          },
          "metadata": {},
          "execution_count": 356
        }
      ]
    },
    {
      "cell_type": "markdown",
      "metadata": {
        "id": "gJUv-QXvNhaI"
      },
      "source": [
        "######id columns"
      ]
    },
    {
      "cell_type": "code",
      "metadata": {
        "colab": {
          "base_uri": "https://localhost:8080/"
        },
        "id": "9Ujmh7GWNdT8",
        "outputId": "15da2444-334a-42fc-8b7b-369f4cef924b"
      },
      "source": [
        "df.info()"
      ],
      "execution_count": 357,
      "outputs": [
        {
          "output_type": "stream",
          "name": "stdout",
          "text": [
            "<class 'pandas.core.frame.DataFrame'>\n",
            "RangeIndex: 45466 entries, 0 to 45465\n",
            "Data columns (total 19 columns):\n",
            " #   Column                 Non-Null Count  Dtype  \n",
            "---  ------                 --------------  -----  \n",
            " 0   belongs_to_collection  4491 non-null   object \n",
            " 1   budget_musd            8890 non-null   float64\n",
            " 2   genres                 45466 non-null  object \n",
            " 3   id                     45466 non-null  object \n",
            " 4   original_language      45455 non-null  object \n",
            " 5   overview               44512 non-null  object \n",
            " 6   popularity             45461 non-null  object \n",
            " 7   poster_path            45080 non-null  object \n",
            " 8   production_companies   33585 non-null  object \n",
            " 9   production_countries   0 non-null      float64\n",
            " 10  release_date           45379 non-null  object \n",
            " 11  revenue_musd           7408 non-null   float64\n",
            " 12  runtime                43645 non-null  float64\n",
            " 13  spoken_languages       41508 non-null  object \n",
            " 14  status                 45379 non-null  object \n",
            " 15  tagline                20412 non-null  object \n",
            " 16  title                  45460 non-null  object \n",
            " 17  vote_average           45460 non-null  float64\n",
            " 18  vote_count             45460 non-null  float64\n",
            "dtypes: float64(6), object(13)\n",
            "memory usage: 6.6+ MB\n"
          ]
        }
      ]
    },
    {
      "cell_type": "code",
      "metadata": {
        "id": "hMCCRncPNlyN"
      },
      "source": [
        "# Let's convert id in numeric \n",
        "#pd.to_numeric(df.id)"
      ],
      "execution_count": 358,
      "outputs": []
    },
    {
      "cell_type": "code",
      "metadata": {
        "id": "RlYLuHA8NtUZ"
      },
      "source": [
        "df.id=pd.to_numeric(df.id, errors='coerce')"
      ],
      "execution_count": 359,
      "outputs": []
    },
    {
      "cell_type": "code",
      "metadata": {
        "colab": {
          "base_uri": "https://localhost:8080/"
        },
        "id": "fpjyUJ3YN2YH",
        "outputId": "7bc74c28-5074-4676-b134-9fa3d748b3c5"
      },
      "source": [
        "df.id.value_counts(dropna=False).head(20)"
      ],
      "execution_count": 360,
      "outputs": [
        {
          "output_type": "execute_result",
          "data": {
            "text/plain": [
              "141971.0    3\n",
              "NaN         3\n",
              "12600.0     2\n",
              "18440.0     2\n",
              "42495.0     2\n",
              "152795.0    2\n",
              "132641.0    2\n",
              "14788.0     2\n",
              "265189.0    2\n",
              "4912.0      2\n",
              "84198.0     2\n",
              "298721.0    2\n",
              "109962.0    2\n",
              "5511.0      2\n",
              "110428.0    2\n",
              "22649.0     2\n",
              "15028.0     2\n",
              "10991.0     2\n",
              "105045.0    2\n",
              "13209.0     2\n",
              "Name: id, dtype: int64"
            ]
          },
          "metadata": {},
          "execution_count": 360
        }
      ]
    },
    {
      "cell_type": "code",
      "metadata": {
        "colab": {
          "base_uri": "https://localhost:8080/"
        },
        "id": "vYY9xng7N6J0",
        "outputId": "bc237093-1e29-4b8a-b23f-9993e5ddf310"
      },
      "source": [
        "df.info()"
      ],
      "execution_count": 361,
      "outputs": [
        {
          "output_type": "stream",
          "name": "stdout",
          "text": [
            "<class 'pandas.core.frame.DataFrame'>\n",
            "RangeIndex: 45466 entries, 0 to 45465\n",
            "Data columns (total 19 columns):\n",
            " #   Column                 Non-Null Count  Dtype  \n",
            "---  ------                 --------------  -----  \n",
            " 0   belongs_to_collection  4491 non-null   object \n",
            " 1   budget_musd            8890 non-null   float64\n",
            " 2   genres                 45466 non-null  object \n",
            " 3   id                     45463 non-null  float64\n",
            " 4   original_language      45455 non-null  object \n",
            " 5   overview               44512 non-null  object \n",
            " 6   popularity             45461 non-null  object \n",
            " 7   poster_path            45080 non-null  object \n",
            " 8   production_companies   33585 non-null  object \n",
            " 9   production_countries   0 non-null      float64\n",
            " 10  release_date           45379 non-null  object \n",
            " 11  revenue_musd           7408 non-null   float64\n",
            " 12  runtime                43645 non-null  float64\n",
            " 13  spoken_languages       41508 non-null  object \n",
            " 14  status                 45379 non-null  object \n",
            " 15  tagline                20412 non-null  object \n",
            " 16  title                  45460 non-null  object \n",
            " 17  vote_average           45460 non-null  float64\n",
            " 18  vote_count             45460 non-null  float64\n",
            "dtypes: float64(7), object(12)\n",
            "memory usage: 6.6+ MB\n"
          ]
        }
      ]
    },
    {
      "cell_type": "markdown",
      "metadata": {
        "id": "Nx8wiodVOUZE"
      },
      "source": [
        "######popularity column"
      ]
    },
    {
      "cell_type": "code",
      "metadata": {
        "colab": {
          "base_uri": "https://localhost:8080/"
        },
        "id": "aG0Dzk9iN-aF",
        "outputId": "4b4a1a94-6e59-49cf-b850-2cb53a510349"
      },
      "source": [
        "df.popularity"
      ],
      "execution_count": 362,
      "outputs": [
        {
          "output_type": "execute_result",
          "data": {
            "text/plain": [
              "0         21.9469\n",
              "1         17.0155\n",
              "2         11.7129\n",
              "3         3.85949\n",
              "4         8.38752\n",
              "           ...   \n",
              "45461    0.072051\n",
              "45462    0.178241\n",
              "45463    0.903007\n",
              "45464    0.003503\n",
              "45465    0.163015\n",
              "Name: popularity, Length: 45466, dtype: object"
            ]
          },
          "metadata": {},
          "execution_count": 362
        }
      ]
    },
    {
      "cell_type": "code",
      "metadata": {
        "colab": {
          "base_uri": "https://localhost:8080/"
        },
        "id": "z-YEoZXsOYfq",
        "outputId": "2b9d4943-aad0-4dae-8456-55b173f80ad1"
      },
      "source": [
        "df.popularity.dtypes"
      ],
      "execution_count": 363,
      "outputs": [
        {
          "output_type": "execute_result",
          "data": {
            "text/plain": [
              "dtype('O')"
            ]
          },
          "metadata": {},
          "execution_count": 363
        }
      ]
    },
    {
      "cell_type": "code",
      "metadata": {
        "id": "U3p21vQCOdgo"
      },
      "source": [
        "#pd.to_numeric(df.popularity)"
      ],
      "execution_count": 364,
      "outputs": []
    },
    {
      "cell_type": "code",
      "metadata": {
        "id": "8Nn8HoScO1GD"
      },
      "source": [
        "df.popularity=pd.to_numeric(df.popularity, errors='coerce')"
      ],
      "execution_count": 365,
      "outputs": []
    },
    {
      "cell_type": "code",
      "metadata": {
        "colab": {
          "base_uri": "https://localhost:8080/"
        },
        "id": "_Riijvd9O-fk",
        "outputId": "b7c00c60-b94b-4b24-9e0f-30c2e1e92e75"
      },
      "source": [
        "df.popularity.dtypes"
      ],
      "execution_count": 366,
      "outputs": [
        {
          "output_type": "execute_result",
          "data": {
            "text/plain": [
              "dtype('float64')"
            ]
          },
          "metadata": {},
          "execution_count": 366
        }
      ]
    },
    {
      "cell_type": "code",
      "metadata": {
        "colab": {
          "base_uri": "https://localhost:8080/"
        },
        "id": "XR16zDQOPDiI",
        "outputId": "8ff1dcab-e7df-402e-8687-ffb63ce07b94"
      },
      "source": [
        "df.popularity.value_counts(dropna=False).head(20)"
      ],
      "execution_count": 367,
      "outputs": [
        {
          "output_type": "execute_result",
          "data": {
            "text/plain": [
              "0.000000    66\n",
              "0.000001    56\n",
              "0.000308    43\n",
              "0.000220    40\n",
              "0.000578    38\n",
              "0.000844    38\n",
              "0.001177    38\n",
              "0.002001    28\n",
              "0.003013    21\n",
              "0.001393    19\n",
              "0.003530    19\n",
              "0.036471    18\n",
              "0.002353    18\n",
              "0.000603    16\n",
              "0.001586    15\n",
              "0.004425    14\n",
              "0.000431    13\n",
              "0.001021    13\n",
              "0.004706    12\n",
              "0.003553    11\n",
              "Name: popularity, dtype: int64"
            ]
          },
          "metadata": {},
          "execution_count": 367
        }
      ]
    },
    {
      "cell_type": "code",
      "metadata": {
        "colab": {
          "base_uri": "https://localhost:8080/"
        },
        "id": "7zuZ7yJKPKxH",
        "outputId": "9424d2f7-02d8-478f-baeb-00e27cba7b0a"
      },
      "source": [
        "df.vote_count.dtypes"
      ],
      "execution_count": 368,
      "outputs": [
        {
          "output_type": "execute_result",
          "data": {
            "text/plain": [
              "dtype('float64')"
            ]
          },
          "metadata": {},
          "execution_count": 368
        }
      ]
    },
    {
      "cell_type": "code",
      "metadata": {
        "colab": {
          "base_uri": "https://localhost:8080/"
        },
        "id": "EUfur2KOPVpY",
        "outputId": "24e7a584-9f1c-463e-d6d7-fb77b6a12936"
      },
      "source": [
        "df.vote_count.value_counts(dropna=False).head(20)"
      ],
      "execution_count": 369,
      "outputs": [
        {
          "output_type": "execute_result",
          "data": {
            "text/plain": [
              "1.0     3264\n",
              "2.0     3132\n",
              "0.0     2899\n",
              "3.0     2787\n",
              "4.0     2480\n",
              "5.0     2097\n",
              "6.0     1747\n",
              "7.0     1570\n",
              "8.0     1359\n",
              "9.0     1194\n",
              "10.0    1171\n",
              "11.0     944\n",
              "12.0     859\n",
              "13.0     733\n",
              "14.0     700\n",
              "15.0     674\n",
              "16.0     601\n",
              "17.0     554\n",
              "18.0     497\n",
              "20.0     463\n",
              "Name: vote_count, dtype: int64"
            ]
          },
          "metadata": {},
          "execution_count": 369
        }
      ]
    },
    {
      "cell_type": "code",
      "metadata": {
        "colab": {
          "base_uri": "https://localhost:8080/"
        },
        "id": "IBGbN-ZGPbK4",
        "outputId": "0a261a93-36d0-48ee-bd28-76fc5cc1f908"
      },
      "source": [
        "df.vote_average.dtypes"
      ],
      "execution_count": 370,
      "outputs": [
        {
          "output_type": "execute_result",
          "data": {
            "text/plain": [
              "dtype('float64')"
            ]
          },
          "metadata": {},
          "execution_count": 370
        }
      ]
    },
    {
      "cell_type": "code",
      "metadata": {
        "colab": {
          "base_uri": "https://localhost:8080/"
        },
        "id": "kYW7JYzMPeX1",
        "outputId": "93b9d4e7-5356-459f-edf7-f3f624aa5a18"
      },
      "source": [
        "df.vote_average.value_counts(dropna=False).head(20)"
      ],
      "execution_count": 371,
      "outputs": [
        {
          "output_type": "execute_result",
          "data": {
            "text/plain": [
              "0.0    2998\n",
              "6.0    2468\n",
              "5.0    2001\n",
              "7.0    1886\n",
              "6.5    1722\n",
              "6.3    1603\n",
              "5.5    1381\n",
              "5.8    1369\n",
              "6.4    1350\n",
              "6.7    1342\n",
              "6.8    1324\n",
              "6.1    1281\n",
              "6.6    1263\n",
              "6.2    1253\n",
              "5.9    1196\n",
              "5.3    1082\n",
              "5.7    1046\n",
              "6.9    1037\n",
              "5.6    1006\n",
              "7.3    1000\n",
              "Name: vote_average, dtype: int64"
            ]
          },
          "metadata": {},
          "execution_count": 371
        }
      ]
    },
    {
      "cell_type": "code",
      "metadata": {
        "colab": {
          "base_uri": "https://localhost:8080/"
        },
        "id": "qwlTzMf8Pi9O",
        "outputId": "381e7ea8-e9ef-4e82-e9c3-351b8cbb7959"
      },
      "source": [
        "df.loc[df.vote_count==0, 'vote_average']"
      ],
      "execution_count": 372,
      "outputs": [
        {
          "output_type": "execute_result",
          "data": {
            "text/plain": [
              "83       0.0\n",
              "107      0.0\n",
              "126      0.0\n",
              "132      0.0\n",
              "137      0.0\n",
              "        ... \n",
              "45432    0.0\n",
              "45434    0.0\n",
              "45452    0.0\n",
              "45464    0.0\n",
              "45465    0.0\n",
              "Name: vote_average, Length: 2899, dtype: float64"
            ]
          },
          "metadata": {},
          "execution_count": 372
        }
      ]
    },
    {
      "cell_type": "code",
      "metadata": {
        "id": "B8vTvfxGPvO-"
      },
      "source": [
        "df.loc[df.vote_count==0, 'vote_average']=np.nan"
      ],
      "execution_count": 373,
      "outputs": []
    },
    {
      "cell_type": "code",
      "metadata": {
        "colab": {
          "base_uri": "https://localhost:8080/"
        },
        "id": "Dayy_ws_P6t5",
        "outputId": "51dfc6a4-9e4e-4acb-ed8b-271bc435a9d1"
      },
      "source": [
        "df.info()"
      ],
      "execution_count": 374,
      "outputs": [
        {
          "output_type": "stream",
          "name": "stdout",
          "text": [
            "<class 'pandas.core.frame.DataFrame'>\n",
            "RangeIndex: 45466 entries, 0 to 45465\n",
            "Data columns (total 19 columns):\n",
            " #   Column                 Non-Null Count  Dtype  \n",
            "---  ------                 --------------  -----  \n",
            " 0   belongs_to_collection  4491 non-null   object \n",
            " 1   budget_musd            8890 non-null   float64\n",
            " 2   genres                 45466 non-null  object \n",
            " 3   id                     45463 non-null  float64\n",
            " 4   original_language      45455 non-null  object \n",
            " 5   overview               44512 non-null  object \n",
            " 6   popularity             45460 non-null  float64\n",
            " 7   poster_path            45080 non-null  object \n",
            " 8   production_companies   33585 non-null  object \n",
            " 9   production_countries   0 non-null      float64\n",
            " 10  release_date           45379 non-null  object \n",
            " 11  revenue_musd           7408 non-null   float64\n",
            " 12  runtime                43645 non-null  float64\n",
            " 13  spoken_languages       41508 non-null  object \n",
            " 14  status                 45379 non-null  object \n",
            " 15  tagline                20412 non-null  object \n",
            " 16  title                  45460 non-null  object \n",
            " 17  vote_average           42561 non-null  float64\n",
            " 18  vote_count             45460 non-null  float64\n",
            "dtypes: float64(8), object(11)\n",
            "memory usage: 6.6+ MB\n"
          ]
        }
      ]
    },
    {
      "cell_type": "markdown",
      "metadata": {
        "id": "dAqkpjsmQZcW"
      },
      "source": [
        "- Cleaning DateTime Columns"
      ]
    },
    {
      "cell_type": "code",
      "metadata": {
        "colab": {
          "base_uri": "https://localhost:8080/"
        },
        "id": "GcMx3fdRP8Bw",
        "outputId": "7c8a6c75-6909-4d36-82f7-77d5bf64be3d"
      },
      "source": [
        "df.info()"
      ],
      "execution_count": 375,
      "outputs": [
        {
          "output_type": "stream",
          "name": "stdout",
          "text": [
            "<class 'pandas.core.frame.DataFrame'>\n",
            "RangeIndex: 45466 entries, 0 to 45465\n",
            "Data columns (total 19 columns):\n",
            " #   Column                 Non-Null Count  Dtype  \n",
            "---  ------                 --------------  -----  \n",
            " 0   belongs_to_collection  4491 non-null   object \n",
            " 1   budget_musd            8890 non-null   float64\n",
            " 2   genres                 45466 non-null  object \n",
            " 3   id                     45463 non-null  float64\n",
            " 4   original_language      45455 non-null  object \n",
            " 5   overview               44512 non-null  object \n",
            " 6   popularity             45460 non-null  float64\n",
            " 7   poster_path            45080 non-null  object \n",
            " 8   production_companies   33585 non-null  object \n",
            " 9   production_countries   0 non-null      float64\n",
            " 10  release_date           45379 non-null  object \n",
            " 11  revenue_musd           7408 non-null   float64\n",
            " 12  runtime                43645 non-null  float64\n",
            " 13  spoken_languages       41508 non-null  object \n",
            " 14  status                 45379 non-null  object \n",
            " 15  tagline                20412 non-null  object \n",
            " 16  title                  45460 non-null  object \n",
            " 17  vote_average           42561 non-null  float64\n",
            " 18  vote_count             45460 non-null  float64\n",
            "dtypes: float64(8), object(11)\n",
            "memory usage: 6.6+ MB\n"
          ]
        }
      ]
    },
    {
      "cell_type": "code",
      "metadata": {
        "colab": {
          "base_uri": "https://localhost:8080/"
        },
        "id": "_-ieGkngQg90",
        "outputId": "7f0708db-360b-412a-f671-3ac7137fc3b4"
      },
      "source": [
        "df.release_date.dtypes"
      ],
      "execution_count": 376,
      "outputs": [
        {
          "output_type": "execute_result",
          "data": {
            "text/plain": [
              "dtype('O')"
            ]
          },
          "metadata": {},
          "execution_count": 376
        }
      ]
    },
    {
      "cell_type": "code",
      "metadata": {
        "id": "Pwucgz-fQnaX"
      },
      "source": [
        "# Convert into date\n",
        "#pd.to_datetime(df.release_date)"
      ],
      "execution_count": 377,
      "outputs": []
    },
    {
      "cell_type": "code",
      "metadata": {
        "id": "wYWETR_XQtnp"
      },
      "source": [
        "df.release_date=pd.to_datetime(df.release_date, errors='coerce')"
      ],
      "execution_count": 378,
      "outputs": []
    },
    {
      "cell_type": "code",
      "metadata": {
        "colab": {
          "base_uri": "https://localhost:8080/"
        },
        "id": "vGmkVm-KQ5LL",
        "outputId": "7cc4c3c0-aa33-42bc-cd80-b814e023355b"
      },
      "source": [
        "df.release_date.value_counts(dropna=False)"
      ],
      "execution_count": 379,
      "outputs": [
        {
          "output_type": "execute_result",
          "data": {
            "text/plain": [
              "2008-01-01    136\n",
              "2009-01-01    121\n",
              "2007-01-01    118\n",
              "2005-01-01    111\n",
              "2006-01-01    101\n",
              "             ... \n",
              "1932-12-22      1\n",
              "1934-04-14      1\n",
              "1943-06-02      1\n",
              "1891-11-15      1\n",
              "1967-09-20      1\n",
              "Name: release_date, Length: 17334, dtype: int64"
            ]
          },
          "metadata": {},
          "execution_count": 379
        }
      ]
    },
    {
      "cell_type": "code",
      "metadata": {
        "colab": {
          "base_uri": "https://localhost:8080/"
        },
        "id": "7LR9sZ2cQ-aM",
        "outputId": "8a083241-0c29-449c-8557-e50e1786c379"
      },
      "source": [
        "df.release_date.value_counts(dropna=False).head(20)"
      ],
      "execution_count": 380,
      "outputs": [
        {
          "output_type": "execute_result",
          "data": {
            "text/plain": [
              "2008-01-01    136\n",
              "2009-01-01    121\n",
              "2007-01-01    118\n",
              "2005-01-01    111\n",
              "2006-01-01    101\n",
              "2002-01-01     96\n",
              "2004-01-01     90\n",
              "NaT            90\n",
              "2001-01-01     84\n",
              "2003-01-01     76\n",
              "1997-01-01     69\n",
              "2010-01-01     68\n",
              "1999-01-01     67\n",
              "1998-01-01     67\n",
              "2000-01-01     64\n",
              "1987-01-01     63\n",
              "1988-01-01     63\n",
              "1994-01-01     61\n",
              "1989-01-01     60\n",
              "2011-01-01     56\n",
              "Name: release_date, dtype: int64"
            ]
          },
          "metadata": {},
          "execution_count": 380
        }
      ]
    },
    {
      "cell_type": "markdown",
      "metadata": {
        "id": "P0ws06q_SEFu"
      },
      "source": [
        "- Cleaning Text/String Columns"
      ]
    },
    {
      "cell_type": "code",
      "metadata": {
        "colab": {
          "base_uri": "https://localhost:8080/"
        },
        "id": "g50gUYlBRFtD",
        "outputId": "f0e8d519-5124-46df-a66b-6f36f9cb92a9"
      },
      "source": [
        "df.info()"
      ],
      "execution_count": 381,
      "outputs": [
        {
          "output_type": "stream",
          "name": "stdout",
          "text": [
            "<class 'pandas.core.frame.DataFrame'>\n",
            "RangeIndex: 45466 entries, 0 to 45465\n",
            "Data columns (total 19 columns):\n",
            " #   Column                 Non-Null Count  Dtype         \n",
            "---  ------                 --------------  -----         \n",
            " 0   belongs_to_collection  4491 non-null   object        \n",
            " 1   budget_musd            8890 non-null   float64       \n",
            " 2   genres                 45466 non-null  object        \n",
            " 3   id                     45463 non-null  float64       \n",
            " 4   original_language      45455 non-null  object        \n",
            " 5   overview               44512 non-null  object        \n",
            " 6   popularity             45460 non-null  float64       \n",
            " 7   poster_path            45080 non-null  object        \n",
            " 8   production_companies   33585 non-null  object        \n",
            " 9   production_countries   0 non-null      float64       \n",
            " 10  release_date           45376 non-null  datetime64[ns]\n",
            " 11  revenue_musd           7408 non-null   float64       \n",
            " 12  runtime                43645 non-null  float64       \n",
            " 13  spoken_languages       41508 non-null  object        \n",
            " 14  status                 45379 non-null  object        \n",
            " 15  tagline                20412 non-null  object        \n",
            " 16  title                  45460 non-null  object        \n",
            " 17  vote_average           42561 non-null  float64       \n",
            " 18  vote_count             45460 non-null  float64       \n",
            "dtypes: datetime64[ns](1), float64(8), object(10)\n",
            "memory usage: 6.6+ MB\n"
          ]
        }
      ]
    },
    {
      "cell_type": "code",
      "metadata": {
        "colab": {
          "base_uri": "https://localhost:8080/"
        },
        "id": "28t2BmWCSJ4L",
        "outputId": "3517babe-827f-41ab-d12d-51378212bb95"
      },
      "source": [
        "df.original_language.value_counts(dropna=False).head(20)"
      ],
      "execution_count": 382,
      "outputs": [
        {
          "output_type": "execute_result",
          "data": {
            "text/plain": [
              "en    32269\n",
              "fr     2438\n",
              "it     1529\n",
              "ja     1350\n",
              "de     1080\n",
              "es      994\n",
              "ru      826\n",
              "hi      508\n",
              "ko      444\n",
              "zh      409\n",
              "sv      384\n",
              "pt      316\n",
              "cn      313\n",
              "fi      297\n",
              "nl      248\n",
              "da      225\n",
              "pl      219\n",
              "tr      150\n",
              "cs      130\n",
              "el      113\n",
              "Name: original_language, dtype: int64"
            ]
          },
          "metadata": {},
          "execution_count": 382
        }
      ]
    },
    {
      "cell_type": "code",
      "metadata": {
        "colab": {
          "base_uri": "https://localhost:8080/"
        },
        "id": "FvpWJNt3STQz",
        "outputId": "20013ca7-2bb5-4d80-f32f-cb21fac7b7fe"
      },
      "source": [
        "#title\n",
        "df.title"
      ],
      "execution_count": 383,
      "outputs": [
        {
          "output_type": "execute_result",
          "data": {
            "text/plain": [
              "0                          Toy Story\n",
              "1                            Jumanji\n",
              "2                   Grumpier Old Men\n",
              "3                  Waiting to Exhale\n",
              "4        Father of the Bride Part II\n",
              "                    ...             \n",
              "45461                         Subdue\n",
              "45462            Century of Birthing\n",
              "45463                       Betrayal\n",
              "45464               Satan Triumphant\n",
              "45465                       Queerama\n",
              "Name: title, Length: 45466, dtype: object"
            ]
          },
          "metadata": {},
          "execution_count": 383
        }
      ]
    },
    {
      "cell_type": "code",
      "metadata": {
        "colab": {
          "base_uri": "https://localhost:8080/"
        },
        "id": "GX97YIzzSXCI",
        "outputId": "dbff89a6-b686-43e6-d296-4e26dbad75a0"
      },
      "source": [
        "df.title.value_counts(dropna=False).head(20)"
      ],
      "execution_count": 384,
      "outputs": [
        {
          "output_type": "execute_result",
          "data": {
            "text/plain": [
              "Cinderella              11\n",
              "Hamlet                   9\n",
              "Alice in Wonderland      9\n",
              "Les Misérables           8\n",
              "Beauty and the Beast     8\n",
              "The Three Musketeers     7\n",
              "Blackout                 7\n",
              "A Christmas Carol        7\n",
              "Treasure Island          7\n",
              "The Circle               6\n",
              "The Stranger             6\n",
              "The Journey              6\n",
              "Countdown                6\n",
              "The Promise              6\n",
              "Mother                   6\n",
              "Macbeth                  6\n",
              "Wuthering Heights        6\n",
              "King Lear                6\n",
              "The Hunters              6\n",
              "Aftermath                6\n",
              "Name: title, dtype: int64"
            ]
          },
          "metadata": {},
          "execution_count": 384
        }
      ]
    },
    {
      "cell_type": "code",
      "metadata": {
        "colab": {
          "base_uri": "https://localhost:8080/",
          "height": 69
        },
        "id": "sVlOCft7SbpO",
        "outputId": "f1114ff8-ba5b-4349-bf30-2d72e94f7a43"
      },
      "source": [
        "#overview\n",
        "df.overview[0]"
      ],
      "execution_count": 385,
      "outputs": [
        {
          "output_type": "execute_result",
          "data": {
            "application/vnd.google.colaboratory.intrinsic+json": {
              "type": "string"
            },
            "text/plain": [
              "\"Led by Woody, Andy's toys live happily in his room until Andy's birthday brings Buzz Lightyear onto the scene. Afraid of losing his place in Andy's heart, Woody plots against Buzz. But when circumstances separate Buzz and Woody from their owner, the duo eventually learns to put aside their differences.\""
            ]
          },
          "metadata": {},
          "execution_count": 385
        }
      ]
    },
    {
      "cell_type": "code",
      "metadata": {
        "colab": {
          "base_uri": "https://localhost:8080/"
        },
        "id": "nqquab_8SgPu",
        "outputId": "c324ee0b-8d6f-4a48-d827-89f7ca119ac8"
      },
      "source": [
        "df.overview.value_counts(dropna=False).head(20)"
      ],
      "execution_count": 386,
      "outputs": [
        {
          "output_type": "execute_result",
          "data": {
            "text/plain": [
              "NaN                                                                                                                                                                                                                                                                                                                                                                                                                                                                                                                                                                                                                                           954\n",
              "No overview found.                                                                                                                                                                                                                                                                                                                                                                                                                                                                                                                                                                                                                            133\n",
              "No Overview                                                                                                                                                                                                                                                                                                                                                                                                                                                                                                                                                                                                                                     7\n",
              "                                                                                                                                                                                                                                                                                                                                                                                                                                                                                                                                                                                                                                                5\n",
              "No movie overview available.                                                                                                                                                                                                                                                                                                                                                                                                                                                                                                                                                                                                                    3\n",
              "Recovering from a nail gun shot to the head and 13 months of coma, doctor Pekka Valinta starts to unravel the mystery of his past, still suffering from total amnesia.                                                                                                                                                                                                                                                                                                                                                                                                                                                                          3\n",
              "Adaptation of the Jane Austen novel.                                                                                                                                                                                                                                                                                                                                                                                                                                                                                                                                                                                                            3\n",
              "A few funny little novels about different aspects of life.                                                                                                                                                                                                                                                                                                                                                                                                                                                                                                                                                                                      3\n",
              "King Lear, old and tired, divides his kingdom among his daughters, giving great importance to their protestations of love for him. When Cordelia, youngest and most honest, refuses to idly flatter the old man in return for favor, he banishes her and turns for support to his remaining daughters. But Goneril and Regan have no love for him and instead plot to take all his power from him. In a parallel, Lear's loyal courtier Gloucester favors his illegitimate son Edmund after being told lies about his faithful son Edgar. Madness and tragedy befall both ill-starred fathers.                                                  3\n",
              "Released                                                                                                                                                                                                                                                                                                                                                                                                                                                                                                                                                                                                                                        3\n",
              "In feudal India, a warrior (Khan) who renounces his role as the longtime enforcer to a local lord becomes the prey in a murderous hunt through the Himalayan mountains.                                                                                                                                                                                                                                                                                                                                                                                                                                                                         2\n",
              "An abstract animation from Walter Ruttmann.                                                                                                                                                                                                                                                                                                                                                                                                                                                                                                                                                                                                     2\n",
              "Winter, 1915. Confined by her family to an asylum in the South of France - where she will never sculpt again - the chronicle of Camille Claudel's reclusive life, as she waits for a visit from her brother, Paul Claudel.                                                                                                                                                                                                                                                                                                                                                                                                                      2\n",
              "Experimental film fragment made with the Edison-Dickson-Heise experimental horizontal-feed kinetograph camera and viewer, using 3/4-inch wide film.                                                                                                                                                                                                                                                                                                                                                                                                                                                                                             2\n",
              "Originally called White Thunder, American producer Varick Frissell's 1931 film was inspired by his love for the Canadian Arctic Circle. Set in a beautifully black-and-white filmed Newfoundland, it is the story of a rivalry between two seal hunters that plays out on the ice floes during a hunt. Unsatisfied with the first cut, Frissell arranged for the crew to accompany an actual Newfoundland seal hunt on The SS Viking, on which an explosion of dynamite (carried regularly at the time on Arctic ships to combat ice jams) killed many members of the crew, including Frissell. The film was renamed in honor of the dead.      2\n",
              "As an ex-gambler teaches a hot-shot college kid some things about playing cards, he finds himself pulled into the world series of poker, where his protégé is his toughest competition.                                                                                                                                                                                                                                                                                                                                                                                                                                                         2\n",
              "When Molly Hale's sadness of her father's disappearance get to her, she unknowingly uses the Unown to create her own dream world along with Entei, who she believes to be her father. When Entei kidnaps Ash's mom, Ash along with Misty & Brock invade the mansion looking for his mom and trying to stop the mysteries of Molly's Dream World and Entei!                                                                                                                                                                                                                                                                                      2\n",
              "Until now, Zak Gibbs' greatest challenge has been to find a way to buy a car. But when he discovers an odd wristwatch amidst his father's various inventions and slips it on -- something very strange happens. The world around him seems to come to a stop, everything and everybody frozen in time. Zak quickly learns how to manipulate the device and he and his quick-witted and beautiful new friend, Francesca, start to have some real fun.                                                                                                                                                                                            2\n",
              "Using personal stories, this powerful documentary illuminates the plight of the 49 million Americans struggling with food insecurity. A single mother, a small-town policeman and a farmer are among those for whom putting food on the table is a daily battle.                                                                                                                                                                                                                                                                                                                                                                                2\n",
              "Prospero, the true Duke of Milan is now living on an enchanted island with his daughter Miranda, the savage Caliban and Ariel, a spirit of the air. Raising a sorm to bring his brother - the usurper of his dukedom - along with his royal entourage. to the island. Prospero contrives his revenge.                                                                                                                                                                                                                                                                                                                                           2\n",
              "Name: overview, dtype: int64"
            ]
          },
          "metadata": {},
          "execution_count": 386
        }
      ]
    },
    {
      "cell_type": "code",
      "metadata": {
        "id": "tbdK83tbSpjR"
      },
      "source": [
        "#replace nan by No overview found\n",
        "df.overview.replace(\"No overview found.\", np.nan, inplace=True)"
      ],
      "execution_count": 387,
      "outputs": []
    },
    {
      "cell_type": "code",
      "metadata": {
        "id": "WqaaTSQdS7yn"
      },
      "source": [
        "df.overview.replace('No Overview', np.nan, inplace=True)"
      ],
      "execution_count": 388,
      "outputs": []
    },
    {
      "cell_type": "code",
      "metadata": {
        "id": "N97YF-wDTJk4"
      },
      "source": [
        "df.overview.replace('No movie overview available.', np.nan, inplace=True)"
      ],
      "execution_count": 389,
      "outputs": []
    },
    {
      "cell_type": "code",
      "metadata": {
        "id": "6Ft_LsWxTRQM"
      },
      "source": [
        "df.overview.replace('', np.nan, inplace=True)"
      ],
      "execution_count": 390,
      "outputs": []
    },
    {
      "cell_type": "code",
      "metadata": {
        "id": "gd7ojLOWTWxg"
      },
      "source": [
        "df.overview.replace('No overview yet.', np.nan, inplace=True)"
      ],
      "execution_count": 391,
      "outputs": []
    },
    {
      "cell_type": "code",
      "metadata": {
        "colab": {
          "base_uri": "https://localhost:8080/"
        },
        "id": "_lDmC3EATfW0",
        "outputId": "d4802718-1ab7-40bc-9f51-9b6bec0cf8dd"
      },
      "source": [
        "df.overview.value_counts(dropna=False).head(20)"
      ],
      "execution_count": 392,
      "outputs": [
        {
          "output_type": "execute_result",
          "data": {
            "text/plain": [
              "NaN                                                                                                                                                                                                                                                                                                                                                                                                                                                                                                                                                                                                                                                                                                                                                                                                                                                                     1099\n",
              "                                                                                                                                                                                                                                                                                                                                                                                                                                                                                                                                                                                                                                                                                                                                                                                                                                                                           5\n",
              "Recovering from a nail gun shot to the head and 13 months of coma, doctor Pekka Valinta starts to unravel the mystery of his past, still suffering from total amnesia.                                                                                                                                                                                                                                                                                                                                                                                                                                                                                                                                                                                                                                                                                                     3\n",
              "King Lear, old and tired, divides his kingdom among his daughters, giving great importance to their protestations of love for him. When Cordelia, youngest and most honest, refuses to idly flatter the old man in return for favor, he banishes her and turns for support to his remaining daughters. But Goneril and Regan have no love for him and instead plot to take all his power from him. In a parallel, Lear's loyal courtier Gloucester favors his illegitimate son Edmund after being told lies about his faithful son Edgar. Madness and tragedy befall both ill-starred fathers.                                                                                                                                                                                                                                                                             3\n",
              "A few funny little novels about different aspects of life.                                                                                                                                                                                                                                                                                                                                                                                                                                                                                                                                                                                                                                                                                                                                                                                                                 3\n",
              "Released                                                                                                                                                                                                                                                                                                                                                                                                                                                                                                                                                                                                                                                                                                                                                                                                                                                                   3\n",
              "Adaptation of the Jane Austen novel.                                                                                                                                                                                                                                                                                                                                                                                                                                                                                                                                                                                                                                                                                                                                                                                                                                       3\n",
              "The third film of Frank Capra's 'Why We Fight\" propaganda film series, dealing with the Nazi conquest of Western Europe in 1940.                                                                                                                                                                                                                                                                                                                                                                                                                                                                                                                                                                                                                                                                                                                                           2\n",
              "East-Berlin, 1961, shortly after the erection of the Wall. Konrad, Sophie and three of their friends plan a daring escape to Western Germany. The attempt is successful, except for Konrad, who remains behind. From then on, and for the next 28 years, Konrad and Sophie will attempt to meet again, in spite of the Iron Curtain. Konrad, who has become a reputed Astrophysicist, tries to take advantage of scientific congresses outside Eastern Germany to arrange encounters with Sophie. But in a country where the political police, the Stasi, monitors the moves of all suspicious people (such as Konrad's sister Barbara and her husband Harald), preserving one's privacy, ideals and self-respect becomes an exhausting fight, even as the Eastern block begins its long process of disintegration.                                                        2\n",
              "The Kingdom of the People of the Vale once ruled over the land, but now all that remains is the Sword of the Vale. in the city of Eindoak. Ash, Iris, and Cilan arrive in Eindoak during a harvest festival's Pokémon Tournament and meet the legendary Pokémon Victini who wishes to share its powers of victory to someone. Elsewhere in the city, a descendant of the People of the Vale named Damon has arrived who seeks to revive the kingdom's power with the Sword of the Vale, bringing them back into power over the land, and Ash and his friends must stop him before he destroys the land along with Victini.                                                                                                                                                                                                                                                 2\n",
              "After breaking a mirror in his home, superstitious Max tries to avoid situations which could bring bad luck but in doing so, causes himself the worst luck imaginable.                                                                                                                                                                                                                                                                                                                                                                                                                                                                                                                                                                                                                                                                                                     2\n",
              "Two literary women compete for 20 years: one writes for the critics; the other one, to get rich.                                                                                                                                                                                                                                                                                                                                                                                                                                                                                                                                                                                                                                                                                                                                                                           2\n",
              "Prospero, the true Duke of Milan is now living on an enchanted island with his daughter Miranda, the savage Caliban and Ariel, a spirit of the air. Raising a sorm to bring his brother - the usurper of his dukedom - along with his royal entourage. to the island. Prospero contrives his revenge.                                                                                                                                                                                                                                                                                                                                                                                                                                                                                                                                                                      2\n",
              "When a comet strikes Earth and kicks up a cloud of toxic dust, hundreds of humans join the ranks of the living dead. But there's bad news for the survivors: The newly minted zombies are hell-bent on eradicating every last person from the planet. For the few human beings who remain, going head to head with the flesh-eating fiends is their only chance for long-term survival. Yet their battle will be dark and cold, with overwhelming odds.                                                                                                                                                                                                                                                                                                                                                                                                                    2\n",
              "Using personal stories, this powerful documentary illuminates the plight of the 49 million Americans struggling with food insecurity. A single mother, a small-town policeman and a farmer are among those for whom putting food on the table is a daily battle.                                                                                                                                                                                                                                                                                                                                                                                                                                                                                                                                                                                                           2\n",
              "Bollywood 2009                                                                                                                                                                                                                                                                                                                                                                                                                                                                                                                                                                                                                                                                                                                                                                                                                                                             2\n",
              "While holidaying in the French Alps, a Swedish family deals with acts of cowardliness as an avalanche breaks out.                                                                                                                                                                                                                                                                                                                                                                                                                                                                                                                                                                                                                                                                                                                                                          2\n",
              "When four women move into an old house left by one woman's aunt, strange things begin to happen. Bizarre voices, visions of ghosts, and mysterious noises lead them to discover the darkest powers of evil and a horror and agony beyond terror.                                                                                                                                                                                                                                                                                                                                                                                                                                                                                                                                                                                                                           2\n",
              "More than two decades after catapulting to stardom with The Princess Bride, an aging actress (Robin Wright, playing a version of herself) decides to take her final job: preserving her digital likeness for a future Hollywood. Through a deal brokered by her loyal, longtime agent and the head of Miramount Studios, her alias will be controlled by the studio, and will star in any film they want with no restrictions. In return, she receives healthy compensation so she can care for her ailing son and her digitized character will stay forever young. Twenty years later, under the creative vision of the studio’s head animator, Wright’s digital double rises to immortal stardom. With her contract expiring, she is invited to take part in “The Congress” convention as she makes her comeback straight into the world of future fantasy cinema.       2\n",
              "Originally called White Thunder, American producer Varick Frissell's 1931 film was inspired by his love for the Canadian Arctic Circle. Set in a beautifully black-and-white filmed Newfoundland, it is the story of a rivalry between two seal hunters that plays out on the ice floes during a hunt. Unsatisfied with the first cut, Frissell arranged for the crew to accompany an actual Newfoundland seal hunt on The SS Viking, on which an explosion of dynamite (carried regularly at the time on Arctic ships to combat ice jams) killed many members of the crew, including Frissell. The film was renamed in honor of the dead.                                                                                                                                                                                                                                 2\n",
              "Name: overview, dtype: int64"
            ]
          },
          "metadata": {},
          "execution_count": 392
        }
      ]
    },
    {
      "cell_type": "code",
      "metadata": {
        "colab": {
          "base_uri": "https://localhost:8080/"
        },
        "id": "JwilaqPKTh_Y",
        "outputId": "b052a708-75b1-451a-8172-75800624004b"
      },
      "source": [
        "#tagline\n",
        "df.tagline.value_counts(dropna=False).head(20)"
      ],
      "execution_count": 393,
      "outputs": [
        {
          "output_type": "execute_result",
          "data": {
            "text/plain": [
              "NaN                                                           25054\n",
              "Based on a true story.                                            7\n",
              "Trust no one.                                                     4\n",
              "-                                                                 4\n",
              "Be careful what you wish for.                                     4\n",
              "There are two sides to every love story.                          3\n",
              "Know Your Enemy                                                   3\n",
              "Who is John Galt?                                                 3\n",
              "Classic Albums                                                    3\n",
              "There is no turning back                                          3\n",
              "Some doors should never be opened.                                3\n",
              "How far would you go?                                             3\n",
              "Documentary                                                       3\n",
              "Which one is the first to return - memory or the murderer?        3\n",
              "A Love Story                                                      3\n",
              "Drama                                                             3\n",
              "The end is near.                                                  3\n",
              "A terrifying love story.                                          2\n",
              "Fake it 'til you make it.                                         2\n",
              "There's one in all of us.                                         2\n",
              "Name: tagline, dtype: int64"
            ]
          },
          "metadata": {},
          "execution_count": 393
        }
      ]
    },
    {
      "cell_type": "code",
      "metadata": {
        "id": "LpTmmpXjUgha"
      },
      "source": [
        "df.tagline.replace('-', np.nan, inplace=True)"
      ],
      "execution_count": 394,
      "outputs": []
    },
    {
      "cell_type": "markdown",
      "metadata": {
        "id": "x0pYRAeYUzr8"
      },
      "source": [
        "- Removing Duplicates"
      ]
    },
    {
      "cell_type": "code",
      "metadata": {
        "colab": {
          "base_uri": "https://localhost:8080/",
          "height": 1000
        },
        "id": "xwgCq5seUs1G",
        "outputId": "f5771e65-18fd-43b1-f560-11bee39f97da"
      },
      "source": [
        "#Check duplicates\n",
        "df[df.duplicated(keep=False)].sort_values(by='id')"
      ],
      "execution_count": 395,
      "outputs": [
        {
          "output_type": "execute_result",
          "data": {
            "text/html": [
              "<div>\n",
              "<style scoped>\n",
              "    .dataframe tbody tr th:only-of-type {\n",
              "        vertical-align: middle;\n",
              "    }\n",
              "\n",
              "    .dataframe tbody tr th {\n",
              "        vertical-align: top;\n",
              "    }\n",
              "\n",
              "    .dataframe thead th {\n",
              "        text-align: right;\n",
              "    }\n",
              "</style>\n",
              "<table border=\"1\" class=\"dataframe\">\n",
              "  <thead>\n",
              "    <tr style=\"text-align: right;\">\n",
              "      <th></th>\n",
              "      <th>belongs_to_collection</th>\n",
              "      <th>budget_musd</th>\n",
              "      <th>genres</th>\n",
              "      <th>id</th>\n",
              "      <th>original_language</th>\n",
              "      <th>overview</th>\n",
              "      <th>popularity</th>\n",
              "      <th>poster_path</th>\n",
              "      <th>production_companies</th>\n",
              "      <th>production_countries</th>\n",
              "      <th>release_date</th>\n",
              "      <th>revenue_musd</th>\n",
              "      <th>runtime</th>\n",
              "      <th>spoken_languages</th>\n",
              "      <th>status</th>\n",
              "      <th>tagline</th>\n",
              "      <th>title</th>\n",
              "      <th>vote_average</th>\n",
              "      <th>vote_count</th>\n",
              "    </tr>\n",
              "  </thead>\n",
              "  <tbody>\n",
              "    <tr>\n",
              "      <th>7345</th>\n",
              "      <td>NaN</td>\n",
              "      <td>NaN</td>\n",
              "      <td>[{'id': 80, 'name': 'Crime'}, {'id': 18, 'name...</td>\n",
              "      <td>5511.0</td>\n",
              "      <td>fr</td>\n",
              "      <td>Hitman Jef Costello is a perfectionist who alw...</td>\n",
              "      <td>9.091288</td>\n",
              "      <td>/cvNW8IXigbaMNo4gKEIps0NGnhA.jpg</td>\n",
              "      <td>Fida cinematografica|Compagnie Industrielle et...</td>\n",
              "      <td>NaN</td>\n",
              "      <td>1967-10-25</td>\n",
              "      <td>0.039481</td>\n",
              "      <td>105.0</td>\n",
              "      <td>Français</td>\n",
              "      <td>Released</td>\n",
              "      <td>There is no solitude greater than that of the ...</td>\n",
              "      <td>Le Samouraï</td>\n",
              "      <td>7.9</td>\n",
              "      <td>187.0</td>\n",
              "    </tr>\n",
              "    <tr>\n",
              "      <th>9165</th>\n",
              "      <td>NaN</td>\n",
              "      <td>NaN</td>\n",
              "      <td>[{'id': 80, 'name': 'Crime'}, {'id': 18, 'name...</td>\n",
              "      <td>5511.0</td>\n",
              "      <td>fr</td>\n",
              "      <td>Hitman Jef Costello is a perfectionist who alw...</td>\n",
              "      <td>9.091288</td>\n",
              "      <td>/cvNW8IXigbaMNo4gKEIps0NGnhA.jpg</td>\n",
              "      <td>Fida cinematografica|Compagnie Industrielle et...</td>\n",
              "      <td>NaN</td>\n",
              "      <td>1967-10-25</td>\n",
              "      <td>0.039481</td>\n",
              "      <td>105.0</td>\n",
              "      <td>Français</td>\n",
              "      <td>Released</td>\n",
              "      <td>There is no solitude greater than that of the ...</td>\n",
              "      <td>Le Samouraï</td>\n",
              "      <td>7.9</td>\n",
              "      <td>187.0</td>\n",
              "    </tr>\n",
              "    <tr>\n",
              "      <th>24844</th>\n",
              "      <td>NaN</td>\n",
              "      <td>NaN</td>\n",
              "      <td>[{'id': 35, 'name': 'Comedy'}, {'id': 18, 'nam...</td>\n",
              "      <td>11115.0</td>\n",
              "      <td>en</td>\n",
              "      <td>As an ex-gambler teaches a hot-shot college ki...</td>\n",
              "      <td>6.880365</td>\n",
              "      <td>/kHaBqrrozaG7rj6GJg3sUCiM29B.jpg</td>\n",
              "      <td>Andertainment Group|Crescent City Pictures|Tag...</td>\n",
              "      <td>NaN</td>\n",
              "      <td>2008-01-29</td>\n",
              "      <td>NaN</td>\n",
              "      <td>85.0</td>\n",
              "      <td>English</td>\n",
              "      <td>Released</td>\n",
              "      <td>NaN</td>\n",
              "      <td>Deal</td>\n",
              "      <td>5.2</td>\n",
              "      <td>22.0</td>\n",
              "    </tr>\n",
              "    <tr>\n",
              "      <th>14012</th>\n",
              "      <td>NaN</td>\n",
              "      <td>NaN</td>\n",
              "      <td>[{'id': 35, 'name': 'Comedy'}, {'id': 18, 'nam...</td>\n",
              "      <td>11115.0</td>\n",
              "      <td>en</td>\n",
              "      <td>As an ex-gambler teaches a hot-shot college ki...</td>\n",
              "      <td>6.880365</td>\n",
              "      <td>/kHaBqrrozaG7rj6GJg3sUCiM29B.jpg</td>\n",
              "      <td>Andertainment Group|Crescent City Pictures|Tag...</td>\n",
              "      <td>NaN</td>\n",
              "      <td>2008-01-29</td>\n",
              "      <td>NaN</td>\n",
              "      <td>85.0</td>\n",
              "      <td>English</td>\n",
              "      <td>Released</td>\n",
              "      <td>NaN</td>\n",
              "      <td>Deal</td>\n",
              "      <td>5.2</td>\n",
              "      <td>22.0</td>\n",
              "    </tr>\n",
              "    <tr>\n",
              "      <th>22151</th>\n",
              "      <td>NaN</td>\n",
              "      <td>NaN</td>\n",
              "      <td>[{'id': 28, 'name': 'Action'}, {'id': 27, 'nam...</td>\n",
              "      <td>18440.0</td>\n",
              "      <td>en</td>\n",
              "      <td>When a comet strikes Earth and kicks up a clou...</td>\n",
              "      <td>1.436085</td>\n",
              "      <td>/tWCyKXHuSrQdLAvNeeVJBnhf1Yv.jpg</td>\n",
              "      <td>NaN</td>\n",
              "      <td>NaN</td>\n",
              "      <td>2007-01-01</td>\n",
              "      <td>NaN</td>\n",
              "      <td>89.0</td>\n",
              "      <td>English</td>\n",
              "      <td>Released</td>\n",
              "      <td>NaN</td>\n",
              "      <td>Days of Darkness</td>\n",
              "      <td>5.0</td>\n",
              "      <td>5.0</td>\n",
              "    </tr>\n",
              "    <tr>\n",
              "      <th>14000</th>\n",
              "      <td>NaN</td>\n",
              "      <td>NaN</td>\n",
              "      <td>[{'id': 28, 'name': 'Action'}, {'id': 27, 'nam...</td>\n",
              "      <td>18440.0</td>\n",
              "      <td>en</td>\n",
              "      <td>When a comet strikes Earth and kicks up a clou...</td>\n",
              "      <td>1.436085</td>\n",
              "      <td>/tWCyKXHuSrQdLAvNeeVJBnhf1Yv.jpg</td>\n",
              "      <td>NaN</td>\n",
              "      <td>NaN</td>\n",
              "      <td>2007-01-01</td>\n",
              "      <td>NaN</td>\n",
              "      <td>89.0</td>\n",
              "      <td>English</td>\n",
              "      <td>Released</td>\n",
              "      <td>NaN</td>\n",
              "      <td>Days of Darkness</td>\n",
              "      <td>5.0</td>\n",
              "      <td>5.0</td>\n",
              "    </tr>\n",
              "    <tr>\n",
              "      <th>8068</th>\n",
              "      <td>NaN</td>\n",
              "      <td>NaN</td>\n",
              "      <td>[{'id': 12, 'name': 'Adventure'}, {'id': 16, '...</td>\n",
              "      <td>23305.0</td>\n",
              "      <td>en</td>\n",
              "      <td>In feudal India, a warrior (Khan) who renounce...</td>\n",
              "      <td>1.967992</td>\n",
              "      <td>/9GlrmbZO7VGyqhaSR1utinRJz3L.jpg</td>\n",
              "      <td>Filmfour</td>\n",
              "      <td>NaN</td>\n",
              "      <td>2001-09-23</td>\n",
              "      <td>NaN</td>\n",
              "      <td>86.0</td>\n",
              "      <td>हिन्दी</td>\n",
              "      <td>Released</td>\n",
              "      <td>NaN</td>\n",
              "      <td>The Warrior</td>\n",
              "      <td>6.3</td>\n",
              "      <td>15.0</td>\n",
              "    </tr>\n",
              "    <tr>\n",
              "      <th>9327</th>\n",
              "      <td>NaN</td>\n",
              "      <td>NaN</td>\n",
              "      <td>[{'id': 12, 'name': 'Adventure'}, {'id': 16, '...</td>\n",
              "      <td>23305.0</td>\n",
              "      <td>en</td>\n",
              "      <td>In feudal India, a warrior (Khan) who renounce...</td>\n",
              "      <td>1.967992</td>\n",
              "      <td>/9GlrmbZO7VGyqhaSR1utinRJz3L.jpg</td>\n",
              "      <td>Filmfour</td>\n",
              "      <td>NaN</td>\n",
              "      <td>2001-09-23</td>\n",
              "      <td>NaN</td>\n",
              "      <td>86.0</td>\n",
              "      <td>हिन्दी</td>\n",
              "      <td>Released</td>\n",
              "      <td>NaN</td>\n",
              "      <td>The Warrior</td>\n",
              "      <td>6.3</td>\n",
              "      <td>15.0</td>\n",
              "    </tr>\n",
              "    <tr>\n",
              "      <th>17229</th>\n",
              "      <td>NaN</td>\n",
              "      <td>NaN</td>\n",
              "      <td>[{'id': 18, 'name': 'Drama'}]</td>\n",
              "      <td>25541.0</td>\n",
              "      <td>da</td>\n",
              "      <td>Former Danish servicemen Lars and Jimmy are th...</td>\n",
              "      <td>2.587911</td>\n",
              "      <td>/q19Q5BRZpMXoNCA4OYodVozfjUh.jpg</td>\n",
              "      <td>NaN</td>\n",
              "      <td>NaN</td>\n",
              "      <td>2009-10-21</td>\n",
              "      <td>NaN</td>\n",
              "      <td>90.0</td>\n",
              "      <td>Dansk</td>\n",
              "      <td>Released</td>\n",
              "      <td>NaN</td>\n",
              "      <td>Brotherhood</td>\n",
              "      <td>7.1</td>\n",
              "      <td>21.0</td>\n",
              "    </tr>\n",
              "    <tr>\n",
              "      <th>23044</th>\n",
              "      <td>NaN</td>\n",
              "      <td>NaN</td>\n",
              "      <td>[{'id': 18, 'name': 'Drama'}]</td>\n",
              "      <td>25541.0</td>\n",
              "      <td>da</td>\n",
              "      <td>Former Danish servicemen Lars and Jimmy are th...</td>\n",
              "      <td>2.587911</td>\n",
              "      <td>/q19Q5BRZpMXoNCA4OYodVozfjUh.jpg</td>\n",
              "      <td>NaN</td>\n",
              "      <td>NaN</td>\n",
              "      <td>2009-10-21</td>\n",
              "      <td>NaN</td>\n",
              "      <td>90.0</td>\n",
              "      <td>Dansk</td>\n",
              "      <td>Released</td>\n",
              "      <td>NaN</td>\n",
              "      <td>Brotherhood</td>\n",
              "      <td>7.1</td>\n",
              "      <td>21.0</td>\n",
              "    </tr>\n",
              "    <tr>\n",
              "      <th>29374</th>\n",
              "      <td>NaN</td>\n",
              "      <td>NaN</td>\n",
              "      <td>[{'id': 18, 'name': 'Drama'}, {'id': 10769, 'n...</td>\n",
              "      <td>42495.0</td>\n",
              "      <td>en</td>\n",
              "      <td>King Lear, old and tired, divides his kingdom ...</td>\n",
              "      <td>0.187901</td>\n",
              "      <td>/xuE1IlUCohbxMY0fiqKTT6d013n.jpg</td>\n",
              "      <td>Royal Shakespeare Company|Laterna Film|Athena ...</td>\n",
              "      <td>NaN</td>\n",
              "      <td>1971-02-04</td>\n",
              "      <td>NaN</td>\n",
              "      <td>137.0</td>\n",
              "      <td>English</td>\n",
              "      <td>Rumored</td>\n",
              "      <td>NaN</td>\n",
              "      <td>King Lear</td>\n",
              "      <td>8.0</td>\n",
              "      <td>3.0</td>\n",
              "    </tr>\n",
              "    <tr>\n",
              "      <th>15702</th>\n",
              "      <td>NaN</td>\n",
              "      <td>NaN</td>\n",
              "      <td>[{'id': 18, 'name': 'Drama'}, {'id': 10769, 'n...</td>\n",
              "      <td>42495.0</td>\n",
              "      <td>en</td>\n",
              "      <td>King Lear, old and tired, divides his kingdom ...</td>\n",
              "      <td>0.187901</td>\n",
              "      <td>/xuE1IlUCohbxMY0fiqKTT6d013n.jpg</td>\n",
              "      <td>Royal Shakespeare Company|Laterna Film|Athena ...</td>\n",
              "      <td>NaN</td>\n",
              "      <td>1971-02-04</td>\n",
              "      <td>NaN</td>\n",
              "      <td>137.0</td>\n",
              "      <td>English</td>\n",
              "      <td>Rumored</td>\n",
              "      <td>NaN</td>\n",
              "      <td>King Lear</td>\n",
              "      <td>8.0</td>\n",
              "      <td>3.0</td>\n",
              "    </tr>\n",
              "    <tr>\n",
              "      <th>13946</th>\n",
              "      <td>NaN</td>\n",
              "      <td>NaN</td>\n",
              "      <td>[{'id': 35, 'name': 'Comedy'}]</td>\n",
              "      <td>97995.0</td>\n",
              "      <td>en</td>\n",
              "      <td>After breaking a mirror in his home, superstit...</td>\n",
              "      <td>0.141558</td>\n",
              "      <td>/4J6Ai4C5YRgfRUTlirrJ7QsmJKU.jpg</td>\n",
              "      <td>Max Linder Productions</td>\n",
              "      <td>NaN</td>\n",
              "      <td>1921-02-06</td>\n",
              "      <td>NaN</td>\n",
              "      <td>62.0</td>\n",
              "      <td>English</td>\n",
              "      <td>Released</td>\n",
              "      <td>NaN</td>\n",
              "      <td>Seven Years Bad Luck</td>\n",
              "      <td>5.6</td>\n",
              "      <td>4.0</td>\n",
              "    </tr>\n",
              "    <tr>\n",
              "      <th>40276</th>\n",
              "      <td>NaN</td>\n",
              "      <td>NaN</td>\n",
              "      <td>[{'id': 35, 'name': 'Comedy'}]</td>\n",
              "      <td>97995.0</td>\n",
              "      <td>en</td>\n",
              "      <td>After breaking a mirror in his home, superstit...</td>\n",
              "      <td>0.141558</td>\n",
              "      <td>/4J6Ai4C5YRgfRUTlirrJ7QsmJKU.jpg</td>\n",
              "      <td>Max Linder Productions</td>\n",
              "      <td>NaN</td>\n",
              "      <td>1921-02-06</td>\n",
              "      <td>NaN</td>\n",
              "      <td>62.0</td>\n",
              "      <td>English</td>\n",
              "      <td>Released</td>\n",
              "      <td>NaN</td>\n",
              "      <td>Seven Years Bad Luck</td>\n",
              "      <td>5.6</td>\n",
              "      <td>4.0</td>\n",
              "    </tr>\n",
              "    <tr>\n",
              "      <th>38871</th>\n",
              "      <td>NaN</td>\n",
              "      <td>NaN</td>\n",
              "      <td>[{'id': 28, 'name': 'Action'}, {'id': 18, 'nam...</td>\n",
              "      <td>99080.0</td>\n",
              "      <td>en</td>\n",
              "      <td>Originally called White Thunder, American prod...</td>\n",
              "      <td>0.002362</td>\n",
              "      <td>/qenjwRvW9itR5pVp4CBkYfhVAOp.jpg</td>\n",
              "      <td>NaN</td>\n",
              "      <td>NaN</td>\n",
              "      <td>1931-06-21</td>\n",
              "      <td>NaN</td>\n",
              "      <td>70.0</td>\n",
              "      <td>English</td>\n",
              "      <td>Released</td>\n",
              "      <td>Actually produced during the Great Newfoundlan...</td>\n",
              "      <td>The Viking</td>\n",
              "      <td>NaN</td>\n",
              "      <td>0.0</td>\n",
              "    </tr>\n",
              "    <tr>\n",
              "      <th>16167</th>\n",
              "      <td>NaN</td>\n",
              "      <td>NaN</td>\n",
              "      <td>[{'id': 28, 'name': 'Action'}, {'id': 18, 'nam...</td>\n",
              "      <td>99080.0</td>\n",
              "      <td>en</td>\n",
              "      <td>Originally called White Thunder, American prod...</td>\n",
              "      <td>0.002362</td>\n",
              "      <td>/qenjwRvW9itR5pVp4CBkYfhVAOp.jpg</td>\n",
              "      <td>NaN</td>\n",
              "      <td>NaN</td>\n",
              "      <td>1931-06-21</td>\n",
              "      <td>NaN</td>\n",
              "      <td>70.0</td>\n",
              "      <td>English</td>\n",
              "      <td>Released</td>\n",
              "      <td>Actually produced during the Great Newfoundlan...</td>\n",
              "      <td>The Viking</td>\n",
              "      <td>NaN</td>\n",
              "      <td>0.0</td>\n",
              "    </tr>\n",
              "    <tr>\n",
              "      <th>676</th>\n",
              "      <td>NaN</td>\n",
              "      <td>NaN</td>\n",
              "      <td>[{'id': 18, 'name': 'Drama'}, {'id': 10749, 'n...</td>\n",
              "      <td>105045.0</td>\n",
              "      <td>de</td>\n",
              "      <td>East-Berlin, 1961, shortly after the erection ...</td>\n",
              "      <td>0.122178</td>\n",
              "      <td>/5WFIrBhOOgc0jGmoLxMZwWqCctO.jpg</td>\n",
              "      <td>Studio Babelsberg|Centre National de la Cinéma...</td>\n",
              "      <td>NaN</td>\n",
              "      <td>1995-02-16</td>\n",
              "      <td>NaN</td>\n",
              "      <td>115.0</td>\n",
              "      <td>Deutsch</td>\n",
              "      <td>Released</td>\n",
              "      <td>A love, a hope, a wall.</td>\n",
              "      <td>The Promise</td>\n",
              "      <td>5.0</td>\n",
              "      <td>1.0</td>\n",
              "    </tr>\n",
              "    <tr>\n",
              "      <th>1465</th>\n",
              "      <td>NaN</td>\n",
              "      <td>NaN</td>\n",
              "      <td>[{'id': 18, 'name': 'Drama'}, {'id': 10749, 'n...</td>\n",
              "      <td>105045.0</td>\n",
              "      <td>de</td>\n",
              "      <td>East-Berlin, 1961, shortly after the erection ...</td>\n",
              "      <td>0.122178</td>\n",
              "      <td>/5WFIrBhOOgc0jGmoLxMZwWqCctO.jpg</td>\n",
              "      <td>Studio Babelsberg|Centre National de la Cinéma...</td>\n",
              "      <td>NaN</td>\n",
              "      <td>1995-02-16</td>\n",
              "      <td>NaN</td>\n",
              "      <td>115.0</td>\n",
              "      <td>Deutsch</td>\n",
              "      <td>Released</td>\n",
              "      <td>A love, a hope, a wall.</td>\n",
              "      <td>The Promise</td>\n",
              "      <td>5.0</td>\n",
              "      <td>1.0</td>\n",
              "    </tr>\n",
              "    <tr>\n",
              "      <th>19890</th>\n",
              "      <td>NaN</td>\n",
              "      <td>NaN</td>\n",
              "      <td>[{'id': 14, 'name': 'Fantasy'}, {'id': 18, 'na...</td>\n",
              "      <td>119916.0</td>\n",
              "      <td>en</td>\n",
              "      <td>Prospero, the true Duke of Milan is now living...</td>\n",
              "      <td>0.000018</td>\n",
              "      <td>/gLVRTxaLtUDkfscFKPyYrCtRnTk.jpg</td>\n",
              "      <td>NaN</td>\n",
              "      <td>NaN</td>\n",
              "      <td>1980-02-27</td>\n",
              "      <td>NaN</td>\n",
              "      <td>123.0</td>\n",
              "      <td>NaN</td>\n",
              "      <td>Released</td>\n",
              "      <td>NaN</td>\n",
              "      <td>The Tempest</td>\n",
              "      <td>NaN</td>\n",
              "      <td>0.0</td>\n",
              "    </tr>\n",
              "    <tr>\n",
              "      <th>21165</th>\n",
              "      <td>NaN</td>\n",
              "      <td>NaN</td>\n",
              "      <td>[{'id': 14, 'name': 'Fantasy'}, {'id': 18, 'na...</td>\n",
              "      <td>119916.0</td>\n",
              "      <td>en</td>\n",
              "      <td>Prospero, the true Duke of Milan is now living...</td>\n",
              "      <td>0.000018</td>\n",
              "      <td>/gLVRTxaLtUDkfscFKPyYrCtRnTk.jpg</td>\n",
              "      <td>NaN</td>\n",
              "      <td>NaN</td>\n",
              "      <td>1980-02-27</td>\n",
              "      <td>NaN</td>\n",
              "      <td>123.0</td>\n",
              "      <td>NaN</td>\n",
              "      <td>Released</td>\n",
              "      <td>NaN</td>\n",
              "      <td>The Tempest</td>\n",
              "      <td>NaN</td>\n",
              "      <td>0.0</td>\n",
              "    </tr>\n",
              "    <tr>\n",
              "      <th>13375</th>\n",
              "      <td>NaN</td>\n",
              "      <td>NaN</td>\n",
              "      <td>[{'id': 53, 'name': 'Thriller'}, {'id': 9648, ...</td>\n",
              "      <td>141971.0</td>\n",
              "      <td>fi</td>\n",
              "      <td>Recovering from a nail gun shot to the head an...</td>\n",
              "      <td>0.411949</td>\n",
              "      <td>/8VSZ9coCzxOCW2wE2Qene1H1fKO.jpg</td>\n",
              "      <td>Filmiteollisuus Fine</td>\n",
              "      <td>NaN</td>\n",
              "      <td>2008-12-26</td>\n",
              "      <td>NaN</td>\n",
              "      <td>108.0</td>\n",
              "      <td>suomi</td>\n",
              "      <td>Released</td>\n",
              "      <td>Which one is the first to return - memory or t...</td>\n",
              "      <td>Blackout</td>\n",
              "      <td>6.7</td>\n",
              "      <td>3.0</td>\n",
              "    </tr>\n",
              "    <tr>\n",
              "      <th>13261</th>\n",
              "      <td>NaN</td>\n",
              "      <td>NaN</td>\n",
              "      <td>[{'id': 53, 'name': 'Thriller'}, {'id': 9648, ...</td>\n",
              "      <td>141971.0</td>\n",
              "      <td>fi</td>\n",
              "      <td>Recovering from a nail gun shot to the head an...</td>\n",
              "      <td>0.411949</td>\n",
              "      <td>/8VSZ9coCzxOCW2wE2Qene1H1fKO.jpg</td>\n",
              "      <td>Filmiteollisuus Fine</td>\n",
              "      <td>NaN</td>\n",
              "      <td>2008-12-26</td>\n",
              "      <td>NaN</td>\n",
              "      <td>108.0</td>\n",
              "      <td>suomi</td>\n",
              "      <td>Released</td>\n",
              "      <td>Which one is the first to return - memory or t...</td>\n",
              "      <td>Blackout</td>\n",
              "      <td>6.7</td>\n",
              "      <td>3.0</td>\n",
              "    </tr>\n",
              "    <tr>\n",
              "      <th>16764</th>\n",
              "      <td>NaN</td>\n",
              "      <td>NaN</td>\n",
              "      <td>[{'id': 53, 'name': 'Thriller'}, {'id': 9648, ...</td>\n",
              "      <td>141971.0</td>\n",
              "      <td>fi</td>\n",
              "      <td>Recovering from a nail gun shot to the head an...</td>\n",
              "      <td>0.411949</td>\n",
              "      <td>/8VSZ9coCzxOCW2wE2Qene1H1fKO.jpg</td>\n",
              "      <td>Filmiteollisuus Fine</td>\n",
              "      <td>NaN</td>\n",
              "      <td>2008-12-26</td>\n",
              "      <td>NaN</td>\n",
              "      <td>108.0</td>\n",
              "      <td>suomi</td>\n",
              "      <td>Released</td>\n",
              "      <td>Which one is the first to return - memory or t...</td>\n",
              "      <td>Blackout</td>\n",
              "      <td>6.7</td>\n",
              "      <td>3.0</td>\n",
              "    </tr>\n",
              "    <tr>\n",
              "      <th>19925</th>\n",
              "      <td>NaN</td>\n",
              "      <td>NaN</td>\n",
              "      <td>[{'id': 18, 'name': 'Drama'}, {'id': 878, 'nam...</td>\n",
              "      <td>152795.0</td>\n",
              "      <td>en</td>\n",
              "      <td>More than two decades after catapulting to sta...</td>\n",
              "      <td>8.534039</td>\n",
              "      <td>/nnKX3ahYoT7P3au92dNgLf4pKwA.jpg</td>\n",
              "      <td>Pandora Filmproduktion|Entre Chien et Loup|Opu...</td>\n",
              "      <td>NaN</td>\n",
              "      <td>2013-05-16</td>\n",
              "      <td>0.455815</td>\n",
              "      <td>122.0</td>\n",
              "      <td>English</td>\n",
              "      <td>Released</td>\n",
              "      <td>NaN</td>\n",
              "      <td>The Congress</td>\n",
              "      <td>6.4</td>\n",
              "      <td>165.0</td>\n",
              "    </tr>\n",
              "    <tr>\n",
              "      <th>21854</th>\n",
              "      <td>NaN</td>\n",
              "      <td>NaN</td>\n",
              "      <td>[{'id': 18, 'name': 'Drama'}, {'id': 878, 'nam...</td>\n",
              "      <td>152795.0</td>\n",
              "      <td>en</td>\n",
              "      <td>More than two decades after catapulting to sta...</td>\n",
              "      <td>8.534039</td>\n",
              "      <td>/nnKX3ahYoT7P3au92dNgLf4pKwA.jpg</td>\n",
              "      <td>Pandora Filmproduktion|Entre Chien et Loup|Opu...</td>\n",
              "      <td>NaN</td>\n",
              "      <td>2013-05-16</td>\n",
              "      <td>0.455815</td>\n",
              "      <td>122.0</td>\n",
              "      <td>English</td>\n",
              "      <td>Released</td>\n",
              "      <td>NaN</td>\n",
              "      <td>The Congress</td>\n",
              "      <td>6.4</td>\n",
              "      <td>165.0</td>\n",
              "    </tr>\n",
              "    <tr>\n",
              "      <th>13220</th>\n",
              "      <td>Why We Fight</td>\n",
              "      <td>NaN</td>\n",
              "      <td>[{'id': 99, 'name': 'Documentary'}]</td>\n",
              "      <td>159849.0</td>\n",
              "      <td>en</td>\n",
              "      <td>The third film of Frank Capra's 'Why We Fight\"...</td>\n",
              "      <td>0.473322</td>\n",
              "      <td>/g21ruZZ3BZeUDuKMb82kejjtufk.jpg</td>\n",
              "      <td>NaN</td>\n",
              "      <td>NaN</td>\n",
              "      <td>1943-01-01</td>\n",
              "      <td>NaN</td>\n",
              "      <td>57.0</td>\n",
              "      <td>English</td>\n",
              "      <td>Released</td>\n",
              "      <td>NaN</td>\n",
              "      <td>Why We Fight: Divide and Conquer</td>\n",
              "      <td>5.0</td>\n",
              "      <td>1.0</td>\n",
              "    </tr>\n",
              "    <tr>\n",
              "      <th>35798</th>\n",
              "      <td>Why We Fight</td>\n",
              "      <td>NaN</td>\n",
              "      <td>[{'id': 99, 'name': 'Documentary'}]</td>\n",
              "      <td>159849.0</td>\n",
              "      <td>en</td>\n",
              "      <td>The third film of Frank Capra's 'Why We Fight\"...</td>\n",
              "      <td>0.473322</td>\n",
              "      <td>/g21ruZZ3BZeUDuKMb82kejjtufk.jpg</td>\n",
              "      <td>NaN</td>\n",
              "      <td>NaN</td>\n",
              "      <td>1943-01-01</td>\n",
              "      <td>NaN</td>\n",
              "      <td>57.0</td>\n",
              "      <td>English</td>\n",
              "      <td>Released</td>\n",
              "      <td>NaN</td>\n",
              "      <td>Why We Fight: Divide and Conquer</td>\n",
              "      <td>5.0</td>\n",
              "      <td>1.0</td>\n",
              "    </tr>\n",
              "    <tr>\n",
              "      <th>13603</th>\n",
              "      <td>NaN</td>\n",
              "      <td>NaN</td>\n",
              "      <td>[{'id': 18, 'name': 'Drama'}, {'id': 35, 'name...</td>\n",
              "      <td>168538.0</td>\n",
              "      <td>en</td>\n",
              "      <td>In Zola's Paris, an ingenue arrives at a tony ...</td>\n",
              "      <td>1.276602</td>\n",
              "      <td>/pg4PUHRFrgNfACHSh5MITQ2gYch.jpg</td>\n",
              "      <td>Cannon Group|Metro-Goldwyn-Mayer (MGM)</td>\n",
              "      <td>NaN</td>\n",
              "      <td>1983-06-13</td>\n",
              "      <td>NaN</td>\n",
              "      <td>92.0</td>\n",
              "      <td>NaN</td>\n",
              "      <td>Released</td>\n",
              "      <td>NaN</td>\n",
              "      <td>Nana, the True Key of Pleasure</td>\n",
              "      <td>4.7</td>\n",
              "      <td>3.0</td>\n",
              "    </tr>\n",
              "    <tr>\n",
              "      <th>28860</th>\n",
              "      <td>NaN</td>\n",
              "      <td>NaN</td>\n",
              "      <td>[{'id': 18, 'name': 'Drama'}, {'id': 35, 'name...</td>\n",
              "      <td>168538.0</td>\n",
              "      <td>en</td>\n",
              "      <td>In Zola's Paris, an ingenue arrives at a tony ...</td>\n",
              "      <td>1.276602</td>\n",
              "      <td>/pg4PUHRFrgNfACHSh5MITQ2gYch.jpg</td>\n",
              "      <td>Cannon Group|Metro-Goldwyn-Mayer (MGM)</td>\n",
              "      <td>NaN</td>\n",
              "      <td>1983-06-13</td>\n",
              "      <td>NaN</td>\n",
              "      <td>92.0</td>\n",
              "      <td>NaN</td>\n",
              "      <td>Released</td>\n",
              "      <td>NaN</td>\n",
              "      <td>Nana, the True Key of Pleasure</td>\n",
              "      <td>4.7</td>\n",
              "      <td>3.0</td>\n",
              "    </tr>\n",
              "    <tr>\n",
              "      <th>24164</th>\n",
              "      <td>NaN</td>\n",
              "      <td>NaN</td>\n",
              "      <td>[{'id': 35, 'name': 'Comedy'}, {'id': 18, 'nam...</td>\n",
              "      <td>265189.0</td>\n",
              "      <td>sv</td>\n",
              "      <td>While holidaying in the French Alps, a Swedish...</td>\n",
              "      <td>12.165685</td>\n",
              "      <td>/rGMtc9AtZsnWSSL5VnLaGvx1PI6.jpg</td>\n",
              "      <td>Motlys|Coproduction Office|Film i Väst</td>\n",
              "      <td>NaN</td>\n",
              "      <td>2014-08-15</td>\n",
              "      <td>1.359497</td>\n",
              "      <td>118.0</td>\n",
              "      <td>Français|Norsk|svenska|English</td>\n",
              "      <td>Released</td>\n",
              "      <td>NaN</td>\n",
              "      <td>Force Majeure</td>\n",
              "      <td>6.8</td>\n",
              "      <td>255.0</td>\n",
              "    </tr>\n",
              "    <tr>\n",
              "      <th>45265</th>\n",
              "      <td>NaN</td>\n",
              "      <td>NaN</td>\n",
              "      <td>[{'id': 35, 'name': 'Comedy'}, {'id': 18, 'nam...</td>\n",
              "      <td>265189.0</td>\n",
              "      <td>sv</td>\n",
              "      <td>While holidaying in the French Alps, a Swedish...</td>\n",
              "      <td>12.165685</td>\n",
              "      <td>/rGMtc9AtZsnWSSL5VnLaGvx1PI6.jpg</td>\n",
              "      <td>Motlys|Coproduction Office|Film i Väst</td>\n",
              "      <td>NaN</td>\n",
              "      <td>2014-08-15</td>\n",
              "      <td>1.359497</td>\n",
              "      <td>118.0</td>\n",
              "      <td>Français|Norsk|svenska|English</td>\n",
              "      <td>Released</td>\n",
              "      <td>NaN</td>\n",
              "      <td>Force Majeure</td>\n",
              "      <td>6.8</td>\n",
              "      <td>255.0</td>\n",
              "    </tr>\n",
              "    <tr>\n",
              "      <th>33184</th>\n",
              "      <td>NaN</td>\n",
              "      <td>0.98</td>\n",
              "      <td>[{'id': 18, 'name': 'Drama'}, {'id': 14, 'name...</td>\n",
              "      <td>298721.0</td>\n",
              "      <td>th</td>\n",
              "      <td>In a hospital, ten soldiers are being treated ...</td>\n",
              "      <td>2.535419</td>\n",
              "      <td>/5GasjPRAy5rlEyDOH7MeOyxyQGX.jpg</td>\n",
              "      <td>Match Factory, The|Louverture Films|Tordenfilm...</td>\n",
              "      <td>NaN</td>\n",
              "      <td>2015-09-02</td>\n",
              "      <td>NaN</td>\n",
              "      <td>122.0</td>\n",
              "      <td>English|ภาษาไทย</td>\n",
              "      <td>Released</td>\n",
              "      <td>NaN</td>\n",
              "      <td>Cemetery of Splendour</td>\n",
              "      <td>4.4</td>\n",
              "      <td>50.0</td>\n",
              "    </tr>\n",
              "    <tr>\n",
              "      <th>40040</th>\n",
              "      <td>NaN</td>\n",
              "      <td>0.98</td>\n",
              "      <td>[{'id': 18, 'name': 'Drama'}, {'id': 14, 'name...</td>\n",
              "      <td>298721.0</td>\n",
              "      <td>th</td>\n",
              "      <td>In a hospital, ten soldiers are being treated ...</td>\n",
              "      <td>2.535419</td>\n",
              "      <td>/5GasjPRAy5rlEyDOH7MeOyxyQGX.jpg</td>\n",
              "      <td>Match Factory, The|Louverture Films|Tordenfilm...</td>\n",
              "      <td>NaN</td>\n",
              "      <td>2015-09-02</td>\n",
              "      <td>NaN</td>\n",
              "      <td>122.0</td>\n",
              "      <td>English|ภาษาไทย</td>\n",
              "      <td>Released</td>\n",
              "      <td>NaN</td>\n",
              "      <td>Cemetery of Splendour</td>\n",
              "      <td>4.4</td>\n",
              "      <td>50.0</td>\n",
              "    </tr>\n",
              "  </tbody>\n",
              "</table>\n",
              "</div>"
            ],
            "text/plain": [
              "      belongs_to_collection  budget_musd  \\\n",
              "7345                    NaN          NaN   \n",
              "9165                    NaN          NaN   \n",
              "24844                   NaN          NaN   \n",
              "14012                   NaN          NaN   \n",
              "22151                   NaN          NaN   \n",
              "14000                   NaN          NaN   \n",
              "8068                    NaN          NaN   \n",
              "9327                    NaN          NaN   \n",
              "17229                   NaN          NaN   \n",
              "23044                   NaN          NaN   \n",
              "29374                   NaN          NaN   \n",
              "15702                   NaN          NaN   \n",
              "13946                   NaN          NaN   \n",
              "40276                   NaN          NaN   \n",
              "38871                   NaN          NaN   \n",
              "16167                   NaN          NaN   \n",
              "676                     NaN          NaN   \n",
              "1465                    NaN          NaN   \n",
              "19890                   NaN          NaN   \n",
              "21165                   NaN          NaN   \n",
              "13375                   NaN          NaN   \n",
              "13261                   NaN          NaN   \n",
              "16764                   NaN          NaN   \n",
              "19925                   NaN          NaN   \n",
              "21854                   NaN          NaN   \n",
              "13220          Why We Fight          NaN   \n",
              "35798          Why We Fight          NaN   \n",
              "13603                   NaN          NaN   \n",
              "28860                   NaN          NaN   \n",
              "24164                   NaN          NaN   \n",
              "45265                   NaN          NaN   \n",
              "33184                   NaN         0.98   \n",
              "40040                   NaN         0.98   \n",
              "\n",
              "                                                  genres        id  \\\n",
              "7345   [{'id': 80, 'name': 'Crime'}, {'id': 18, 'name...    5511.0   \n",
              "9165   [{'id': 80, 'name': 'Crime'}, {'id': 18, 'name...    5511.0   \n",
              "24844  [{'id': 35, 'name': 'Comedy'}, {'id': 18, 'nam...   11115.0   \n",
              "14012  [{'id': 35, 'name': 'Comedy'}, {'id': 18, 'nam...   11115.0   \n",
              "22151  [{'id': 28, 'name': 'Action'}, {'id': 27, 'nam...   18440.0   \n",
              "14000  [{'id': 28, 'name': 'Action'}, {'id': 27, 'nam...   18440.0   \n",
              "8068   [{'id': 12, 'name': 'Adventure'}, {'id': 16, '...   23305.0   \n",
              "9327   [{'id': 12, 'name': 'Adventure'}, {'id': 16, '...   23305.0   \n",
              "17229                      [{'id': 18, 'name': 'Drama'}]   25541.0   \n",
              "23044                      [{'id': 18, 'name': 'Drama'}]   25541.0   \n",
              "29374  [{'id': 18, 'name': 'Drama'}, {'id': 10769, 'n...   42495.0   \n",
              "15702  [{'id': 18, 'name': 'Drama'}, {'id': 10769, 'n...   42495.0   \n",
              "13946                     [{'id': 35, 'name': 'Comedy'}]   97995.0   \n",
              "40276                     [{'id': 35, 'name': 'Comedy'}]   97995.0   \n",
              "38871  [{'id': 28, 'name': 'Action'}, {'id': 18, 'nam...   99080.0   \n",
              "16167  [{'id': 28, 'name': 'Action'}, {'id': 18, 'nam...   99080.0   \n",
              "676    [{'id': 18, 'name': 'Drama'}, {'id': 10749, 'n...  105045.0   \n",
              "1465   [{'id': 18, 'name': 'Drama'}, {'id': 10749, 'n...  105045.0   \n",
              "19890  [{'id': 14, 'name': 'Fantasy'}, {'id': 18, 'na...  119916.0   \n",
              "21165  [{'id': 14, 'name': 'Fantasy'}, {'id': 18, 'na...  119916.0   \n",
              "13375  [{'id': 53, 'name': 'Thriller'}, {'id': 9648, ...  141971.0   \n",
              "13261  [{'id': 53, 'name': 'Thriller'}, {'id': 9648, ...  141971.0   \n",
              "16764  [{'id': 53, 'name': 'Thriller'}, {'id': 9648, ...  141971.0   \n",
              "19925  [{'id': 18, 'name': 'Drama'}, {'id': 878, 'nam...  152795.0   \n",
              "21854  [{'id': 18, 'name': 'Drama'}, {'id': 878, 'nam...  152795.0   \n",
              "13220                [{'id': 99, 'name': 'Documentary'}]  159849.0   \n",
              "35798                [{'id': 99, 'name': 'Documentary'}]  159849.0   \n",
              "13603  [{'id': 18, 'name': 'Drama'}, {'id': 35, 'name...  168538.0   \n",
              "28860  [{'id': 18, 'name': 'Drama'}, {'id': 35, 'name...  168538.0   \n",
              "24164  [{'id': 35, 'name': 'Comedy'}, {'id': 18, 'nam...  265189.0   \n",
              "45265  [{'id': 35, 'name': 'Comedy'}, {'id': 18, 'nam...  265189.0   \n",
              "33184  [{'id': 18, 'name': 'Drama'}, {'id': 14, 'name...  298721.0   \n",
              "40040  [{'id': 18, 'name': 'Drama'}, {'id': 14, 'name...  298721.0   \n",
              "\n",
              "      original_language                                           overview  \\\n",
              "7345                 fr  Hitman Jef Costello is a perfectionist who alw...   \n",
              "9165                 fr  Hitman Jef Costello is a perfectionist who alw...   \n",
              "24844                en  As an ex-gambler teaches a hot-shot college ki...   \n",
              "14012                en  As an ex-gambler teaches a hot-shot college ki...   \n",
              "22151                en  When a comet strikes Earth and kicks up a clou...   \n",
              "14000                en  When a comet strikes Earth and kicks up a clou...   \n",
              "8068                 en  In feudal India, a warrior (Khan) who renounce...   \n",
              "9327                 en  In feudal India, a warrior (Khan) who renounce...   \n",
              "17229                da  Former Danish servicemen Lars and Jimmy are th...   \n",
              "23044                da  Former Danish servicemen Lars and Jimmy are th...   \n",
              "29374                en  King Lear, old and tired, divides his kingdom ...   \n",
              "15702                en  King Lear, old and tired, divides his kingdom ...   \n",
              "13946                en  After breaking a mirror in his home, superstit...   \n",
              "40276                en  After breaking a mirror in his home, superstit...   \n",
              "38871                en  Originally called White Thunder, American prod...   \n",
              "16167                en  Originally called White Thunder, American prod...   \n",
              "676                  de  East-Berlin, 1961, shortly after the erection ...   \n",
              "1465                 de  East-Berlin, 1961, shortly after the erection ...   \n",
              "19890                en  Prospero, the true Duke of Milan is now living...   \n",
              "21165                en  Prospero, the true Duke of Milan is now living...   \n",
              "13375                fi  Recovering from a nail gun shot to the head an...   \n",
              "13261                fi  Recovering from a nail gun shot to the head an...   \n",
              "16764                fi  Recovering from a nail gun shot to the head an...   \n",
              "19925                en  More than two decades after catapulting to sta...   \n",
              "21854                en  More than two decades after catapulting to sta...   \n",
              "13220                en  The third film of Frank Capra's 'Why We Fight\"...   \n",
              "35798                en  The third film of Frank Capra's 'Why We Fight\"...   \n",
              "13603                en  In Zola's Paris, an ingenue arrives at a tony ...   \n",
              "28860                en  In Zola's Paris, an ingenue arrives at a tony ...   \n",
              "24164                sv  While holidaying in the French Alps, a Swedish...   \n",
              "45265                sv  While holidaying in the French Alps, a Swedish...   \n",
              "33184                th  In a hospital, ten soldiers are being treated ...   \n",
              "40040                th  In a hospital, ten soldiers are being treated ...   \n",
              "\n",
              "       popularity                       poster_path  \\\n",
              "7345     9.091288  /cvNW8IXigbaMNo4gKEIps0NGnhA.jpg   \n",
              "9165     9.091288  /cvNW8IXigbaMNo4gKEIps0NGnhA.jpg   \n",
              "24844    6.880365  /kHaBqrrozaG7rj6GJg3sUCiM29B.jpg   \n",
              "14012    6.880365  /kHaBqrrozaG7rj6GJg3sUCiM29B.jpg   \n",
              "22151    1.436085  /tWCyKXHuSrQdLAvNeeVJBnhf1Yv.jpg   \n",
              "14000    1.436085  /tWCyKXHuSrQdLAvNeeVJBnhf1Yv.jpg   \n",
              "8068     1.967992  /9GlrmbZO7VGyqhaSR1utinRJz3L.jpg   \n",
              "9327     1.967992  /9GlrmbZO7VGyqhaSR1utinRJz3L.jpg   \n",
              "17229    2.587911  /q19Q5BRZpMXoNCA4OYodVozfjUh.jpg   \n",
              "23044    2.587911  /q19Q5BRZpMXoNCA4OYodVozfjUh.jpg   \n",
              "29374    0.187901  /xuE1IlUCohbxMY0fiqKTT6d013n.jpg   \n",
              "15702    0.187901  /xuE1IlUCohbxMY0fiqKTT6d013n.jpg   \n",
              "13946    0.141558  /4J6Ai4C5YRgfRUTlirrJ7QsmJKU.jpg   \n",
              "40276    0.141558  /4J6Ai4C5YRgfRUTlirrJ7QsmJKU.jpg   \n",
              "38871    0.002362  /qenjwRvW9itR5pVp4CBkYfhVAOp.jpg   \n",
              "16167    0.002362  /qenjwRvW9itR5pVp4CBkYfhVAOp.jpg   \n",
              "676      0.122178  /5WFIrBhOOgc0jGmoLxMZwWqCctO.jpg   \n",
              "1465     0.122178  /5WFIrBhOOgc0jGmoLxMZwWqCctO.jpg   \n",
              "19890    0.000018  /gLVRTxaLtUDkfscFKPyYrCtRnTk.jpg   \n",
              "21165    0.000018  /gLVRTxaLtUDkfscFKPyYrCtRnTk.jpg   \n",
              "13375    0.411949  /8VSZ9coCzxOCW2wE2Qene1H1fKO.jpg   \n",
              "13261    0.411949  /8VSZ9coCzxOCW2wE2Qene1H1fKO.jpg   \n",
              "16764    0.411949  /8VSZ9coCzxOCW2wE2Qene1H1fKO.jpg   \n",
              "19925    8.534039  /nnKX3ahYoT7P3au92dNgLf4pKwA.jpg   \n",
              "21854    8.534039  /nnKX3ahYoT7P3au92dNgLf4pKwA.jpg   \n",
              "13220    0.473322  /g21ruZZ3BZeUDuKMb82kejjtufk.jpg   \n",
              "35798    0.473322  /g21ruZZ3BZeUDuKMb82kejjtufk.jpg   \n",
              "13603    1.276602  /pg4PUHRFrgNfACHSh5MITQ2gYch.jpg   \n",
              "28860    1.276602  /pg4PUHRFrgNfACHSh5MITQ2gYch.jpg   \n",
              "24164   12.165685  /rGMtc9AtZsnWSSL5VnLaGvx1PI6.jpg   \n",
              "45265   12.165685  /rGMtc9AtZsnWSSL5VnLaGvx1PI6.jpg   \n",
              "33184    2.535419  /5GasjPRAy5rlEyDOH7MeOyxyQGX.jpg   \n",
              "40040    2.535419  /5GasjPRAy5rlEyDOH7MeOyxyQGX.jpg   \n",
              "\n",
              "                                    production_companies  \\\n",
              "7345   Fida cinematografica|Compagnie Industrielle et...   \n",
              "9165   Fida cinematografica|Compagnie Industrielle et...   \n",
              "24844  Andertainment Group|Crescent City Pictures|Tag...   \n",
              "14012  Andertainment Group|Crescent City Pictures|Tag...   \n",
              "22151                                                NaN   \n",
              "14000                                                NaN   \n",
              "8068                                            Filmfour   \n",
              "9327                                            Filmfour   \n",
              "17229                                                NaN   \n",
              "23044                                                NaN   \n",
              "29374  Royal Shakespeare Company|Laterna Film|Athena ...   \n",
              "15702  Royal Shakespeare Company|Laterna Film|Athena ...   \n",
              "13946                             Max Linder Productions   \n",
              "40276                             Max Linder Productions   \n",
              "38871                                                NaN   \n",
              "16167                                                NaN   \n",
              "676    Studio Babelsberg|Centre National de la Cinéma...   \n",
              "1465   Studio Babelsberg|Centre National de la Cinéma...   \n",
              "19890                                                NaN   \n",
              "21165                                                NaN   \n",
              "13375                               Filmiteollisuus Fine   \n",
              "13261                               Filmiteollisuus Fine   \n",
              "16764                               Filmiteollisuus Fine   \n",
              "19925  Pandora Filmproduktion|Entre Chien et Loup|Opu...   \n",
              "21854  Pandora Filmproduktion|Entre Chien et Loup|Opu...   \n",
              "13220                                                NaN   \n",
              "35798                                                NaN   \n",
              "13603             Cannon Group|Metro-Goldwyn-Mayer (MGM)   \n",
              "28860             Cannon Group|Metro-Goldwyn-Mayer (MGM)   \n",
              "24164             Motlys|Coproduction Office|Film i Väst   \n",
              "45265             Motlys|Coproduction Office|Film i Väst   \n",
              "33184  Match Factory, The|Louverture Films|Tordenfilm...   \n",
              "40040  Match Factory, The|Louverture Films|Tordenfilm...   \n",
              "\n",
              "       production_countries release_date  revenue_musd  runtime  \\\n",
              "7345                    NaN   1967-10-25      0.039481    105.0   \n",
              "9165                    NaN   1967-10-25      0.039481    105.0   \n",
              "24844                   NaN   2008-01-29           NaN     85.0   \n",
              "14012                   NaN   2008-01-29           NaN     85.0   \n",
              "22151                   NaN   2007-01-01           NaN     89.0   \n",
              "14000                   NaN   2007-01-01           NaN     89.0   \n",
              "8068                    NaN   2001-09-23           NaN     86.0   \n",
              "9327                    NaN   2001-09-23           NaN     86.0   \n",
              "17229                   NaN   2009-10-21           NaN     90.0   \n",
              "23044                   NaN   2009-10-21           NaN     90.0   \n",
              "29374                   NaN   1971-02-04           NaN    137.0   \n",
              "15702                   NaN   1971-02-04           NaN    137.0   \n",
              "13946                   NaN   1921-02-06           NaN     62.0   \n",
              "40276                   NaN   1921-02-06           NaN     62.0   \n",
              "38871                   NaN   1931-06-21           NaN     70.0   \n",
              "16167                   NaN   1931-06-21           NaN     70.0   \n",
              "676                     NaN   1995-02-16           NaN    115.0   \n",
              "1465                    NaN   1995-02-16           NaN    115.0   \n",
              "19890                   NaN   1980-02-27           NaN    123.0   \n",
              "21165                   NaN   1980-02-27           NaN    123.0   \n",
              "13375                   NaN   2008-12-26           NaN    108.0   \n",
              "13261                   NaN   2008-12-26           NaN    108.0   \n",
              "16764                   NaN   2008-12-26           NaN    108.0   \n",
              "19925                   NaN   2013-05-16      0.455815    122.0   \n",
              "21854                   NaN   2013-05-16      0.455815    122.0   \n",
              "13220                   NaN   1943-01-01           NaN     57.0   \n",
              "35798                   NaN   1943-01-01           NaN     57.0   \n",
              "13603                   NaN   1983-06-13           NaN     92.0   \n",
              "28860                   NaN   1983-06-13           NaN     92.0   \n",
              "24164                   NaN   2014-08-15      1.359497    118.0   \n",
              "45265                   NaN   2014-08-15      1.359497    118.0   \n",
              "33184                   NaN   2015-09-02           NaN    122.0   \n",
              "40040                   NaN   2015-09-02           NaN    122.0   \n",
              "\n",
              "                     spoken_languages    status  \\\n",
              "7345                         Français  Released   \n",
              "9165                         Français  Released   \n",
              "24844                         English  Released   \n",
              "14012                         English  Released   \n",
              "22151                         English  Released   \n",
              "14000                         English  Released   \n",
              "8068                           हिन्दी  Released   \n",
              "9327                           हिन्दी  Released   \n",
              "17229                           Dansk  Released   \n",
              "23044                           Dansk  Released   \n",
              "29374                         English   Rumored   \n",
              "15702                         English   Rumored   \n",
              "13946                         English  Released   \n",
              "40276                         English  Released   \n",
              "38871                         English  Released   \n",
              "16167                         English  Released   \n",
              "676                           Deutsch  Released   \n",
              "1465                          Deutsch  Released   \n",
              "19890                             NaN  Released   \n",
              "21165                             NaN  Released   \n",
              "13375                           suomi  Released   \n",
              "13261                           suomi  Released   \n",
              "16764                           suomi  Released   \n",
              "19925                         English  Released   \n",
              "21854                         English  Released   \n",
              "13220                         English  Released   \n",
              "35798                         English  Released   \n",
              "13603                             NaN  Released   \n",
              "28860                             NaN  Released   \n",
              "24164  Français|Norsk|svenska|English  Released   \n",
              "45265  Français|Norsk|svenska|English  Released   \n",
              "33184                 English|ภาษาไทย  Released   \n",
              "40040                 English|ภาษาไทย  Released   \n",
              "\n",
              "                                                 tagline  \\\n",
              "7345   There is no solitude greater than that of the ...   \n",
              "9165   There is no solitude greater than that of the ...   \n",
              "24844                                                NaN   \n",
              "14012                                                NaN   \n",
              "22151                                                NaN   \n",
              "14000                                                NaN   \n",
              "8068                                                 NaN   \n",
              "9327                                                 NaN   \n",
              "17229                                                NaN   \n",
              "23044                                                NaN   \n",
              "29374                                                NaN   \n",
              "15702                                                NaN   \n",
              "13946                                                NaN   \n",
              "40276                                                NaN   \n",
              "38871  Actually produced during the Great Newfoundlan...   \n",
              "16167  Actually produced during the Great Newfoundlan...   \n",
              "676                              A love, a hope, a wall.   \n",
              "1465                             A love, a hope, a wall.   \n",
              "19890                                                NaN   \n",
              "21165                                                NaN   \n",
              "13375  Which one is the first to return - memory or t...   \n",
              "13261  Which one is the first to return - memory or t...   \n",
              "16764  Which one is the first to return - memory or t...   \n",
              "19925                                                NaN   \n",
              "21854                                                NaN   \n",
              "13220                                                NaN   \n",
              "35798                                                NaN   \n",
              "13603                                                NaN   \n",
              "28860                                                NaN   \n",
              "24164                                                NaN   \n",
              "45265                                                NaN   \n",
              "33184                                                NaN   \n",
              "40040                                                NaN   \n",
              "\n",
              "                                  title  vote_average  vote_count  \n",
              "7345                        Le Samouraï           7.9       187.0  \n",
              "9165                        Le Samouraï           7.9       187.0  \n",
              "24844                              Deal           5.2        22.0  \n",
              "14012                              Deal           5.2        22.0  \n",
              "22151                  Days of Darkness           5.0         5.0  \n",
              "14000                  Days of Darkness           5.0         5.0  \n",
              "8068                        The Warrior           6.3        15.0  \n",
              "9327                        The Warrior           6.3        15.0  \n",
              "17229                       Brotherhood           7.1        21.0  \n",
              "23044                       Brotherhood           7.1        21.0  \n",
              "29374                         King Lear           8.0         3.0  \n",
              "15702                         King Lear           8.0         3.0  \n",
              "13946              Seven Years Bad Luck           5.6         4.0  \n",
              "40276              Seven Years Bad Luck           5.6         4.0  \n",
              "38871                        The Viking           NaN         0.0  \n",
              "16167                        The Viking           NaN         0.0  \n",
              "676                         The Promise           5.0         1.0  \n",
              "1465                        The Promise           5.0         1.0  \n",
              "19890                       The Tempest           NaN         0.0  \n",
              "21165                       The Tempest           NaN         0.0  \n",
              "13375                          Blackout           6.7         3.0  \n",
              "13261                          Blackout           6.7         3.0  \n",
              "16764                          Blackout           6.7         3.0  \n",
              "19925                      The Congress           6.4       165.0  \n",
              "21854                      The Congress           6.4       165.0  \n",
              "13220  Why We Fight: Divide and Conquer           5.0         1.0  \n",
              "35798  Why We Fight: Divide and Conquer           5.0         1.0  \n",
              "13603    Nana, the True Key of Pleasure           4.7         3.0  \n",
              "28860    Nana, the True Key of Pleasure           4.7         3.0  \n",
              "24164                     Force Majeure           6.8       255.0  \n",
              "45265                     Force Majeure           6.8       255.0  \n",
              "33184             Cemetery of Splendour           4.4        50.0  \n",
              "40040             Cemetery of Splendour           4.4        50.0  "
            ]
          },
          "metadata": {},
          "execution_count": 395
        }
      ]
    },
    {
      "cell_type": "code",
      "metadata": {
        "id": "z2NCslTtU8vw"
      },
      "source": [
        "#Drop duplicates\n",
        "df.drop_duplicates(inplace=True)"
      ],
      "execution_count": 396,
      "outputs": []
    },
    {
      "cell_type": "code",
      "metadata": {
        "colab": {
          "base_uri": "https://localhost:8080/",
          "height": 1000
        },
        "id": "RyP5zTYiVL1G",
        "outputId": "7dc4f7ad-b739-4a5d-e803-8527f5ba1060"
      },
      "source": [
        "#Check duplicates\n",
        "df[df.duplicated(subset='id', keep=False)].sort_values(by='id')"
      ],
      "execution_count": 397,
      "outputs": [
        {
          "output_type": "execute_result",
          "data": {
            "text/html": [
              "<div>\n",
              "<style scoped>\n",
              "    .dataframe tbody tr th:only-of-type {\n",
              "        vertical-align: middle;\n",
              "    }\n",
              "\n",
              "    .dataframe tbody tr th {\n",
              "        vertical-align: top;\n",
              "    }\n",
              "\n",
              "    .dataframe thead th {\n",
              "        text-align: right;\n",
              "    }\n",
              "</style>\n",
              "<table border=\"1\" class=\"dataframe\">\n",
              "  <thead>\n",
              "    <tr style=\"text-align: right;\">\n",
              "      <th></th>\n",
              "      <th>belongs_to_collection</th>\n",
              "      <th>budget_musd</th>\n",
              "      <th>genres</th>\n",
              "      <th>id</th>\n",
              "      <th>original_language</th>\n",
              "      <th>overview</th>\n",
              "      <th>popularity</th>\n",
              "      <th>poster_path</th>\n",
              "      <th>production_companies</th>\n",
              "      <th>production_countries</th>\n",
              "      <th>release_date</th>\n",
              "      <th>revenue_musd</th>\n",
              "      <th>runtime</th>\n",
              "      <th>spoken_languages</th>\n",
              "      <th>status</th>\n",
              "      <th>tagline</th>\n",
              "      <th>title</th>\n",
              "      <th>vote_average</th>\n",
              "      <th>vote_count</th>\n",
              "    </tr>\n",
              "  </thead>\n",
              "  <tbody>\n",
              "    <tr>\n",
              "      <th>33826</th>\n",
              "      <td>NaN</td>\n",
              "      <td>30.000000</td>\n",
              "      <td>[{'id': 35, 'name': 'Comedy'}, {'id': 80, 'nam...</td>\n",
              "      <td>4912.0</td>\n",
              "      <td>en</td>\n",
              "      <td>Television made him famous, but his biggest hi...</td>\n",
              "      <td>7.645827</td>\n",
              "      <td>/o3Im9nPLAgtlw1j2LtpMebAotSe.jpg</td>\n",
              "      <td>Miramax Films|Allied Filmmakers|Mad Chance</td>\n",
              "      <td>NaN</td>\n",
              "      <td>2002-12-30</td>\n",
              "      <td>33.013805</td>\n",
              "      <td>113.0</td>\n",
              "      <td>English</td>\n",
              "      <td>Released</td>\n",
              "      <td>Some things are better left top secret.</td>\n",
              "      <td>Confessions of a Dangerous Mind</td>\n",
              "      <td>6.6</td>\n",
              "      <td>281.0</td>\n",
              "    </tr>\n",
              "    <tr>\n",
              "      <th>5865</th>\n",
              "      <td>NaN</td>\n",
              "      <td>30.000000</td>\n",
              "      <td>[{'id': 35, 'name': 'Comedy'}, {'id': 80, 'nam...</td>\n",
              "      <td>4912.0</td>\n",
              "      <td>en</td>\n",
              "      <td>Television made him famous, but his biggest hi...</td>\n",
              "      <td>11.331072</td>\n",
              "      <td>/o3Im9nPLAgtlw1j2LtpMebAotSe.jpg</td>\n",
              "      <td>Miramax Films|Allied Filmmakers|Mad Chance</td>\n",
              "      <td>NaN</td>\n",
              "      <td>2002-12-30</td>\n",
              "      <td>33.013805</td>\n",
              "      <td>113.0</td>\n",
              "      <td>English</td>\n",
              "      <td>Released</td>\n",
              "      <td>Some things are better left top secret.</td>\n",
              "      <td>Confessions of a Dangerous Mind</td>\n",
              "      <td>6.6</td>\n",
              "      <td>281.0</td>\n",
              "    </tr>\n",
              "    <tr>\n",
              "      <th>4114</th>\n",
              "      <td>Pokémon Collection</td>\n",
              "      <td>16.000000</td>\n",
              "      <td>[{'id': 12, 'name': 'Adventure'}, {'id': 14, '...</td>\n",
              "      <td>10991.0</td>\n",
              "      <td>ja</td>\n",
              "      <td>When Molly Hale's sadness of her father's disa...</td>\n",
              "      <td>10.264597</td>\n",
              "      <td>/5ILjS6XB5deiHop8SXPsYxXWVPE.jpg</td>\n",
              "      <td>TV Tokyo|4 Kids Entertainment|Nintendo|Pikachu...</td>\n",
              "      <td>NaN</td>\n",
              "      <td>2000-07-08</td>\n",
              "      <td>68.411275</td>\n",
              "      <td>93.0</td>\n",
              "      <td>English</td>\n",
              "      <td>Released</td>\n",
              "      <td>Pokémon: Spell of the Unknown</td>\n",
              "      <td>Pokémon: Spell of the Unknown</td>\n",
              "      <td>6.0</td>\n",
              "      <td>143.0</td>\n",
              "    </tr>\n",
              "    <tr>\n",
              "      <th>44821</th>\n",
              "      <td>Pokémon Collection</td>\n",
              "      <td>16.000000</td>\n",
              "      <td>[{'id': 12, 'name': 'Adventure'}, {'id': 14, '...</td>\n",
              "      <td>10991.0</td>\n",
              "      <td>ja</td>\n",
              "      <td>When Molly Hale's sadness of her father's disa...</td>\n",
              "      <td>6.480376</td>\n",
              "      <td>/5ILjS6XB5deiHop8SXPsYxXWVPE.jpg</td>\n",
              "      <td>TV Tokyo|4 Kids Entertainment|Nintendo|Pikachu...</td>\n",
              "      <td>NaN</td>\n",
              "      <td>2000-07-08</td>\n",
              "      <td>68.411275</td>\n",
              "      <td>93.0</td>\n",
              "      <td>English</td>\n",
              "      <td>Released</td>\n",
              "      <td>Pokémon: Spell of the Unknown</td>\n",
              "      <td>Pokémon: Spell of the Unknown</td>\n",
              "      <td>6.0</td>\n",
              "      <td>144.0</td>\n",
              "    </tr>\n",
              "    <tr>\n",
              "      <th>44826</th>\n",
              "      <td>Pokémon Collection</td>\n",
              "      <td>NaN</td>\n",
              "      <td>[{'id': 12, 'name': 'Adventure'}, {'id': 14, '...</td>\n",
              "      <td>12600.0</td>\n",
              "      <td>ja</td>\n",
              "      <td>All your favorite Pokémon characters are back,...</td>\n",
              "      <td>6.080108</td>\n",
              "      <td>/bqL0PVHbQ8Jmw3Njcl38kW0CoeM.jpg</td>\n",
              "      <td>NaN</td>\n",
              "      <td>NaN</td>\n",
              "      <td>2001-07-06</td>\n",
              "      <td>28.023563</td>\n",
              "      <td>75.0</td>\n",
              "      <td>日本語</td>\n",
              "      <td>Released</td>\n",
              "      <td>NaN</td>\n",
              "      <td>Pokémon 4Ever: Celebi - Voice of the Forest</td>\n",
              "      <td>5.7</td>\n",
              "      <td>82.0</td>\n",
              "    </tr>\n",
              "    <tr>\n",
              "      <th>5535</th>\n",
              "      <td>Pokémon Collection</td>\n",
              "      <td>NaN</td>\n",
              "      <td>[{'id': 12, 'name': 'Adventure'}, {'id': 14, '...</td>\n",
              "      <td>12600.0</td>\n",
              "      <td>ja</td>\n",
              "      <td>All your favorite Pokémon characters are back,...</td>\n",
              "      <td>7.072301</td>\n",
              "      <td>/bqL0PVHbQ8Jmw3Njcl38kW0CoeM.jpg</td>\n",
              "      <td>NaN</td>\n",
              "      <td>NaN</td>\n",
              "      <td>2001-07-06</td>\n",
              "      <td>28.023563</td>\n",
              "      <td>75.0</td>\n",
              "      <td>日本語</td>\n",
              "      <td>Released</td>\n",
              "      <td>NaN</td>\n",
              "      <td>Pokémon 4Ever: Celebi - Voice of the Forest</td>\n",
              "      <td>5.7</td>\n",
              "      <td>82.0</td>\n",
              "    </tr>\n",
              "    <tr>\n",
              "      <th>15765</th>\n",
              "      <td>NaN</td>\n",
              "      <td>0.002500</td>\n",
              "      <td>[{'id': 18, 'name': 'Drama'}, {'id': 35, 'name...</td>\n",
              "      <td>13209.0</td>\n",
              "      <td>fa</td>\n",
              "      <td>Since women are banned from soccer matches, Ir...</td>\n",
              "      <td>1.529879</td>\n",
              "      <td>/nfkOkpudNNIjRrf0mTFVoiGzHyc.jpg</td>\n",
              "      <td>Jafar Panahi Film Productions</td>\n",
              "      <td>NaN</td>\n",
              "      <td>2006-05-26</td>\n",
              "      <td>NaN</td>\n",
              "      <td>93.0</td>\n",
              "      <td>فارسی</td>\n",
              "      <td>Released</td>\n",
              "      <td>NaN</td>\n",
              "      <td>Offside</td>\n",
              "      <td>6.7</td>\n",
              "      <td>27.0</td>\n",
              "    </tr>\n",
              "    <tr>\n",
              "      <th>11342</th>\n",
              "      <td>NaN</td>\n",
              "      <td>0.002500</td>\n",
              "      <td>[{'id': 18, 'name': 'Drama'}, {'id': 35, 'name...</td>\n",
              "      <td>13209.0</td>\n",
              "      <td>fa</td>\n",
              "      <td>Since women are banned from soccer matches, Ir...</td>\n",
              "      <td>1.528960</td>\n",
              "      <td>/nfkOkpudNNIjRrf0mTFVoiGzHyc.jpg</td>\n",
              "      <td>Jafar Panahi Film Productions</td>\n",
              "      <td>NaN</td>\n",
              "      <td>2006-05-26</td>\n",
              "      <td>NaN</td>\n",
              "      <td>93.0</td>\n",
              "      <td>فارسی</td>\n",
              "      <td>Released</td>\n",
              "      <td>NaN</td>\n",
              "      <td>Offside</td>\n",
              "      <td>6.7</td>\n",
              "      <td>27.0</td>\n",
              "    </tr>\n",
              "    <tr>\n",
              "      <th>10419</th>\n",
              "      <td>NaN</td>\n",
              "      <td>1.600000</td>\n",
              "      <td>[{'id': 18, 'name': 'Drama'}, {'id': 80, 'name...</td>\n",
              "      <td>14788.0</td>\n",
              "      <td>en</td>\n",
              "      <td>Set against the backdrop of a decaying Midwest...</td>\n",
              "      <td>3.185256</td>\n",
              "      <td>/w56oo9nREcF54sNXVYuE9QxZFjT.jpg</td>\n",
              "      <td>Magnolia Pictures|Extension 765</td>\n",
              "      <td>NaN</td>\n",
              "      <td>2005-09-03</td>\n",
              "      <td>NaN</td>\n",
              "      <td>73.0</td>\n",
              "      <td>English</td>\n",
              "      <td>Released</td>\n",
              "      <td>NaN</td>\n",
              "      <td>Bubble</td>\n",
              "      <td>6.4</td>\n",
              "      <td>36.0</td>\n",
              "    </tr>\n",
              "    <tr>\n",
              "      <th>12066</th>\n",
              "      <td>NaN</td>\n",
              "      <td>1.600000</td>\n",
              "      <td>[{'id': 18, 'name': 'Drama'}, {'id': 80, 'name...</td>\n",
              "      <td>14788.0</td>\n",
              "      <td>en</td>\n",
              "      <td>Set against the backdrop of a decaying Midwest...</td>\n",
              "      <td>3.008299</td>\n",
              "      <td>/w56oo9nREcF54sNXVYuE9QxZFjT.jpg</td>\n",
              "      <td>Magnolia Pictures|Extension 765</td>\n",
              "      <td>NaN</td>\n",
              "      <td>2005-09-03</td>\n",
              "      <td>NaN</td>\n",
              "      <td>73.0</td>\n",
              "      <td>English</td>\n",
              "      <td>Released</td>\n",
              "      <td>NaN</td>\n",
              "      <td>Bubble</td>\n",
              "      <td>6.4</td>\n",
              "      <td>36.0</td>\n",
              "    </tr>\n",
              "    <tr>\n",
              "      <th>5130</th>\n",
              "      <td>NaN</td>\n",
              "      <td>26.000000</td>\n",
              "      <td>[{'id': 12, 'name': 'Adventure'}, {'id': 10751...</td>\n",
              "      <td>15028.0</td>\n",
              "      <td>en</td>\n",
              "      <td>Until now, Zak Gibbs' greatest challenge has b...</td>\n",
              "      <td>5.373623</td>\n",
              "      <td>/xGhDPrBz9mJN8CsIjA23jQSd3sc.jpg</td>\n",
              "      <td>Paramount Pictures|Nickelodeon Movies|Valhalla...</td>\n",
              "      <td>NaN</td>\n",
              "      <td>2002-03-17</td>\n",
              "      <td>38.793283</td>\n",
              "      <td>94.0</td>\n",
              "      <td>Český|English</td>\n",
              "      <td>Released</td>\n",
              "      <td>The adventure of a lifetime, in a few mere sec...</td>\n",
              "      <td>Clockstoppers</td>\n",
              "      <td>4.9</td>\n",
              "      <td>89.0</td>\n",
              "    </tr>\n",
              "    <tr>\n",
              "      <th>33743</th>\n",
              "      <td>NaN</td>\n",
              "      <td>26.000000</td>\n",
              "      <td>[{'id': 12, 'name': 'Adventure'}, {'id': 10751...</td>\n",
              "      <td>15028.0</td>\n",
              "      <td>en</td>\n",
              "      <td>Until now, Zak Gibbs' greatest challenge has b...</td>\n",
              "      <td>4.920175</td>\n",
              "      <td>/xGhDPrBz9mJN8CsIjA23jQSd3sc.jpg</td>\n",
              "      <td>Paramount Pictures|Nickelodeon Movies|Valhalla...</td>\n",
              "      <td>NaN</td>\n",
              "      <td>2002-03-17</td>\n",
              "      <td>38.793283</td>\n",
              "      <td>94.0</td>\n",
              "      <td>Český|English</td>\n",
              "      <td>Released</td>\n",
              "      <td>The adventure of a lifetime, in a few mere sec...</td>\n",
              "      <td>Clockstoppers</td>\n",
              "      <td>4.9</td>\n",
              "      <td>90.0</td>\n",
              "    </tr>\n",
              "    <tr>\n",
              "      <th>949</th>\n",
              "      <td>NaN</td>\n",
              "      <td>0.000004</td>\n",
              "      <td>[{'id': 18, 'name': 'Drama'}, {'id': 10749, 'n...</td>\n",
              "      <td>22649.0</td>\n",
              "      <td>en</td>\n",
              "      <td>British nurse Catherine Barkley (Helen Hayes) ...</td>\n",
              "      <td>1.914697</td>\n",
              "      <td>/k0MF0IIbJ2PfOIku2KyraXL72d8.jpg</td>\n",
              "      <td>Paramount Pictures</td>\n",
              "      <td>NaN</td>\n",
              "      <td>1932-12-08</td>\n",
              "      <td>0.000025</td>\n",
              "      <td>89.0</td>\n",
              "      <td>English</td>\n",
              "      <td>Released</td>\n",
              "      <td>Every woman who has loved will understand</td>\n",
              "      <td>A Farewell to Arms</td>\n",
              "      <td>6.2</td>\n",
              "      <td>29.0</td>\n",
              "    </tr>\n",
              "    <tr>\n",
              "      <th>15074</th>\n",
              "      <td>NaN</td>\n",
              "      <td>0.000004</td>\n",
              "      <td>[{'id': 18, 'name': 'Drama'}, {'id': 10749, 'n...</td>\n",
              "      <td>22649.0</td>\n",
              "      <td>en</td>\n",
              "      <td>British nurse Catherine Barkley (Helen Hayes) ...</td>\n",
              "      <td>2.411191</td>\n",
              "      <td>/k0MF0IIbJ2PfOIku2KyraXL72d8.jpg</td>\n",
              "      <td>Paramount Pictures</td>\n",
              "      <td>NaN</td>\n",
              "      <td>1932-12-08</td>\n",
              "      <td>0.000025</td>\n",
              "      <td>89.0</td>\n",
              "      <td>English</td>\n",
              "      <td>Released</td>\n",
              "      <td>Every woman who has loved will understand</td>\n",
              "      <td>A Farewell to Arms</td>\n",
              "      <td>6.2</td>\n",
              "      <td>29.0</td>\n",
              "    </tr>\n",
              "    <tr>\n",
              "      <th>9576</th>\n",
              "      <td>NaN</td>\n",
              "      <td>10.000000</td>\n",
              "      <td>[{'id': 18, 'name': 'Drama'}, {'id': 27, 'name...</td>\n",
              "      <td>69234.0</td>\n",
              "      <td>en</td>\n",
              "      <td>Count de Chagnie has discovered Christine's si...</td>\n",
              "      <td>0.441872</td>\n",
              "      <td>/ole8e9YQwvHoKVpWO0lgfLFFemc.jpg</td>\n",
              "      <td>Beta Film|Reteitalia|TF1|Hexatel|Saban/Scheric...</td>\n",
              "      <td>NaN</td>\n",
              "      <td>1990-03-18</td>\n",
              "      <td>NaN</td>\n",
              "      <td>168.0</td>\n",
              "      <td>English|Italiano</td>\n",
              "      <td>Released</td>\n",
              "      <td>NaN</td>\n",
              "      <td>The Phantom of the Opera</td>\n",
              "      <td>5.0</td>\n",
              "      <td>3.0</td>\n",
              "    </tr>\n",
              "    <tr>\n",
              "      <th>26625</th>\n",
              "      <td>NaN</td>\n",
              "      <td>10.000000</td>\n",
              "      <td>[{'id': 18, 'name': 'Drama'}, {'id': 27, 'name...</td>\n",
              "      <td>69234.0</td>\n",
              "      <td>en</td>\n",
              "      <td>Count de Chagnie has discovered Christine's si...</td>\n",
              "      <td>0.438490</td>\n",
              "      <td>/ole8e9YQwvHoKVpWO0lgfLFFemc.jpg</td>\n",
              "      <td>Beta Film|Reteitalia|TF1|Hexatel|Saban/Scheric...</td>\n",
              "      <td>NaN</td>\n",
              "      <td>1990-03-18</td>\n",
              "      <td>NaN</td>\n",
              "      <td>168.0</td>\n",
              "      <td>English|Italiano</td>\n",
              "      <td>Released</td>\n",
              "      <td>NaN</td>\n",
              "      <td>The Phantom of the Opera</td>\n",
              "      <td>5.0</td>\n",
              "      <td>3.0</td>\n",
              "    </tr>\n",
              "    <tr>\n",
              "      <th>20843</th>\n",
              "      <td>NaN</td>\n",
              "      <td>40.000000</td>\n",
              "      <td>[{'id': 12, 'name': 'Adventure'}, {'id': 18, '...</td>\n",
              "      <td>77221.0</td>\n",
              "      <td>en</td>\n",
              "      <td>On the Arabian Peninsula in the 1930s, two war...</td>\n",
              "      <td>6.475665</td>\n",
              "      <td>/iQd7zWhSeCe3cgdPcLIDXjGfdzL.jpg</td>\n",
              "      <td>France 2 Cinéma|Quinta Communications|Carthago...</td>\n",
              "      <td>NaN</td>\n",
              "      <td>2011-12-21</td>\n",
              "      <td>5.446000</td>\n",
              "      <td>130.0</td>\n",
              "      <td>English</td>\n",
              "      <td>Released</td>\n",
              "      <td>NaN</td>\n",
              "      <td>Black Gold</td>\n",
              "      <td>5.9</td>\n",
              "      <td>77.0</td>\n",
              "    </tr>\n",
              "    <tr>\n",
              "      <th>11155</th>\n",
              "      <td>NaN</td>\n",
              "      <td>40.000000</td>\n",
              "      <td>[{'id': 12, 'name': 'Adventure'}, {'id': 18, '...</td>\n",
              "      <td>77221.0</td>\n",
              "      <td>en</td>\n",
              "      <td>On the Arabian Peninsula in the 1930s, two war...</td>\n",
              "      <td>6.652197</td>\n",
              "      <td>/iQd7zWhSeCe3cgdPcLIDXjGfdzL.jpg</td>\n",
              "      <td>France 2 Cinéma|Quinta Communications|Carthago...</td>\n",
              "      <td>NaN</td>\n",
              "      <td>2011-12-21</td>\n",
              "      <td>5.446000</td>\n",
              "      <td>130.0</td>\n",
              "      <td>English</td>\n",
              "      <td>Released</td>\n",
              "      <td>NaN</td>\n",
              "      <td>Black Gold</td>\n",
              "      <td>5.9</td>\n",
              "      <td>77.0</td>\n",
              "    </tr>\n",
              "    <tr>\n",
              "      <th>21116</th>\n",
              "      <td>NaN</td>\n",
              "      <td>NaN</td>\n",
              "      <td>[{'id': 99, 'name': 'Documentary'}]</td>\n",
              "      <td>84198.0</td>\n",
              "      <td>en</td>\n",
              "      <td>Using personal stories, this powerful document...</td>\n",
              "      <td>1.673307</td>\n",
              "      <td>/jn8L1QdWWX5c0NUOLjzaSXtZrbt.jpg</td>\n",
              "      <td>NaN</td>\n",
              "      <td>NaN</td>\n",
              "      <td>2012-03-22</td>\n",
              "      <td>NaN</td>\n",
              "      <td>84.0</td>\n",
              "      <td>English</td>\n",
              "      <td>Released</td>\n",
              "      <td>One Nation. Underfed.</td>\n",
              "      <td>A Place at the Table</td>\n",
              "      <td>6.9</td>\n",
              "      <td>7.0</td>\n",
              "    </tr>\n",
              "    <tr>\n",
              "      <th>2564</th>\n",
              "      <td>NaN</td>\n",
              "      <td>NaN</td>\n",
              "      <td>[{'id': 99, 'name': 'Documentary'}]</td>\n",
              "      <td>84198.0</td>\n",
              "      <td>en</td>\n",
              "      <td>Using personal stories, this powerful document...</td>\n",
              "      <td>0.501046</td>\n",
              "      <td>/jn8L1QdWWX5c0NUOLjzaSXtZrbt.jpg</td>\n",
              "      <td>NaN</td>\n",
              "      <td>NaN</td>\n",
              "      <td>2012-03-22</td>\n",
              "      <td>NaN</td>\n",
              "      <td>84.0</td>\n",
              "      <td>English</td>\n",
              "      <td>Released</td>\n",
              "      <td>One Nation. Underfed.</td>\n",
              "      <td>A Place at the Table</td>\n",
              "      <td>6.9</td>\n",
              "      <td>7.0</td>\n",
              "    </tr>\n",
              "    <tr>\n",
              "      <th>20899</th>\n",
              "      <td>NaN</td>\n",
              "      <td>NaN</td>\n",
              "      <td>[{'id': 18, 'name': 'Drama'}]</td>\n",
              "      <td>109962.0</td>\n",
              "      <td>en</td>\n",
              "      <td>Two literary women compete for 20 years: one w...</td>\n",
              "      <td>10.396878</td>\n",
              "      <td>/tOflyY8eUFWubLKJH7fKg4KwpCl.jpg</td>\n",
              "      <td>Metro-Goldwyn-Mayer (MGM)|Jaquet</td>\n",
              "      <td>NaN</td>\n",
              "      <td>1981-09-23</td>\n",
              "      <td>NaN</td>\n",
              "      <td>115.0</td>\n",
              "      <td>English</td>\n",
              "      <td>Released</td>\n",
              "      <td>From the very beginning, they knew they'd be f...</td>\n",
              "      <td>Rich and Famous</td>\n",
              "      <td>4.9</td>\n",
              "      <td>7.0</td>\n",
              "    </tr>\n",
              "    <tr>\n",
              "      <th>5710</th>\n",
              "      <td>NaN</td>\n",
              "      <td>NaN</td>\n",
              "      <td>[{'id': 18, 'name': 'Drama'}]</td>\n",
              "      <td>109962.0</td>\n",
              "      <td>en</td>\n",
              "      <td>Two literary women compete for 20 years: one w...</td>\n",
              "      <td>12.180836</td>\n",
              "      <td>/tOflyY8eUFWubLKJH7fKg4KwpCl.jpg</td>\n",
              "      <td>Metro-Goldwyn-Mayer (MGM)|Jaquet</td>\n",
              "      <td>NaN</td>\n",
              "      <td>1981-09-23</td>\n",
              "      <td>NaN</td>\n",
              "      <td>115.0</td>\n",
              "      <td>English</td>\n",
              "      <td>Released</td>\n",
              "      <td>From the very beginning, they knew they'd be f...</td>\n",
              "      <td>Rich and Famous</td>\n",
              "      <td>4.9</td>\n",
              "      <td>7.0</td>\n",
              "    </tr>\n",
              "    <tr>\n",
              "      <th>23534</th>\n",
              "      <td>NaN</td>\n",
              "      <td>3.512454</td>\n",
              "      <td>[{'id': 18, 'name': 'Drama'}]</td>\n",
              "      <td>110428.0</td>\n",
              "      <td>fr</td>\n",
              "      <td>Winter, 1915. Confined by her family to an asy...</td>\n",
              "      <td>0.110065</td>\n",
              "      <td>/sGMPDg6je1zKi0TiX9b4pP6yN02.jpg</td>\n",
              "      <td>Canal+|Arte France Cinéma|3B Productions|C.R.R...</td>\n",
              "      <td>NaN</td>\n",
              "      <td>2013-03-13</td>\n",
              "      <td>0.115860</td>\n",
              "      <td>95.0</td>\n",
              "      <td>Français</td>\n",
              "      <td>Released</td>\n",
              "      <td>NaN</td>\n",
              "      <td>Camille Claudel 1915</td>\n",
              "      <td>7.0</td>\n",
              "      <td>20.0</td>\n",
              "    </tr>\n",
              "    <tr>\n",
              "      <th>4356</th>\n",
              "      <td>NaN</td>\n",
              "      <td>3.512454</td>\n",
              "      <td>[{'id': 18, 'name': 'Drama'}]</td>\n",
              "      <td>110428.0</td>\n",
              "      <td>fr</td>\n",
              "      <td>Winter, 1915. Confined by her family to an asy...</td>\n",
              "      <td>0.134014</td>\n",
              "      <td>/sGMPDg6je1zKi0TiX9b4pP6yN02.jpg</td>\n",
              "      <td>Canal+|Arte France Cinéma|3B Productions|C.R.R...</td>\n",
              "      <td>NaN</td>\n",
              "      <td>2013-03-13</td>\n",
              "      <td>0.115860</td>\n",
              "      <td>95.0</td>\n",
              "      <td>Français</td>\n",
              "      <td>Released</td>\n",
              "      <td>NaN</td>\n",
              "      <td>Camille Claudel 1915</td>\n",
              "      <td>7.0</td>\n",
              "      <td>20.0</td>\n",
              "    </tr>\n",
              "    <tr>\n",
              "      <th>30001</th>\n",
              "      <td>NaN</td>\n",
              "      <td>NaN</td>\n",
              "      <td>[{'id': 18, 'name': 'Drama'}]</td>\n",
              "      <td>132641.0</td>\n",
              "      <td>ja</td>\n",
              "      <td>Ten years into a marriage, the wife is disappo...</td>\n",
              "      <td>0.619388</td>\n",
              "      <td>/z9WiHt5uQjs8L8tyBpRBKzlheF2.jpg</td>\n",
              "      <td>Toho Company</td>\n",
              "      <td>NaN</td>\n",
              "      <td>1953-04-29</td>\n",
              "      <td>NaN</td>\n",
              "      <td>89.0</td>\n",
              "      <td>日本語</td>\n",
              "      <td>Released</td>\n",
              "      <td>NaN</td>\n",
              "      <td>Wife</td>\n",
              "      <td>NaN</td>\n",
              "      <td>0.0</td>\n",
              "    </tr>\n",
              "    <tr>\n",
              "      <th>838</th>\n",
              "      <td>NaN</td>\n",
              "      <td>NaN</td>\n",
              "      <td>[{'id': 18, 'name': 'Drama'}]</td>\n",
              "      <td>132641.0</td>\n",
              "      <td>ja</td>\n",
              "      <td>Ten years into a marriage, the wife is disappo...</td>\n",
              "      <td>0.096079</td>\n",
              "      <td>/z9WiHt5uQjs8L8tyBpRBKzlheF2.jpg</td>\n",
              "      <td>Toho Company</td>\n",
              "      <td>NaN</td>\n",
              "      <td>1953-04-29</td>\n",
              "      <td>NaN</td>\n",
              "      <td>89.0</td>\n",
              "      <td>日本語</td>\n",
              "      <td>Released</td>\n",
              "      <td>NaN</td>\n",
              "      <td>Wife</td>\n",
              "      <td>NaN</td>\n",
              "      <td>0.0</td>\n",
              "    </tr>\n",
              "    <tr>\n",
              "      <th>19730</th>\n",
              "      <td>NaN</td>\n",
              "      <td>NaN</td>\n",
              "      <td>[{'name': 'Carousel Productions', 'id': 11176}...</td>\n",
              "      <td>NaN</td>\n",
              "      <td>104.0</td>\n",
              "      <td>Released</td>\n",
              "      <td>NaN</td>\n",
              "      <td>Midnight Man</td>\n",
              "      <td>NaN</td>\n",
              "      <td>NaN</td>\n",
              "      <td>NaT</td>\n",
              "      <td>NaN</td>\n",
              "      <td>NaN</td>\n",
              "      <td>NaN</td>\n",
              "      <td>NaN</td>\n",
              "      <td>NaN</td>\n",
              "      <td>NaN</td>\n",
              "      <td>NaN</td>\n",
              "      <td>NaN</td>\n",
              "    </tr>\n",
              "    <tr>\n",
              "      <th>29503</th>\n",
              "      <td>NaN</td>\n",
              "      <td>NaN</td>\n",
              "      <td>[{'name': 'Aniplex', 'id': 2883}, {'name': 'Go...</td>\n",
              "      <td>NaN</td>\n",
              "      <td>68.0</td>\n",
              "      <td>Released</td>\n",
              "      <td>NaN</td>\n",
              "      <td>Mardock Scramble: The Third Exhaust</td>\n",
              "      <td>NaN</td>\n",
              "      <td>NaN</td>\n",
              "      <td>NaT</td>\n",
              "      <td>NaN</td>\n",
              "      <td>NaN</td>\n",
              "      <td>NaN</td>\n",
              "      <td>NaN</td>\n",
              "      <td>NaN</td>\n",
              "      <td>NaN</td>\n",
              "      <td>NaN</td>\n",
              "      <td>NaN</td>\n",
              "    </tr>\n",
              "    <tr>\n",
              "      <th>35587</th>\n",
              "      <td>NaN</td>\n",
              "      <td>NaN</td>\n",
              "      <td>[{'name': 'Odyssey Media', 'id': 17161}, {'nam...</td>\n",
              "      <td>NaN</td>\n",
              "      <td>82.0</td>\n",
              "      <td>Released</td>\n",
              "      <td>NaN</td>\n",
              "      <td>Avalanche Sharks</td>\n",
              "      <td>NaN</td>\n",
              "      <td>NaN</td>\n",
              "      <td>NaT</td>\n",
              "      <td>NaN</td>\n",
              "      <td>NaN</td>\n",
              "      <td>NaN</td>\n",
              "      <td>NaN</td>\n",
              "      <td>NaN</td>\n",
              "      <td>NaN</td>\n",
              "      <td>NaN</td>\n",
              "      <td>NaN</td>\n",
              "    </tr>\n",
              "  </tbody>\n",
              "</table>\n",
              "</div>"
            ],
            "text/plain": [
              "      belongs_to_collection  budget_musd  \\\n",
              "33826                   NaN    30.000000   \n",
              "5865                    NaN    30.000000   \n",
              "4114     Pokémon Collection    16.000000   \n",
              "44821    Pokémon Collection    16.000000   \n",
              "44826    Pokémon Collection          NaN   \n",
              "5535     Pokémon Collection          NaN   \n",
              "15765                   NaN     0.002500   \n",
              "11342                   NaN     0.002500   \n",
              "10419                   NaN     1.600000   \n",
              "12066                   NaN     1.600000   \n",
              "5130                    NaN    26.000000   \n",
              "33743                   NaN    26.000000   \n",
              "949                     NaN     0.000004   \n",
              "15074                   NaN     0.000004   \n",
              "9576                    NaN    10.000000   \n",
              "26625                   NaN    10.000000   \n",
              "20843                   NaN    40.000000   \n",
              "11155                   NaN    40.000000   \n",
              "21116                   NaN          NaN   \n",
              "2564                    NaN          NaN   \n",
              "20899                   NaN          NaN   \n",
              "5710                    NaN          NaN   \n",
              "23534                   NaN     3.512454   \n",
              "4356                    NaN     3.512454   \n",
              "30001                   NaN          NaN   \n",
              "838                     NaN          NaN   \n",
              "19730                   NaN          NaN   \n",
              "29503                   NaN          NaN   \n",
              "35587                   NaN          NaN   \n",
              "\n",
              "                                                  genres        id  \\\n",
              "33826  [{'id': 35, 'name': 'Comedy'}, {'id': 80, 'nam...    4912.0   \n",
              "5865   [{'id': 35, 'name': 'Comedy'}, {'id': 80, 'nam...    4912.0   \n",
              "4114   [{'id': 12, 'name': 'Adventure'}, {'id': 14, '...   10991.0   \n",
              "44821  [{'id': 12, 'name': 'Adventure'}, {'id': 14, '...   10991.0   \n",
              "44826  [{'id': 12, 'name': 'Adventure'}, {'id': 14, '...   12600.0   \n",
              "5535   [{'id': 12, 'name': 'Adventure'}, {'id': 14, '...   12600.0   \n",
              "15765  [{'id': 18, 'name': 'Drama'}, {'id': 35, 'name...   13209.0   \n",
              "11342  [{'id': 18, 'name': 'Drama'}, {'id': 35, 'name...   13209.0   \n",
              "10419  [{'id': 18, 'name': 'Drama'}, {'id': 80, 'name...   14788.0   \n",
              "12066  [{'id': 18, 'name': 'Drama'}, {'id': 80, 'name...   14788.0   \n",
              "5130   [{'id': 12, 'name': 'Adventure'}, {'id': 10751...   15028.0   \n",
              "33743  [{'id': 12, 'name': 'Adventure'}, {'id': 10751...   15028.0   \n",
              "949    [{'id': 18, 'name': 'Drama'}, {'id': 10749, 'n...   22649.0   \n",
              "15074  [{'id': 18, 'name': 'Drama'}, {'id': 10749, 'n...   22649.0   \n",
              "9576   [{'id': 18, 'name': 'Drama'}, {'id': 27, 'name...   69234.0   \n",
              "26625  [{'id': 18, 'name': 'Drama'}, {'id': 27, 'name...   69234.0   \n",
              "20843  [{'id': 12, 'name': 'Adventure'}, {'id': 18, '...   77221.0   \n",
              "11155  [{'id': 12, 'name': 'Adventure'}, {'id': 18, '...   77221.0   \n",
              "21116                [{'id': 99, 'name': 'Documentary'}]   84198.0   \n",
              "2564                 [{'id': 99, 'name': 'Documentary'}]   84198.0   \n",
              "20899                      [{'id': 18, 'name': 'Drama'}]  109962.0   \n",
              "5710                       [{'id': 18, 'name': 'Drama'}]  109962.0   \n",
              "23534                      [{'id': 18, 'name': 'Drama'}]  110428.0   \n",
              "4356                       [{'id': 18, 'name': 'Drama'}]  110428.0   \n",
              "30001                      [{'id': 18, 'name': 'Drama'}]  132641.0   \n",
              "838                        [{'id': 18, 'name': 'Drama'}]  132641.0   \n",
              "19730  [{'name': 'Carousel Productions', 'id': 11176}...       NaN   \n",
              "29503  [{'name': 'Aniplex', 'id': 2883}, {'name': 'Go...       NaN   \n",
              "35587  [{'name': 'Odyssey Media', 'id': 17161}, {'nam...       NaN   \n",
              "\n",
              "      original_language                                           overview  \\\n",
              "33826                en  Television made him famous, but his biggest hi...   \n",
              "5865                 en  Television made him famous, but his biggest hi...   \n",
              "4114                 ja  When Molly Hale's sadness of her father's disa...   \n",
              "44821                ja  When Molly Hale's sadness of her father's disa...   \n",
              "44826                ja  All your favorite Pokémon characters are back,...   \n",
              "5535                 ja  All your favorite Pokémon characters are back,...   \n",
              "15765                fa  Since women are banned from soccer matches, Ir...   \n",
              "11342                fa  Since women are banned from soccer matches, Ir...   \n",
              "10419                en  Set against the backdrop of a decaying Midwest...   \n",
              "12066                en  Set against the backdrop of a decaying Midwest...   \n",
              "5130                 en  Until now, Zak Gibbs' greatest challenge has b...   \n",
              "33743                en  Until now, Zak Gibbs' greatest challenge has b...   \n",
              "949                  en  British nurse Catherine Barkley (Helen Hayes) ...   \n",
              "15074                en  British nurse Catherine Barkley (Helen Hayes) ...   \n",
              "9576                 en  Count de Chagnie has discovered Christine's si...   \n",
              "26625                en  Count de Chagnie has discovered Christine's si...   \n",
              "20843                en  On the Arabian Peninsula in the 1930s, two war...   \n",
              "11155                en  On the Arabian Peninsula in the 1930s, two war...   \n",
              "21116                en  Using personal stories, this powerful document...   \n",
              "2564                 en  Using personal stories, this powerful document...   \n",
              "20899                en  Two literary women compete for 20 years: one w...   \n",
              "5710                 en  Two literary women compete for 20 years: one w...   \n",
              "23534                fr  Winter, 1915. Confined by her family to an asy...   \n",
              "4356                 fr  Winter, 1915. Confined by her family to an asy...   \n",
              "30001                ja  Ten years into a marriage, the wife is disappo...   \n",
              "838                  ja  Ten years into a marriage, the wife is disappo...   \n",
              "19730             104.0                                           Released   \n",
              "29503              68.0                                           Released   \n",
              "35587              82.0                                           Released   \n",
              "\n",
              "       popularity                          poster_path  \\\n",
              "33826    7.645827     /o3Im9nPLAgtlw1j2LtpMebAotSe.jpg   \n",
              "5865    11.331072     /o3Im9nPLAgtlw1j2LtpMebAotSe.jpg   \n",
              "4114    10.264597     /5ILjS6XB5deiHop8SXPsYxXWVPE.jpg   \n",
              "44821    6.480376     /5ILjS6XB5deiHop8SXPsYxXWVPE.jpg   \n",
              "44826    6.080108     /bqL0PVHbQ8Jmw3Njcl38kW0CoeM.jpg   \n",
              "5535     7.072301     /bqL0PVHbQ8Jmw3Njcl38kW0CoeM.jpg   \n",
              "15765    1.529879     /nfkOkpudNNIjRrf0mTFVoiGzHyc.jpg   \n",
              "11342    1.528960     /nfkOkpudNNIjRrf0mTFVoiGzHyc.jpg   \n",
              "10419    3.185256     /w56oo9nREcF54sNXVYuE9QxZFjT.jpg   \n",
              "12066    3.008299     /w56oo9nREcF54sNXVYuE9QxZFjT.jpg   \n",
              "5130     5.373623     /xGhDPrBz9mJN8CsIjA23jQSd3sc.jpg   \n",
              "33743    4.920175     /xGhDPrBz9mJN8CsIjA23jQSd3sc.jpg   \n",
              "949      1.914697     /k0MF0IIbJ2PfOIku2KyraXL72d8.jpg   \n",
              "15074    2.411191     /k0MF0IIbJ2PfOIku2KyraXL72d8.jpg   \n",
              "9576     0.441872     /ole8e9YQwvHoKVpWO0lgfLFFemc.jpg   \n",
              "26625    0.438490     /ole8e9YQwvHoKVpWO0lgfLFFemc.jpg   \n",
              "20843    6.475665     /iQd7zWhSeCe3cgdPcLIDXjGfdzL.jpg   \n",
              "11155    6.652197     /iQd7zWhSeCe3cgdPcLIDXjGfdzL.jpg   \n",
              "21116    1.673307     /jn8L1QdWWX5c0NUOLjzaSXtZrbt.jpg   \n",
              "2564     0.501046     /jn8L1QdWWX5c0NUOLjzaSXtZrbt.jpg   \n",
              "20899   10.396878     /tOflyY8eUFWubLKJH7fKg4KwpCl.jpg   \n",
              "5710    12.180836     /tOflyY8eUFWubLKJH7fKg4KwpCl.jpg   \n",
              "23534    0.110065     /sGMPDg6je1zKi0TiX9b4pP6yN02.jpg   \n",
              "4356     0.134014     /sGMPDg6je1zKi0TiX9b4pP6yN02.jpg   \n",
              "30001    0.619388     /z9WiHt5uQjs8L8tyBpRBKzlheF2.jpg   \n",
              "838      0.096079     /z9WiHt5uQjs8L8tyBpRBKzlheF2.jpg   \n",
              "19730         NaN                         Midnight Man   \n",
              "29503         NaN  Mardock Scramble: The Third Exhaust   \n",
              "35587         NaN                     Avalanche Sharks   \n",
              "\n",
              "                                    production_companies  \\\n",
              "33826         Miramax Films|Allied Filmmakers|Mad Chance   \n",
              "5865          Miramax Films|Allied Filmmakers|Mad Chance   \n",
              "4114   TV Tokyo|4 Kids Entertainment|Nintendo|Pikachu...   \n",
              "44821  TV Tokyo|4 Kids Entertainment|Nintendo|Pikachu...   \n",
              "44826                                                NaN   \n",
              "5535                                                 NaN   \n",
              "15765                      Jafar Panahi Film Productions   \n",
              "11342                      Jafar Panahi Film Productions   \n",
              "10419                    Magnolia Pictures|Extension 765   \n",
              "12066                    Magnolia Pictures|Extension 765   \n",
              "5130   Paramount Pictures|Nickelodeon Movies|Valhalla...   \n",
              "33743  Paramount Pictures|Nickelodeon Movies|Valhalla...   \n",
              "949                                   Paramount Pictures   \n",
              "15074                                 Paramount Pictures   \n",
              "9576   Beta Film|Reteitalia|TF1|Hexatel|Saban/Scheric...   \n",
              "26625  Beta Film|Reteitalia|TF1|Hexatel|Saban/Scheric...   \n",
              "20843  France 2 Cinéma|Quinta Communications|Carthago...   \n",
              "11155  France 2 Cinéma|Quinta Communications|Carthago...   \n",
              "21116                                                NaN   \n",
              "2564                                                 NaN   \n",
              "20899                   Metro-Goldwyn-Mayer (MGM)|Jaquet   \n",
              "5710                    Metro-Goldwyn-Mayer (MGM)|Jaquet   \n",
              "23534  Canal+|Arte France Cinéma|3B Productions|C.R.R...   \n",
              "4356   Canal+|Arte France Cinéma|3B Productions|C.R.R...   \n",
              "30001                                       Toho Company   \n",
              "838                                         Toho Company   \n",
              "19730                                                NaN   \n",
              "29503                                                NaN   \n",
              "35587                                                NaN   \n",
              "\n",
              "       production_countries release_date  revenue_musd  runtime  \\\n",
              "33826                   NaN   2002-12-30     33.013805    113.0   \n",
              "5865                    NaN   2002-12-30     33.013805    113.0   \n",
              "4114                    NaN   2000-07-08     68.411275     93.0   \n",
              "44821                   NaN   2000-07-08     68.411275     93.0   \n",
              "44826                   NaN   2001-07-06     28.023563     75.0   \n",
              "5535                    NaN   2001-07-06     28.023563     75.0   \n",
              "15765                   NaN   2006-05-26           NaN     93.0   \n",
              "11342                   NaN   2006-05-26           NaN     93.0   \n",
              "10419                   NaN   2005-09-03           NaN     73.0   \n",
              "12066                   NaN   2005-09-03           NaN     73.0   \n",
              "5130                    NaN   2002-03-17     38.793283     94.0   \n",
              "33743                   NaN   2002-03-17     38.793283     94.0   \n",
              "949                     NaN   1932-12-08      0.000025     89.0   \n",
              "15074                   NaN   1932-12-08      0.000025     89.0   \n",
              "9576                    NaN   1990-03-18           NaN    168.0   \n",
              "26625                   NaN   1990-03-18           NaN    168.0   \n",
              "20843                   NaN   2011-12-21      5.446000    130.0   \n",
              "11155                   NaN   2011-12-21      5.446000    130.0   \n",
              "21116                   NaN   2012-03-22           NaN     84.0   \n",
              "2564                    NaN   2012-03-22           NaN     84.0   \n",
              "20899                   NaN   1981-09-23           NaN    115.0   \n",
              "5710                    NaN   1981-09-23           NaN    115.0   \n",
              "23534                   NaN   2013-03-13      0.115860     95.0   \n",
              "4356                    NaN   2013-03-13      0.115860     95.0   \n",
              "30001                   NaN   1953-04-29           NaN     89.0   \n",
              "838                     NaN   1953-04-29           NaN     89.0   \n",
              "19730                   NaN          NaT           NaN      NaN   \n",
              "29503                   NaN          NaT           NaN      NaN   \n",
              "35587                   NaN          NaT           NaN      NaN   \n",
              "\n",
              "       spoken_languages    status  \\\n",
              "33826           English  Released   \n",
              "5865            English  Released   \n",
              "4114            English  Released   \n",
              "44821           English  Released   \n",
              "44826               日本語  Released   \n",
              "5535                日本語  Released   \n",
              "15765             فارسی  Released   \n",
              "11342             فارسی  Released   \n",
              "10419           English  Released   \n",
              "12066           English  Released   \n",
              "5130      Český|English  Released   \n",
              "33743     Český|English  Released   \n",
              "949             English  Released   \n",
              "15074           English  Released   \n",
              "9576   English|Italiano  Released   \n",
              "26625  English|Italiano  Released   \n",
              "20843           English  Released   \n",
              "11155           English  Released   \n",
              "21116           English  Released   \n",
              "2564            English  Released   \n",
              "20899           English  Released   \n",
              "5710            English  Released   \n",
              "23534          Français  Released   \n",
              "4356           Français  Released   \n",
              "30001               日本語  Released   \n",
              "838                 日本語  Released   \n",
              "19730               NaN       NaN   \n",
              "29503               NaN       NaN   \n",
              "35587               NaN       NaN   \n",
              "\n",
              "                                                 tagline  \\\n",
              "33826            Some things are better left top secret.   \n",
              "5865             Some things are better left top secret.   \n",
              "4114                       Pokémon: Spell of the Unknown   \n",
              "44821                      Pokémon: Spell of the Unknown   \n",
              "44826                                                NaN   \n",
              "5535                                                 NaN   \n",
              "15765                                                NaN   \n",
              "11342                                                NaN   \n",
              "10419                                                NaN   \n",
              "12066                                                NaN   \n",
              "5130   The adventure of a lifetime, in a few mere sec...   \n",
              "33743  The adventure of a lifetime, in a few mere sec...   \n",
              "949            Every woman who has loved will understand   \n",
              "15074          Every woman who has loved will understand   \n",
              "9576                                                 NaN   \n",
              "26625                                                NaN   \n",
              "20843                                                NaN   \n",
              "11155                                                NaN   \n",
              "21116                              One Nation. Underfed.   \n",
              "2564                               One Nation. Underfed.   \n",
              "20899  From the very beginning, they knew they'd be f...   \n",
              "5710   From the very beginning, they knew they'd be f...   \n",
              "23534                                                NaN   \n",
              "4356                                                 NaN   \n",
              "30001                                                NaN   \n",
              "838                                                  NaN   \n",
              "19730                                                NaN   \n",
              "29503                                                NaN   \n",
              "35587                                                NaN   \n",
              "\n",
              "                                             title  vote_average  vote_count  \n",
              "33826              Confessions of a Dangerous Mind           6.6       281.0  \n",
              "5865               Confessions of a Dangerous Mind           6.6       281.0  \n",
              "4114                 Pokémon: Spell of the Unknown           6.0       143.0  \n",
              "44821                Pokémon: Spell of the Unknown           6.0       144.0  \n",
              "44826  Pokémon 4Ever: Celebi - Voice of the Forest           5.7        82.0  \n",
              "5535   Pokémon 4Ever: Celebi - Voice of the Forest           5.7        82.0  \n",
              "15765                                      Offside           6.7        27.0  \n",
              "11342                                      Offside           6.7        27.0  \n",
              "10419                                       Bubble           6.4        36.0  \n",
              "12066                                       Bubble           6.4        36.0  \n",
              "5130                                 Clockstoppers           4.9        89.0  \n",
              "33743                                Clockstoppers           4.9        90.0  \n",
              "949                             A Farewell to Arms           6.2        29.0  \n",
              "15074                           A Farewell to Arms           6.2        29.0  \n",
              "9576                      The Phantom of the Opera           5.0         3.0  \n",
              "26625                     The Phantom of the Opera           5.0         3.0  \n",
              "20843                                   Black Gold           5.9        77.0  \n",
              "11155                                   Black Gold           5.9        77.0  \n",
              "21116                         A Place at the Table           6.9         7.0  \n",
              "2564                          A Place at the Table           6.9         7.0  \n",
              "20899                              Rich and Famous           4.9         7.0  \n",
              "5710                               Rich and Famous           4.9         7.0  \n",
              "23534                         Camille Claudel 1915           7.0        20.0  \n",
              "4356                          Camille Claudel 1915           7.0        20.0  \n",
              "30001                                         Wife           NaN         0.0  \n",
              "838                                           Wife           NaN         0.0  \n",
              "19730                                          NaN           NaN         NaN  \n",
              "29503                                          NaN           NaN         NaN  \n",
              "35587                                          NaN           NaN         NaN  "
            ]
          },
          "metadata": {},
          "execution_count": 397
        }
      ]
    },
    {
      "cell_type": "code",
      "metadata": {
        "id": "AYHhwLwdVaV8"
      },
      "source": [
        "df.drop_duplicates(subset='id', inplace=True)"
      ],
      "execution_count": 398,
      "outputs": []
    },
    {
      "cell_type": "code",
      "metadata": {
        "colab": {
          "base_uri": "https://localhost:8080/"
        },
        "id": "TimEeiOjVjDA",
        "outputId": "4e463df3-2fe1-4d2a-b476-b6054c7a9af7"
      },
      "source": [
        "df.id.value_counts(dropna=False)"
      ],
      "execution_count": 399,
      "outputs": [
        {
          "output_type": "execute_result",
          "data": {
            "text/plain": [
              "287281.0    1\n",
              "42323.0     1\n",
              "42612.0     1\n",
              "6473.0      1\n",
              "38225.0     1\n",
              "           ..\n",
              "37942.0     1\n",
              "64572.0     1\n",
              "103751.0    1\n",
              "255885.0    1\n",
              "1408.0      1\n",
              "Name: id, Length: 45434, dtype: int64"
            ]
          },
          "metadata": {},
          "execution_count": 399
        }
      ]
    },
    {
      "cell_type": "markdown",
      "metadata": {
        "id": "xAKwBoshWkV6"
      },
      "source": [
        "- Handling Missing Values & Removing Observations"
      ]
    },
    {
      "cell_type": "code",
      "metadata": {
        "colab": {
          "base_uri": "https://localhost:8080/"
        },
        "id": "Rkv_QW_nVlwJ",
        "outputId": "dc9b45e3-b766-471e-a6ac-b55114ed57be"
      },
      "source": [
        "df.info()"
      ],
      "execution_count": 400,
      "outputs": [
        {
          "output_type": "stream",
          "name": "stdout",
          "text": [
            "<class 'pandas.core.frame.DataFrame'>\n",
            "Int64Index: 45434 entries, 0 to 45465\n",
            "Data columns (total 19 columns):\n",
            " #   Column                 Non-Null Count  Dtype         \n",
            "---  ------                 --------------  -----         \n",
            " 0   belongs_to_collection  4488 non-null   object        \n",
            " 1   budget_musd            8880 non-null   float64       \n",
            " 2   genres                 45434 non-null  object        \n",
            " 3   id                     45433 non-null  float64       \n",
            " 4   original_language      45423 non-null  object        \n",
            " 5   overview               44335 non-null  object        \n",
            " 6   popularity             45430 non-null  float64       \n",
            " 7   poster_path            45048 non-null  object        \n",
            " 8   production_companies   33562 non-null  object        \n",
            " 9   production_countries   0 non-null      float64       \n",
            " 10  release_date           45346 non-null  datetime64[ns]\n",
            " 11  revenue_musd           7398 non-null   float64       \n",
            " 12  runtime                43615 non-null  float64       \n",
            " 13  spoken_languages       41480 non-null  object        \n",
            " 14  status                 45349 non-null  object        \n",
            " 15  tagline                20397 non-null  object        \n",
            " 16  title                  45430 non-null  object        \n",
            " 17  vote_average           42534 non-null  float64       \n",
            " 18  vote_count             45430 non-null  float64       \n",
            "dtypes: datetime64[ns](1), float64(8), object(10)\n",
            "memory usage: 6.9+ MB\n"
          ]
        }
      ]
    },
    {
      "cell_type": "code",
      "metadata": {
        "colab": {
          "base_uri": "https://localhost:8080/"
        },
        "id": "uic_Ing7WrPx",
        "outputId": "e0107d4f-3f51-4c94-8f14-8e7c4dd0910e"
      },
      "source": [
        "#Check null values \n",
        "df.isna().sum()"
      ],
      "execution_count": 401,
      "outputs": [
        {
          "output_type": "execute_result",
          "data": {
            "text/plain": [
              "belongs_to_collection    40946\n",
              "budget_musd              36554\n",
              "genres                       0\n",
              "id                           1\n",
              "original_language           11\n",
              "overview                  1099\n",
              "popularity                   4\n",
              "poster_path                386\n",
              "production_companies     11872\n",
              "production_countries     45434\n",
              "release_date                88\n",
              "revenue_musd             38036\n",
              "runtime                   1819\n",
              "spoken_languages          3954\n",
              "status                      85\n",
              "tagline                  25037\n",
              "title                        4\n",
              "vote_average              2900\n",
              "vote_count                   4\n",
              "dtype: int64"
            ]
          },
          "metadata": {},
          "execution_count": 401
        }
      ]
    },
    {
      "cell_type": "code",
      "metadata": {
        "colab": {
          "base_uri": "https://localhost:8080/",
          "height": 465
        },
        "id": "_dXlS7kxXmD4",
        "outputId": "a2de0fd3-ff5f-4e20-8ea2-1e717a29da32"
      },
      "source": [
        "#NaN with title\n",
        "df[df.title.isna()]"
      ],
      "execution_count": 402,
      "outputs": [
        {
          "output_type": "execute_result",
          "data": {
            "text/html": [
              "<div>\n",
              "<style scoped>\n",
              "    .dataframe tbody tr th:only-of-type {\n",
              "        vertical-align: middle;\n",
              "    }\n",
              "\n",
              "    .dataframe tbody tr th {\n",
              "        vertical-align: top;\n",
              "    }\n",
              "\n",
              "    .dataframe thead th {\n",
              "        text-align: right;\n",
              "    }\n",
              "</style>\n",
              "<table border=\"1\" class=\"dataframe\">\n",
              "  <thead>\n",
              "    <tr style=\"text-align: right;\">\n",
              "      <th></th>\n",
              "      <th>belongs_to_collection</th>\n",
              "      <th>budget_musd</th>\n",
              "      <th>genres</th>\n",
              "      <th>id</th>\n",
              "      <th>original_language</th>\n",
              "      <th>overview</th>\n",
              "      <th>popularity</th>\n",
              "      <th>poster_path</th>\n",
              "      <th>production_companies</th>\n",
              "      <th>production_countries</th>\n",
              "      <th>release_date</th>\n",
              "      <th>revenue_musd</th>\n",
              "      <th>runtime</th>\n",
              "      <th>spoken_languages</th>\n",
              "      <th>status</th>\n",
              "      <th>tagline</th>\n",
              "      <th>title</th>\n",
              "      <th>vote_average</th>\n",
              "      <th>vote_count</th>\n",
              "    </tr>\n",
              "  </thead>\n",
              "  <tbody>\n",
              "    <tr>\n",
              "      <th>19729</th>\n",
              "      <td>NaN</td>\n",
              "      <td>NaN</td>\n",
              "      <td>[{'id': 28, 'name': 'Action'}, {'id': 53, 'nam...</td>\n",
              "      <td>82663.0</td>\n",
              "      <td>en</td>\n",
              "      <td>British soldiers force a recently captured IRA...</td>\n",
              "      <td>NaN</td>\n",
              "      <td>NaN</td>\n",
              "      <td>NaN</td>\n",
              "      <td>NaN</td>\n",
              "      <td>NaT</td>\n",
              "      <td>NaN</td>\n",
              "      <td>NaN</td>\n",
              "      <td>NaN</td>\n",
              "      <td>NaN</td>\n",
              "      <td>NaN</td>\n",
              "      <td>NaN</td>\n",
              "      <td>NaN</td>\n",
              "      <td>NaN</td>\n",
              "    </tr>\n",
              "    <tr>\n",
              "      <th>19730</th>\n",
              "      <td>NaN</td>\n",
              "      <td>NaN</td>\n",
              "      <td>[{'name': 'Carousel Productions', 'id': 11176}...</td>\n",
              "      <td>NaN</td>\n",
              "      <td>104.0</td>\n",
              "      <td>Released</td>\n",
              "      <td>NaN</td>\n",
              "      <td>Midnight Man</td>\n",
              "      <td>NaN</td>\n",
              "      <td>NaN</td>\n",
              "      <td>NaT</td>\n",
              "      <td>NaN</td>\n",
              "      <td>NaN</td>\n",
              "      <td>NaN</td>\n",
              "      <td>NaN</td>\n",
              "      <td>NaN</td>\n",
              "      <td>NaN</td>\n",
              "      <td>NaN</td>\n",
              "      <td>NaN</td>\n",
              "    </tr>\n",
              "    <tr>\n",
              "      <th>29502</th>\n",
              "      <td>Mardock Scramble Collection</td>\n",
              "      <td>NaN</td>\n",
              "      <td>[{'id': 16, 'name': 'Animation'}, {'id': 878, ...</td>\n",
              "      <td>122662.0</td>\n",
              "      <td>ja</td>\n",
              "      <td>Third film of the Mardock Scramble series.</td>\n",
              "      <td>NaN</td>\n",
              "      <td>NaN</td>\n",
              "      <td>NaN</td>\n",
              "      <td>NaN</td>\n",
              "      <td>NaT</td>\n",
              "      <td>NaN</td>\n",
              "      <td>NaN</td>\n",
              "      <td>NaN</td>\n",
              "      <td>NaN</td>\n",
              "      <td>NaN</td>\n",
              "      <td>NaN</td>\n",
              "      <td>NaN</td>\n",
              "      <td>NaN</td>\n",
              "    </tr>\n",
              "    <tr>\n",
              "      <th>35586</th>\n",
              "      <td>NaN</td>\n",
              "      <td>NaN</td>\n",
              "      <td>[{'id': 10770, 'name': 'TV Movie'}, {'id': 28,...</td>\n",
              "      <td>249260.0</td>\n",
              "      <td>en</td>\n",
              "      <td>A group of skiers are terrorized during spring...</td>\n",
              "      <td>NaN</td>\n",
              "      <td>NaN</td>\n",
              "      <td>NaN</td>\n",
              "      <td>NaN</td>\n",
              "      <td>NaT</td>\n",
              "      <td>NaN</td>\n",
              "      <td>NaN</td>\n",
              "      <td>NaN</td>\n",
              "      <td>NaN</td>\n",
              "      <td>NaN</td>\n",
              "      <td>NaN</td>\n",
              "      <td>NaN</td>\n",
              "      <td>NaN</td>\n",
              "    </tr>\n",
              "  </tbody>\n",
              "</table>\n",
              "</div>"
            ],
            "text/plain": [
              "             belongs_to_collection  budget_musd  \\\n",
              "19729                          NaN          NaN   \n",
              "19730                          NaN          NaN   \n",
              "29502  Mardock Scramble Collection          NaN   \n",
              "35586                          NaN          NaN   \n",
              "\n",
              "                                                  genres        id  \\\n",
              "19729  [{'id': 28, 'name': 'Action'}, {'id': 53, 'nam...   82663.0   \n",
              "19730  [{'name': 'Carousel Productions', 'id': 11176}...       NaN   \n",
              "29502  [{'id': 16, 'name': 'Animation'}, {'id': 878, ...  122662.0   \n",
              "35586  [{'id': 10770, 'name': 'TV Movie'}, {'id': 28,...  249260.0   \n",
              "\n",
              "      original_language                                           overview  \\\n",
              "19729                en  British soldiers force a recently captured IRA...   \n",
              "19730             104.0                                           Released   \n",
              "29502                ja         Third film of the Mardock Scramble series.   \n",
              "35586                en  A group of skiers are terrorized during spring...   \n",
              "\n",
              "       popularity   poster_path production_companies  production_countries  \\\n",
              "19729         NaN           NaN                  NaN                   NaN   \n",
              "19730         NaN  Midnight Man                  NaN                   NaN   \n",
              "29502         NaN           NaN                  NaN                   NaN   \n",
              "35586         NaN           NaN                  NaN                   NaN   \n",
              "\n",
              "      release_date  revenue_musd  runtime spoken_languages status tagline  \\\n",
              "19729          NaT           NaN      NaN              NaN    NaN     NaN   \n",
              "19730          NaT           NaN      NaN              NaN    NaN     NaN   \n",
              "29502          NaT           NaN      NaN              NaN    NaN     NaN   \n",
              "35586          NaT           NaN      NaN              NaN    NaN     NaN   \n",
              "\n",
              "      title  vote_average  vote_count  \n",
              "19729   NaN           NaN         NaN  \n",
              "19730   NaN           NaN         NaN  \n",
              "29502   NaN           NaN         NaN  \n",
              "35586   NaN           NaN         NaN  "
            ]
          },
          "metadata": {},
          "execution_count": 402
        }
      ]
    },
    {
      "cell_type": "code",
      "metadata": {
        "id": "Zw0pMaXUWxXN"
      },
      "source": [
        "#df.isnull().sum()"
      ],
      "execution_count": 403,
      "outputs": []
    },
    {
      "cell_type": "code",
      "metadata": {
        "id": "VND8O0OEW1xM"
      },
      "source": [
        "#Drop NaN within column=id, title\n",
        "df.dropna(subset=['id','title'], inplace=True)"
      ],
      "execution_count": 404,
      "outputs": []
    },
    {
      "cell_type": "code",
      "metadata": {
        "colab": {
          "base_uri": "https://localhost:8080/"
        },
        "id": "8UHcgzifXHuG",
        "outputId": "c78e21f8-94e4-4a1d-fba5-3cd268600864"
      },
      "source": [
        "df.isna().sum()"
      ],
      "execution_count": 405,
      "outputs": [
        {
          "output_type": "execute_result",
          "data": {
            "text/plain": [
              "belongs_to_collection    40943\n",
              "budget_musd              36550\n",
              "genres                       0\n",
              "id                           0\n",
              "original_language           11\n",
              "overview                  1099\n",
              "popularity                   0\n",
              "poster_path                383\n",
              "production_companies     11868\n",
              "production_countries     45430\n",
              "release_date                84\n",
              "revenue_musd             38032\n",
              "runtime                   1815\n",
              "spoken_languages          3950\n",
              "status                      81\n",
              "tagline                  25033\n",
              "title                        0\n",
              "vote_average              2896\n",
              "vote_count                   0\n",
              "dtype: int64"
            ]
          },
          "metadata": {},
          "execution_count": 405
        }
      ]
    },
    {
      "cell_type": "code",
      "metadata": {
        "id": "0Rrgl3vsXJyo"
      },
      "source": [
        "#Convert id in int \n",
        "df.id=df.id.astype('int')"
      ],
      "execution_count": 406,
      "outputs": []
    },
    {
      "cell_type": "code",
      "metadata": {
        "colab": {
          "base_uri": "https://localhost:8080/"
        },
        "id": "OCqsWrlUXXsG",
        "outputId": "f2f319dc-44fa-4156-df3b-32b430fd2aa5"
      },
      "source": [
        "# How many non missing values \n",
        "df.notna().sum(axis=1)#.value_counts().sort_values(ascending=False)"
      ],
      "execution_count": 407,
      "outputs": [
        {
          "output_type": "execute_result",
          "data": {
            "text/plain": [
              "0        17\n",
              "1        17\n",
              "2        16\n",
              "3        17\n",
              "4        17\n",
              "         ..\n",
              "45461    13\n",
              "45462    13\n",
              "45463    15\n",
              "45464    12\n",
              "45465    12\n",
              "Length: 45430, dtype: int64"
            ]
          },
          "metadata": {},
          "execution_count": 407
        }
      ]
    },
    {
      "cell_type": "code",
      "metadata": {
        "colab": {
          "base_uri": "https://localhost:8080/"
        },
        "id": "Zz3xG724YpSw",
        "outputId": "920912f5-811e-4455-d36c-505594c35b1e"
      },
      "source": [
        "df.notna().sum(axis=1).value_counts().sort_values(ascending=False)"
      ],
      "execution_count": 408,
      "outputs": [
        {
          "output_type": "execute_result",
          "data": {
            "text/plain": [
              "14    13424\n",
              "15    11698\n",
              "13     6746\n",
              "16     4329\n",
              "17     3868\n",
              "12     2653\n",
              "18     1132\n",
              "11     1052\n",
              "10      370\n",
              "9       129\n",
              "8        23\n",
              "7         6\n",
              "dtype: int64"
            ]
          },
          "metadata": {},
          "execution_count": 408
        }
      ]
    },
    {
      "cell_type": "code",
      "metadata": {
        "colab": {
          "base_uri": "https://localhost:8080/",
          "height": 69
        },
        "id": "_V2fWbYmY22h",
        "outputId": "793b30fd-2338-4f0f-ddd0-5384f77736da"
      },
      "source": [
        "# Non missing 6 rows \n",
        "df[df.notna().sum(axis=1)==6]"
      ],
      "execution_count": 409,
      "outputs": [
        {
          "output_type": "execute_result",
          "data": {
            "text/html": [
              "<div>\n",
              "<style scoped>\n",
              "    .dataframe tbody tr th:only-of-type {\n",
              "        vertical-align: middle;\n",
              "    }\n",
              "\n",
              "    .dataframe tbody tr th {\n",
              "        vertical-align: top;\n",
              "    }\n",
              "\n",
              "    .dataframe thead th {\n",
              "        text-align: right;\n",
              "    }\n",
              "</style>\n",
              "<table border=\"1\" class=\"dataframe\">\n",
              "  <thead>\n",
              "    <tr style=\"text-align: right;\">\n",
              "      <th></th>\n",
              "      <th>belongs_to_collection</th>\n",
              "      <th>budget_musd</th>\n",
              "      <th>genres</th>\n",
              "      <th>id</th>\n",
              "      <th>original_language</th>\n",
              "      <th>overview</th>\n",
              "      <th>popularity</th>\n",
              "      <th>poster_path</th>\n",
              "      <th>production_companies</th>\n",
              "      <th>production_countries</th>\n",
              "      <th>release_date</th>\n",
              "      <th>revenue_musd</th>\n",
              "      <th>runtime</th>\n",
              "      <th>spoken_languages</th>\n",
              "      <th>status</th>\n",
              "      <th>tagline</th>\n",
              "      <th>title</th>\n",
              "      <th>vote_average</th>\n",
              "      <th>vote_count</th>\n",
              "    </tr>\n",
              "  </thead>\n",
              "  <tbody>\n",
              "  </tbody>\n",
              "</table>\n",
              "</div>"
            ],
            "text/plain": [
              "Empty DataFrame\n",
              "Columns: [belongs_to_collection, budget_musd, genres, id, original_language, overview, popularity, poster_path, production_companies, production_countries, release_date, revenue_musd, runtime, spoken_languages, status, tagline, title, vote_average, vote_count]\n",
              "Index: []"
            ]
          },
          "metadata": {},
          "execution_count": 409
        }
      ]
    },
    {
      "cell_type": "code",
      "metadata": {
        "colab": {
          "base_uri": "https://localhost:8080/"
        },
        "id": "Z0m7V6b5ZIHT",
        "outputId": "09fe07f8-944d-4fc0-e076-73c9e01159f9"
      },
      "source": [
        "#Drop NaN more than 10 NaN \n",
        "df.isna().sum()"
      ],
      "execution_count": 410,
      "outputs": [
        {
          "output_type": "execute_result",
          "data": {
            "text/plain": [
              "belongs_to_collection    40943\n",
              "budget_musd              36550\n",
              "genres                       0\n",
              "id                           0\n",
              "original_language           11\n",
              "overview                  1099\n",
              "popularity                   0\n",
              "poster_path                383\n",
              "production_companies     11868\n",
              "production_countries     45430\n",
              "release_date                84\n",
              "revenue_musd             38032\n",
              "runtime                   1815\n",
              "spoken_languages          3950\n",
              "status                      81\n",
              "tagline                  25033\n",
              "title                        0\n",
              "vote_average              2896\n",
              "vote_count                   0\n",
              "dtype: int64"
            ]
          },
          "metadata": {},
          "execution_count": 410
        }
      ]
    },
    {
      "cell_type": "code",
      "metadata": {
        "id": "TSQMYSbNZYN4"
      },
      "source": [
        "df.dropna(thresh=10, inplace=True)"
      ],
      "execution_count": 411,
      "outputs": []
    },
    {
      "cell_type": "code",
      "metadata": {
        "colab": {
          "base_uri": "https://localhost:8080/"
        },
        "id": "9OV0hGOiZhzt",
        "outputId": "fe60334b-7a9a-4b31-e989-23ed5359651f"
      },
      "source": [
        "df.isna().sum()"
      ],
      "execution_count": 412,
      "outputs": [
        {
          "output_type": "execute_result",
          "data": {
            "text/plain": [
              "belongs_to_collection    40785\n",
              "budget_musd              36392\n",
              "genres                       0\n",
              "id                           0\n",
              "original_language           10\n",
              "overview                  1018\n",
              "popularity                   0\n",
              "poster_path                284\n",
              "production_companies     11710\n",
              "production_countries     45272\n",
              "release_date                49\n",
              "revenue_musd             37874\n",
              "runtime                   1667\n",
              "spoken_languages          3803\n",
              "status                      71\n",
              "tagline                  24875\n",
              "title                        0\n",
              "vote_average              2750\n",
              "vote_count                   0\n",
              "dtype: int64"
            ]
          },
          "metadata": {},
          "execution_count": 412
        }
      ]
    },
    {
      "cell_type": "code",
      "metadata": {
        "colab": {
          "base_uri": "https://localhost:8080/"
        },
        "id": "Wpzm2g96Zj6B",
        "outputId": "76eb8da9-7e2f-4828-9705-5654455ada8f"
      },
      "source": [
        "df.info()"
      ],
      "execution_count": 413,
      "outputs": [
        {
          "output_type": "stream",
          "name": "stdout",
          "text": [
            "<class 'pandas.core.frame.DataFrame'>\n",
            "Int64Index: 45272 entries, 0 to 45465\n",
            "Data columns (total 19 columns):\n",
            " #   Column                 Non-Null Count  Dtype         \n",
            "---  ------                 --------------  -----         \n",
            " 0   belongs_to_collection  4487 non-null   object        \n",
            " 1   budget_musd            8880 non-null   float64       \n",
            " 2   genres                 45272 non-null  object        \n",
            " 3   id                     45272 non-null  int64         \n",
            " 4   original_language      45262 non-null  object        \n",
            " 5   overview               44254 non-null  object        \n",
            " 6   popularity             45272 non-null  float64       \n",
            " 7   poster_path            44988 non-null  object        \n",
            " 8   production_companies   33562 non-null  object        \n",
            " 9   production_countries   0 non-null      float64       \n",
            " 10  release_date           45223 non-null  datetime64[ns]\n",
            " 11  revenue_musd           7398 non-null   float64       \n",
            " 12  runtime                43605 non-null  float64       \n",
            " 13  spoken_languages       41469 non-null  object        \n",
            " 14  status                 45201 non-null  object        \n",
            " 15  tagline                20397 non-null  object        \n",
            " 16  title                  45272 non-null  object        \n",
            " 17  vote_average           42522 non-null  float64       \n",
            " 18  vote_count             45272 non-null  float64       \n",
            "dtypes: datetime64[ns](1), float64(7), int64(1), object(10)\n",
            "memory usage: 6.9+ MB\n"
          ]
        }
      ]
    },
    {
      "cell_type": "markdown",
      "metadata": {
        "id": "13418dJ_aFUH"
      },
      "source": [
        "- Final (Cleaning) Steps"
      ]
    },
    {
      "cell_type": "code",
      "metadata": {
        "colab": {
          "base_uri": "https://localhost:8080/"
        },
        "id": "GWiP5E-tZ8nI",
        "outputId": "2a8ad724-5c08-4313-8943-a4aeacdd55a7"
      },
      "source": [
        "df.status.value_counts()"
      ],
      "execution_count": 414,
      "outputs": [
        {
          "output_type": "execute_result",
          "data": {
            "text/plain": [
              "Released           44838\n",
              "Rumored              228\n",
              "Post Production       98\n",
              "In Production         20\n",
              "Planned               15\n",
              "Canceled               2\n",
              "Name: status, dtype: int64"
            ]
          },
          "metadata": {},
          "execution_count": 414
        }
      ]
    },
    {
      "cell_type": "code",
      "metadata": {
        "id": "4OLarE_baJ7i"
      },
      "source": [
        "#Only interested to Released movies\n",
        "df=df.loc[df.status=='Released'].copy()"
      ],
      "execution_count": 415,
      "outputs": []
    },
    {
      "cell_type": "code",
      "metadata": {
        "id": "LeaSikfDaZVe"
      },
      "source": [
        "#Drop status \n",
        "df.drop(columns=['status'], inplace=True)"
      ],
      "execution_count": 416,
      "outputs": []
    },
    {
      "cell_type": "code",
      "metadata": {
        "colab": {
          "base_uri": "https://localhost:8080/",
          "height": 666
        },
        "id": "BW5iFb9Lahay",
        "outputId": "cfdce56f-5019-4f21-bc42-51585dc64fc6"
      },
      "source": [
        "df.head()"
      ],
      "execution_count": 417,
      "outputs": [
        {
          "output_type": "execute_result",
          "data": {
            "text/html": [
              "<div>\n",
              "<style scoped>\n",
              "    .dataframe tbody tr th:only-of-type {\n",
              "        vertical-align: middle;\n",
              "    }\n",
              "\n",
              "    .dataframe tbody tr th {\n",
              "        vertical-align: top;\n",
              "    }\n",
              "\n",
              "    .dataframe thead th {\n",
              "        text-align: right;\n",
              "    }\n",
              "</style>\n",
              "<table border=\"1\" class=\"dataframe\">\n",
              "  <thead>\n",
              "    <tr style=\"text-align: right;\">\n",
              "      <th></th>\n",
              "      <th>belongs_to_collection</th>\n",
              "      <th>budget_musd</th>\n",
              "      <th>genres</th>\n",
              "      <th>id</th>\n",
              "      <th>original_language</th>\n",
              "      <th>overview</th>\n",
              "      <th>popularity</th>\n",
              "      <th>poster_path</th>\n",
              "      <th>production_companies</th>\n",
              "      <th>production_countries</th>\n",
              "      <th>release_date</th>\n",
              "      <th>revenue_musd</th>\n",
              "      <th>runtime</th>\n",
              "      <th>spoken_languages</th>\n",
              "      <th>tagline</th>\n",
              "      <th>title</th>\n",
              "      <th>vote_average</th>\n",
              "      <th>vote_count</th>\n",
              "    </tr>\n",
              "  </thead>\n",
              "  <tbody>\n",
              "    <tr>\n",
              "      <th>0</th>\n",
              "      <td>Toy Story Collection</td>\n",
              "      <td>30.0</td>\n",
              "      <td>[{'id': 16, 'name': 'Animation'}, {'id': 35, '...</td>\n",
              "      <td>862</td>\n",
              "      <td>en</td>\n",
              "      <td>Led by Woody, Andy's toys live happily in his ...</td>\n",
              "      <td>21.946943</td>\n",
              "      <td>/rhIRbceoE9lR4veEXuwCC2wARtG.jpg</td>\n",
              "      <td>Pixar Animation Studios</td>\n",
              "      <td>NaN</td>\n",
              "      <td>1995-10-30</td>\n",
              "      <td>373.554033</td>\n",
              "      <td>81.0</td>\n",
              "      <td>English</td>\n",
              "      <td>NaN</td>\n",
              "      <td>Toy Story</td>\n",
              "      <td>7.7</td>\n",
              "      <td>5415.0</td>\n",
              "    </tr>\n",
              "    <tr>\n",
              "      <th>1</th>\n",
              "      <td>NaN</td>\n",
              "      <td>65.0</td>\n",
              "      <td>[{'id': 12, 'name': 'Adventure'}, {'id': 14, '...</td>\n",
              "      <td>8844</td>\n",
              "      <td>en</td>\n",
              "      <td>When siblings Judy and Peter discover an encha...</td>\n",
              "      <td>17.015539</td>\n",
              "      <td>/vzmL6fP7aPKNKPRTFnZmiUfciyV.jpg</td>\n",
              "      <td>TriStar Pictures|Teitler Film|Interscope Commu...</td>\n",
              "      <td>NaN</td>\n",
              "      <td>1995-12-15</td>\n",
              "      <td>262.797249</td>\n",
              "      <td>104.0</td>\n",
              "      <td>English|Français</td>\n",
              "      <td>Roll the dice and unleash the excitement!</td>\n",
              "      <td>Jumanji</td>\n",
              "      <td>6.9</td>\n",
              "      <td>2413.0</td>\n",
              "    </tr>\n",
              "    <tr>\n",
              "      <th>2</th>\n",
              "      <td>Grumpy Old Men Collection</td>\n",
              "      <td>NaN</td>\n",
              "      <td>[{'id': 10749, 'name': 'Romance'}, {'id': 35, ...</td>\n",
              "      <td>15602</td>\n",
              "      <td>en</td>\n",
              "      <td>A family wedding reignites the ancient feud be...</td>\n",
              "      <td>11.712900</td>\n",
              "      <td>/6ksm1sjKMFLbO7UY2i6G1ju9SML.jpg</td>\n",
              "      <td>Warner Bros.|Lancaster Gate</td>\n",
              "      <td>NaN</td>\n",
              "      <td>1995-12-22</td>\n",
              "      <td>NaN</td>\n",
              "      <td>101.0</td>\n",
              "      <td>English</td>\n",
              "      <td>Still Yelling. Still Fighting. Still Ready for...</td>\n",
              "      <td>Grumpier Old Men</td>\n",
              "      <td>6.5</td>\n",
              "      <td>92.0</td>\n",
              "    </tr>\n",
              "    <tr>\n",
              "      <th>3</th>\n",
              "      <td>NaN</td>\n",
              "      <td>16.0</td>\n",
              "      <td>[{'id': 35, 'name': 'Comedy'}, {'id': 18, 'nam...</td>\n",
              "      <td>31357</td>\n",
              "      <td>en</td>\n",
              "      <td>Cheated on, mistreated and stepped on, the wom...</td>\n",
              "      <td>3.859495</td>\n",
              "      <td>/16XOMpEaLWkrcPqSQqhTmeJuqQl.jpg</td>\n",
              "      <td>Twentieth Century Fox Film Corporation</td>\n",
              "      <td>NaN</td>\n",
              "      <td>1995-12-22</td>\n",
              "      <td>81.452156</td>\n",
              "      <td>127.0</td>\n",
              "      <td>English</td>\n",
              "      <td>Friends are the people who let you be yourself...</td>\n",
              "      <td>Waiting to Exhale</td>\n",
              "      <td>6.1</td>\n",
              "      <td>34.0</td>\n",
              "    </tr>\n",
              "    <tr>\n",
              "      <th>4</th>\n",
              "      <td>Father of the Bride Collection</td>\n",
              "      <td>NaN</td>\n",
              "      <td>[{'id': 35, 'name': 'Comedy'}]</td>\n",
              "      <td>11862</td>\n",
              "      <td>en</td>\n",
              "      <td>Just when George Banks has recovered from his ...</td>\n",
              "      <td>8.387519</td>\n",
              "      <td>/e64sOI48hQXyru7naBFyssKFxVd.jpg</td>\n",
              "      <td>Sandollar Productions|Touchstone Pictures</td>\n",
              "      <td>NaN</td>\n",
              "      <td>1995-02-10</td>\n",
              "      <td>76.578911</td>\n",
              "      <td>106.0</td>\n",
              "      <td>English</td>\n",
              "      <td>Just When His World Is Back To Normal... He's ...</td>\n",
              "      <td>Father of the Bride Part II</td>\n",
              "      <td>5.7</td>\n",
              "      <td>173.0</td>\n",
              "    </tr>\n",
              "  </tbody>\n",
              "</table>\n",
              "</div>"
            ],
            "text/plain": [
              "            belongs_to_collection  budget_musd  \\\n",
              "0            Toy Story Collection         30.0   \n",
              "1                             NaN         65.0   \n",
              "2       Grumpy Old Men Collection          NaN   \n",
              "3                             NaN         16.0   \n",
              "4  Father of the Bride Collection          NaN   \n",
              "\n",
              "                                              genres     id original_language  \\\n",
              "0  [{'id': 16, 'name': 'Animation'}, {'id': 35, '...    862                en   \n",
              "1  [{'id': 12, 'name': 'Adventure'}, {'id': 14, '...   8844                en   \n",
              "2  [{'id': 10749, 'name': 'Romance'}, {'id': 35, ...  15602                en   \n",
              "3  [{'id': 35, 'name': 'Comedy'}, {'id': 18, 'nam...  31357                en   \n",
              "4                     [{'id': 35, 'name': 'Comedy'}]  11862                en   \n",
              "\n",
              "                                            overview  popularity  \\\n",
              "0  Led by Woody, Andy's toys live happily in his ...   21.946943   \n",
              "1  When siblings Judy and Peter discover an encha...   17.015539   \n",
              "2  A family wedding reignites the ancient feud be...   11.712900   \n",
              "3  Cheated on, mistreated and stepped on, the wom...    3.859495   \n",
              "4  Just when George Banks has recovered from his ...    8.387519   \n",
              "\n",
              "                        poster_path  \\\n",
              "0  /rhIRbceoE9lR4veEXuwCC2wARtG.jpg   \n",
              "1  /vzmL6fP7aPKNKPRTFnZmiUfciyV.jpg   \n",
              "2  /6ksm1sjKMFLbO7UY2i6G1ju9SML.jpg   \n",
              "3  /16XOMpEaLWkrcPqSQqhTmeJuqQl.jpg   \n",
              "4  /e64sOI48hQXyru7naBFyssKFxVd.jpg   \n",
              "\n",
              "                                production_companies  production_countries  \\\n",
              "0                            Pixar Animation Studios                   NaN   \n",
              "1  TriStar Pictures|Teitler Film|Interscope Commu...                   NaN   \n",
              "2                        Warner Bros.|Lancaster Gate                   NaN   \n",
              "3             Twentieth Century Fox Film Corporation                   NaN   \n",
              "4          Sandollar Productions|Touchstone Pictures                   NaN   \n",
              "\n",
              "  release_date  revenue_musd  runtime  spoken_languages  \\\n",
              "0   1995-10-30    373.554033     81.0           English   \n",
              "1   1995-12-15    262.797249    104.0  English|Français   \n",
              "2   1995-12-22           NaN    101.0           English   \n",
              "3   1995-12-22     81.452156    127.0           English   \n",
              "4   1995-02-10     76.578911    106.0           English   \n",
              "\n",
              "                                             tagline  \\\n",
              "0                                                NaN   \n",
              "1          Roll the dice and unleash the excitement!   \n",
              "2  Still Yelling. Still Fighting. Still Ready for...   \n",
              "3  Friends are the people who let you be yourself...   \n",
              "4  Just When His World Is Back To Normal... He's ...   \n",
              "\n",
              "                         title  vote_average  vote_count  \n",
              "0                    Toy Story           7.7      5415.0  \n",
              "1                      Jumanji           6.9      2413.0  \n",
              "2             Grumpier Old Men           6.5        92.0  \n",
              "3            Waiting to Exhale           6.1        34.0  \n",
              "4  Father of the Bride Part II           5.7       173.0  "
            ]
          },
          "metadata": {},
          "execution_count": 417
        }
      ]
    },
    {
      "cell_type": "code",
      "metadata": {
        "colab": {
          "base_uri": "https://localhost:8080/"
        },
        "id": "t8gsqRNaay7o",
        "outputId": "6d770cb5-d891-4435-9fde-e41fc2257589"
      },
      "source": [
        "df.columns"
      ],
      "execution_count": 418,
      "outputs": [
        {
          "output_type": "execute_result",
          "data": {
            "text/plain": [
              "Index(['belongs_to_collection', 'budget_musd', 'genres', 'id',\n",
              "       'original_language', 'overview', 'popularity', 'poster_path',\n",
              "       'production_companies', 'production_countries', 'release_date',\n",
              "       'revenue_musd', 'runtime', 'spoken_languages', 'tagline', 'title',\n",
              "       'vote_average', 'vote_count'],\n",
              "      dtype='object')"
            ]
          },
          "metadata": {},
          "execution_count": 418
        }
      ]
    },
    {
      "cell_type": "code",
      "metadata": {
        "id": "c5skkXV9ajFI"
      },
      "source": [
        "# Re-ordering\n",
        "col=['id', 'title', 'tagline', 'release_date',\n",
        "       'genres', 'belongs_to_collection', 'original_language', 'budget_musd',\n",
        "       'revenue_musd', 'production_companies', 'production_countries',\n",
        "       'vote_count', 'vote_average', 'popularity', 'runtime', 'overview',\n",
        "       'spoken_languages', 'poster_path']"
      ],
      "execution_count": 419,
      "outputs": []
    },
    {
      "cell_type": "code",
      "metadata": {
        "id": "33dKRbL-a_Jn"
      },
      "source": [
        "df=df.loc[:,col]"
      ],
      "execution_count": 420,
      "outputs": []
    },
    {
      "cell_type": "code",
      "metadata": {
        "id": "p0l_-lD0bBV-"
      },
      "source": [
        "df.reset_index(drop=True, inplace=True)"
      ],
      "execution_count": 421,
      "outputs": []
    },
    {
      "cell_type": "code",
      "metadata": {
        "colab": {
          "base_uri": "https://localhost:8080/"
        },
        "id": "E2IQvSk7bCNx",
        "outputId": "ae592054-ec51-4ec7-e2b1-f6e96f313eee"
      },
      "source": [
        "df.info()"
      ],
      "execution_count": 422,
      "outputs": [
        {
          "output_type": "stream",
          "name": "stdout",
          "text": [
            "<class 'pandas.core.frame.DataFrame'>\n",
            "RangeIndex: 44838 entries, 0 to 44837\n",
            "Data columns (total 18 columns):\n",
            " #   Column                 Non-Null Count  Dtype         \n",
            "---  ------                 --------------  -----         \n",
            " 0   id                     44838 non-null  int64         \n",
            " 1   title                  44838 non-null  object        \n",
            " 2   tagline                20285 non-null  object        \n",
            " 3   release_date           44795 non-null  datetime64[ns]\n",
            " 4   genres                 44838 non-null  object        \n",
            " 5   belongs_to_collection  4463 non-null   object        \n",
            " 6   original_language      44829 non-null  object        \n",
            " 7   budget_musd            8855 non-null   float64       \n",
            " 8   revenue_musd           7385 non-null   float64       \n",
            " 9   production_companies   33357 non-null  object        \n",
            " 10  production_countries   0 non-null      float64       \n",
            " 11  vote_count             44838 non-null  float64       \n",
            " 12  vote_average           42136 non-null  float64       \n",
            " 13  popularity             44838 non-null  float64       \n",
            " 14  runtime                43228 non-null  float64       \n",
            " 15  overview               43846 non-null  object        \n",
            " 16  spoken_languages       41101 non-null  object        \n",
            " 17  poster_path            44562 non-null  object        \n",
            "dtypes: datetime64[ns](1), float64(7), int64(1), object(9)\n",
            "memory usage: 6.2+ MB\n"
          ]
        }
      ]
    },
    {
      "cell_type": "code",
      "metadata": {
        "colab": {
          "base_uri": "https://localhost:8080/",
          "height": 318
        },
        "id": "kZt434kMb8_-",
        "outputId": "bbd5f568-b5ec-47af-c8be-d1b8cbd9b514"
      },
      "source": [
        "df.head(2)"
      ],
      "execution_count": 423,
      "outputs": [
        {
          "output_type": "execute_result",
          "data": {
            "text/html": [
              "<div>\n",
              "<style scoped>\n",
              "    .dataframe tbody tr th:only-of-type {\n",
              "        vertical-align: middle;\n",
              "    }\n",
              "\n",
              "    .dataframe tbody tr th {\n",
              "        vertical-align: top;\n",
              "    }\n",
              "\n",
              "    .dataframe thead th {\n",
              "        text-align: right;\n",
              "    }\n",
              "</style>\n",
              "<table border=\"1\" class=\"dataframe\">\n",
              "  <thead>\n",
              "    <tr style=\"text-align: right;\">\n",
              "      <th></th>\n",
              "      <th>id</th>\n",
              "      <th>title</th>\n",
              "      <th>tagline</th>\n",
              "      <th>release_date</th>\n",
              "      <th>genres</th>\n",
              "      <th>belongs_to_collection</th>\n",
              "      <th>original_language</th>\n",
              "      <th>budget_musd</th>\n",
              "      <th>revenue_musd</th>\n",
              "      <th>production_companies</th>\n",
              "      <th>production_countries</th>\n",
              "      <th>vote_count</th>\n",
              "      <th>vote_average</th>\n",
              "      <th>popularity</th>\n",
              "      <th>runtime</th>\n",
              "      <th>overview</th>\n",
              "      <th>spoken_languages</th>\n",
              "      <th>poster_path</th>\n",
              "    </tr>\n",
              "  </thead>\n",
              "  <tbody>\n",
              "    <tr>\n",
              "      <th>0</th>\n",
              "      <td>862</td>\n",
              "      <td>Toy Story</td>\n",
              "      <td>NaN</td>\n",
              "      <td>1995-10-30</td>\n",
              "      <td>[{'id': 16, 'name': 'Animation'}, {'id': 35, '...</td>\n",
              "      <td>Toy Story Collection</td>\n",
              "      <td>en</td>\n",
              "      <td>30.0</td>\n",
              "      <td>373.554033</td>\n",
              "      <td>Pixar Animation Studios</td>\n",
              "      <td>NaN</td>\n",
              "      <td>5415.0</td>\n",
              "      <td>7.7</td>\n",
              "      <td>21.946943</td>\n",
              "      <td>81.0</td>\n",
              "      <td>Led by Woody, Andy's toys live happily in his ...</td>\n",
              "      <td>English</td>\n",
              "      <td>/rhIRbceoE9lR4veEXuwCC2wARtG.jpg</td>\n",
              "    </tr>\n",
              "    <tr>\n",
              "      <th>1</th>\n",
              "      <td>8844</td>\n",
              "      <td>Jumanji</td>\n",
              "      <td>Roll the dice and unleash the excitement!</td>\n",
              "      <td>1995-12-15</td>\n",
              "      <td>[{'id': 12, 'name': 'Adventure'}, {'id': 14, '...</td>\n",
              "      <td>NaN</td>\n",
              "      <td>en</td>\n",
              "      <td>65.0</td>\n",
              "      <td>262.797249</td>\n",
              "      <td>TriStar Pictures|Teitler Film|Interscope Commu...</td>\n",
              "      <td>NaN</td>\n",
              "      <td>2413.0</td>\n",
              "      <td>6.9</td>\n",
              "      <td>17.015539</td>\n",
              "      <td>104.0</td>\n",
              "      <td>When siblings Judy and Peter discover an encha...</td>\n",
              "      <td>English|Français</td>\n",
              "      <td>/vzmL6fP7aPKNKPRTFnZmiUfciyV.jpg</td>\n",
              "    </tr>\n",
              "  </tbody>\n",
              "</table>\n",
              "</div>"
            ],
            "text/plain": [
              "     id      title                                    tagline release_date  \\\n",
              "0   862  Toy Story                                        NaN   1995-10-30   \n",
              "1  8844    Jumanji  Roll the dice and unleash the excitement!   1995-12-15   \n",
              "\n",
              "                                              genres belongs_to_collection  \\\n",
              "0  [{'id': 16, 'name': 'Animation'}, {'id': 35, '...  Toy Story Collection   \n",
              "1  [{'id': 12, 'name': 'Adventure'}, {'id': 14, '...                   NaN   \n",
              "\n",
              "  original_language  budget_musd  revenue_musd  \\\n",
              "0                en         30.0    373.554033   \n",
              "1                en         65.0    262.797249   \n",
              "\n",
              "                                production_companies  production_countries  \\\n",
              "0                            Pixar Animation Studios                   NaN   \n",
              "1  TriStar Pictures|Teitler Film|Interscope Commu...                   NaN   \n",
              "\n",
              "   vote_count  vote_average  popularity  runtime  \\\n",
              "0      5415.0           7.7   21.946943     81.0   \n",
              "1      2413.0           6.9   17.015539    104.0   \n",
              "\n",
              "                                            overview  spoken_languages  \\\n",
              "0  Led by Woody, Andy's toys live happily in his ...           English   \n",
              "1  When siblings Judy and Peter discover an encha...  English|Français   \n",
              "\n",
              "                        poster_path  \n",
              "0  /rhIRbceoE9lR4veEXuwCC2wARtG.jpg  \n",
              "1  /vzmL6fP7aPKNKPRTFnZmiUfciyV.jpg  "
            ]
          },
          "metadata": {},
          "execution_count": 423
        }
      ]
    },
    {
      "cell_type": "code",
      "metadata": {
        "colab": {
          "base_uri": "https://localhost:8080/",
          "height": 35
        },
        "id": "4id_DjiecILy",
        "outputId": "2d201a36-4cd4-4606-d446-707d4d2b8370"
      },
      "source": [
        "df.poster_path[0]"
      ],
      "execution_count": 424,
      "outputs": [
        {
          "output_type": "execute_result",
          "data": {
            "application/vnd.google.colaboratory.intrinsic+json": {
              "type": "string"
            },
            "text/plain": [
              "'/rhIRbceoE9lR4veEXuwCC2wARtG.jpg'"
            ]
          },
          "metadata": {},
          "execution_count": 424
        }
      ]
    },
    {
      "cell_type": "code",
      "metadata": {
        "id": "Yk0QGyPGcQat"
      },
      "source": [
        "base_poster_url='https://image.tmdb.org/t/p/w185/'\n",
        "df.poster_path=\"<img src'\"+base_poster_url+df.poster_path+\"' style='height:100px;'>\""
      ],
      "execution_count": 425,
      "outputs": []
    },
    {
      "cell_type": "code",
      "metadata": {
        "id": "JeVDsh-XcqRg"
      },
      "source": [
        "df.to_csv(\"movies_clean.csv\",index=False)"
      ],
      "execution_count": 426,
      "outputs": []
    },
    {
      "cell_type": "code",
      "metadata": {
        "colab": {
          "base_uri": "https://localhost:8080/"
        },
        "id": "UDg9fDKBcvv2",
        "outputId": "4104de09-b29c-4acb-d23c-641d0df28399"
      },
      "source": [
        "pd.read_csv('movies_clean.csv').info()"
      ],
      "execution_count": 427,
      "outputs": [
        {
          "output_type": "stream",
          "name": "stdout",
          "text": [
            "<class 'pandas.core.frame.DataFrame'>\n",
            "RangeIndex: 44838 entries, 0 to 44837\n",
            "Data columns (total 18 columns):\n",
            " #   Column                 Non-Null Count  Dtype  \n",
            "---  ------                 --------------  -----  \n",
            " 0   id                     44838 non-null  int64  \n",
            " 1   title                  44838 non-null  object \n",
            " 2   tagline                20285 non-null  object \n",
            " 3   release_date           44795 non-null  object \n",
            " 4   genres                 44838 non-null  object \n",
            " 5   belongs_to_collection  4463 non-null   object \n",
            " 6   original_language      44829 non-null  object \n",
            " 7   budget_musd            8855 non-null   float64\n",
            " 8   revenue_musd           7385 non-null   float64\n",
            " 9   production_companies   33357 non-null  object \n",
            " 10  production_countries   0 non-null      float64\n",
            " 11  vote_count             44838 non-null  float64\n",
            " 12  vote_average           42136 non-null  float64\n",
            " 13  popularity             44838 non-null  float64\n",
            " 14  runtime                43228 non-null  float64\n",
            " 15  overview               43846 non-null  object \n",
            " 16  spoken_languages       41101 non-null  object \n",
            " 17  poster_path            44562 non-null  object \n",
            "dtypes: float64(7), int64(1), object(10)\n",
            "memory usage: 6.2+ MB\n"
          ]
        }
      ]
    },
    {
      "cell_type": "code",
      "metadata": {
        "colab": {
          "base_uri": "https://localhost:8080/",
          "height": 35
        },
        "id": "D6dlN71nc0rF",
        "outputId": "047afd59-4604-4368-9931-d891b21e4ab2"
      },
      "source": [
        "df.poster_path[0]"
      ],
      "execution_count": 428,
      "outputs": [
        {
          "output_type": "execute_result",
          "data": {
            "application/vnd.google.colaboratory.intrinsic+json": {
              "type": "string"
            },
            "text/plain": [
              "\"<img src'https://image.tmdb.org/t/p/w185//rhIRbceoE9lR4veEXuwCC2wARtG.jpg' style='height:100px;'>\""
            ]
          },
          "metadata": {},
          "execution_count": 428
        }
      ]
    },
    {
      "cell_type": "code",
      "metadata": {
        "id": "79xcAhggdExO"
      },
      "source": [
        ""
      ],
      "execution_count": 428,
      "outputs": []
    }
  ]
}